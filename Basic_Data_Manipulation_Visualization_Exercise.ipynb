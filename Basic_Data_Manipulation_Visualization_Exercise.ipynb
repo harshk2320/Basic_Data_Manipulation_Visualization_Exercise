{
 "cells": [
  {
   "cell_type": "markdown",
   "metadata": {},
   "source": [
    "# Basic Exercises on Data Importing - Understanding - Manipulating - Analysis - Visualization"
   ]
  },
  {
   "cell_type": "markdown",
   "metadata": {},
   "source": [
    "## Section-1: The pupose of the below exercises (1-7) is to create dictionary and convert into dataframes, how to diplay etc...\n",
    "## The below exercises required to create data "
   ]
  },
  {
   "cell_type": "markdown",
   "metadata": {},
   "source": [
    "### 1. Import the necessary libraries (pandas, numpy, datetime, re etc)"
   ]
  },
  {
   "cell_type": "code",
   "execution_count": 689,
   "metadata": {},
   "outputs": [],
   "source": [
    "# Importing libraries.\n",
    "import pandas as pd\n",
    "import numpy as np\n",
    "import matplotlib.pyplot as plt\n",
    "import datetime\n",
    "import seaborn as sns\n",
    "import re\n",
    "\n",
    "# set the graphs to show in the jupyter notebook\n",
    "%matplotlib inline\n",
    "\n",
    "# set seabor graphs to a better style\n",
    "sns.set(style=\"ticks\")"
   ]
  },
  {
   "cell_type": "markdown",
   "metadata": {},
   "source": [
    "### 2. Run the below line of code to create a dictionary and this will be used for below exercises"
   ]
  },
  {
   "cell_type": "code",
   "execution_count": 690,
   "metadata": {},
   "outputs": [],
   "source": [
    "raw_data = {\"name\": ['Bulbasaur', 'Charmander','Squirtle','Caterpie'],\n",
    "            \"evolution\": ['Ivysaur','Charmeleon','Wartortle','Metapod'],\n",
    "            \"type\": ['grass', 'fire', 'water', 'bug'],\n",
    "            \"hp\": [45, 39, 44, 45],\n",
    "            \"pokedex\": ['yes', 'no','yes','no']                        \n",
    "            }"
   ]
  },
  {
   "cell_type": "markdown",
   "metadata": {},
   "source": [
    "### 3. Assign it to a object called pokemon and it should be a pandas DataFrame"
   ]
  },
  {
   "cell_type": "code",
   "execution_count": 691,
   "metadata": {},
   "outputs": [
    {
     "data": {
      "text/html": [
       "<div>\n",
       "<style scoped>\n",
       "    .dataframe tbody tr th:only-of-type {\n",
       "        vertical-align: middle;\n",
       "    }\n",
       "\n",
       "    .dataframe tbody tr th {\n",
       "        vertical-align: top;\n",
       "    }\n",
       "\n",
       "    .dataframe thead th {\n",
       "        text-align: right;\n",
       "    }\n",
       "</style>\n",
       "<table border=\"1\" class=\"dataframe\">\n",
       "  <thead>\n",
       "    <tr style=\"text-align: right;\">\n",
       "      <th></th>\n",
       "      <th>name</th>\n",
       "      <th>evolution</th>\n",
       "      <th>type</th>\n",
       "      <th>hp</th>\n",
       "      <th>pokedex</th>\n",
       "    </tr>\n",
       "  </thead>\n",
       "  <tbody>\n",
       "    <tr>\n",
       "      <th>0</th>\n",
       "      <td>Bulbasaur</td>\n",
       "      <td>Ivysaur</td>\n",
       "      <td>grass</td>\n",
       "      <td>45</td>\n",
       "      <td>yes</td>\n",
       "    </tr>\n",
       "    <tr>\n",
       "      <th>1</th>\n",
       "      <td>Charmander</td>\n",
       "      <td>Charmeleon</td>\n",
       "      <td>fire</td>\n",
       "      <td>39</td>\n",
       "      <td>no</td>\n",
       "    </tr>\n",
       "    <tr>\n",
       "      <th>2</th>\n",
       "      <td>Squirtle</td>\n",
       "      <td>Wartortle</td>\n",
       "      <td>water</td>\n",
       "      <td>44</td>\n",
       "      <td>yes</td>\n",
       "    </tr>\n",
       "    <tr>\n",
       "      <th>3</th>\n",
       "      <td>Caterpie</td>\n",
       "      <td>Metapod</td>\n",
       "      <td>bug</td>\n",
       "      <td>45</td>\n",
       "      <td>no</td>\n",
       "    </tr>\n",
       "  </tbody>\n",
       "</table>\n",
       "</div>"
      ],
      "text/plain": [
       "         name   evolution   type  hp pokedex\n",
       "0   Bulbasaur     Ivysaur  grass  45     yes\n",
       "1  Charmander  Charmeleon   fire  39      no\n",
       "2    Squirtle   Wartortle  water  44     yes\n",
       "3    Caterpie     Metapod    bug  45      no"
      ]
     },
     "execution_count": 691,
     "metadata": {},
     "output_type": "execute_result"
    }
   ],
   "source": [
    "pokemon = pd.DataFrame(raw_data)\n",
    "pokemon.head() # Viewing the data"
   ]
  },
  {
   "cell_type": "markdown",
   "metadata": {},
   "source": [
    "### 4. If the DataFrame columns are in alphabetical order, change the order of the columns as name, type, hp, evolution, pokedex"
   ]
  },
  {
   "cell_type": "code",
   "execution_count": 692,
   "metadata": {},
   "outputs": [
    {
     "data": {
      "text/html": [
       "<div>\n",
       "<style scoped>\n",
       "    .dataframe tbody tr th:only-of-type {\n",
       "        vertical-align: middle;\n",
       "    }\n",
       "\n",
       "    .dataframe tbody tr th {\n",
       "        vertical-align: top;\n",
       "    }\n",
       "\n",
       "    .dataframe thead th {\n",
       "        text-align: right;\n",
       "    }\n",
       "</style>\n",
       "<table border=\"1\" class=\"dataframe\">\n",
       "  <thead>\n",
       "    <tr style=\"text-align: right;\">\n",
       "      <th></th>\n",
       "      <th>name</th>\n",
       "      <th>type</th>\n",
       "      <th>hp</th>\n",
       "      <th>evolution</th>\n",
       "      <th>pokedex</th>\n",
       "    </tr>\n",
       "  </thead>\n",
       "  <tbody>\n",
       "    <tr>\n",
       "      <th>0</th>\n",
       "      <td>Bulbasaur</td>\n",
       "      <td>grass</td>\n",
       "      <td>45</td>\n",
       "      <td>Ivysaur</td>\n",
       "      <td>yes</td>\n",
       "    </tr>\n",
       "    <tr>\n",
       "      <th>1</th>\n",
       "      <td>Charmander</td>\n",
       "      <td>fire</td>\n",
       "      <td>39</td>\n",
       "      <td>Charmeleon</td>\n",
       "      <td>no</td>\n",
       "    </tr>\n",
       "    <tr>\n",
       "      <th>2</th>\n",
       "      <td>Squirtle</td>\n",
       "      <td>water</td>\n",
       "      <td>44</td>\n",
       "      <td>Wartortle</td>\n",
       "      <td>yes</td>\n",
       "    </tr>\n",
       "    <tr>\n",
       "      <th>3</th>\n",
       "      <td>Caterpie</td>\n",
       "      <td>bug</td>\n",
       "      <td>45</td>\n",
       "      <td>Metapod</td>\n",
       "      <td>no</td>\n",
       "    </tr>\n",
       "  </tbody>\n",
       "</table>\n",
       "</div>"
      ],
      "text/plain": [
       "         name   type  hp   evolution pokedex\n",
       "0   Bulbasaur  grass  45     Ivysaur     yes\n",
       "1  Charmander   fire  39  Charmeleon      no\n",
       "2    Squirtle  water  44   Wartortle     yes\n",
       "3    Caterpie    bug  45     Metapod      no"
      ]
     },
     "execution_count": 692,
     "metadata": {},
     "output_type": "execute_result"
    }
   ],
   "source": [
    "pokemon.loc[:, ['name', 'type', \"hp\", \"evolution\", \"pokedex\" ]]"
   ]
  },
  {
   "cell_type": "markdown",
   "metadata": {},
   "source": [
    "### 5. Add another column called place, and insert places (lakes, parks, hills, forest etc) of your choice."
   ]
  },
  {
   "cell_type": "code",
   "execution_count": 693,
   "metadata": {},
   "outputs": [
    {
     "data": {
      "text/html": [
       "<div>\n",
       "<style scoped>\n",
       "    .dataframe tbody tr th:only-of-type {\n",
       "        vertical-align: middle;\n",
       "    }\n",
       "\n",
       "    .dataframe tbody tr th {\n",
       "        vertical-align: top;\n",
       "    }\n",
       "\n",
       "    .dataframe thead th {\n",
       "        text-align: right;\n",
       "    }\n",
       "</style>\n",
       "<table border=\"1\" class=\"dataframe\">\n",
       "  <thead>\n",
       "    <tr style=\"text-align: right;\">\n",
       "      <th></th>\n",
       "      <th>name</th>\n",
       "      <th>evolution</th>\n",
       "      <th>type</th>\n",
       "      <th>hp</th>\n",
       "      <th>pokedex</th>\n",
       "      <th>place</th>\n",
       "    </tr>\n",
       "  </thead>\n",
       "  <tbody>\n",
       "    <tr>\n",
       "      <th>0</th>\n",
       "      <td>Bulbasaur</td>\n",
       "      <td>Ivysaur</td>\n",
       "      <td>grass</td>\n",
       "      <td>45</td>\n",
       "      <td>yes</td>\n",
       "      <td>lakes</td>\n",
       "    </tr>\n",
       "    <tr>\n",
       "      <th>1</th>\n",
       "      <td>Charmander</td>\n",
       "      <td>Charmeleon</td>\n",
       "      <td>fire</td>\n",
       "      <td>39</td>\n",
       "      <td>no</td>\n",
       "      <td>parks</td>\n",
       "    </tr>\n",
       "    <tr>\n",
       "      <th>2</th>\n",
       "      <td>Squirtle</td>\n",
       "      <td>Wartortle</td>\n",
       "      <td>water</td>\n",
       "      <td>44</td>\n",
       "      <td>yes</td>\n",
       "      <td>hills</td>\n",
       "    </tr>\n",
       "    <tr>\n",
       "      <th>3</th>\n",
       "      <td>Caterpie</td>\n",
       "      <td>Metapod</td>\n",
       "      <td>bug</td>\n",
       "      <td>45</td>\n",
       "      <td>no</td>\n",
       "      <td>forest</td>\n",
       "    </tr>\n",
       "  </tbody>\n",
       "</table>\n",
       "</div>"
      ],
      "text/plain": [
       "         name   evolution   type  hp pokedex   place\n",
       "0   Bulbasaur     Ivysaur  grass  45     yes   lakes\n",
       "1  Charmander  Charmeleon   fire  39      no   parks\n",
       "2    Squirtle   Wartortle  water  44     yes   hills\n",
       "3    Caterpie     Metapod    bug  45      no  forest"
      ]
     },
     "execution_count": 693,
     "metadata": {},
     "output_type": "execute_result"
    }
   ],
   "source": [
    "pokemon.loc[:, ['place']]= ['lakes', 'parks', 'hills', 'forest']\n",
    "pokemon.head()"
   ]
  },
  {
   "cell_type": "markdown",
   "metadata": {},
   "source": [
    "### 6. Display the data type of each column"
   ]
  },
  {
   "cell_type": "code",
   "execution_count": 694,
   "metadata": {},
   "outputs": [
    {
     "data": {
      "text/plain": [
       "name         object\n",
       "evolution    object\n",
       "type         object\n",
       "hp            int64\n",
       "pokedex      object\n",
       "place        object\n",
       "dtype: object"
      ]
     },
     "execution_count": 694,
     "metadata": {},
     "output_type": "execute_result"
    }
   ],
   "source": [
    "pokemon.dtypes"
   ]
  },
  {
   "cell_type": "markdown",
   "metadata": {},
   "source": [
    "### 7. Display the info of dataframe"
   ]
  },
  {
   "cell_type": "code",
   "execution_count": 695,
   "metadata": {},
   "outputs": [
    {
     "name": "stdout",
     "output_type": "stream",
     "text": [
      "<class 'pandas.core.frame.DataFrame'>\n",
      "RangeIndex: 4 entries, 0 to 3\n",
      "Data columns (total 6 columns):\n",
      " #   Column     Non-Null Count  Dtype \n",
      "---  ------     --------------  ----- \n",
      " 0   name       4 non-null      object\n",
      " 1   evolution  4 non-null      object\n",
      " 2   type       4 non-null      object\n",
      " 3   hp         4 non-null      int64 \n",
      " 4   pokedex    4 non-null      object\n",
      " 5   place      4 non-null      object\n",
      "dtypes: int64(1), object(5)\n",
      "memory usage: 320.0+ bytes\n"
     ]
    }
   ],
   "source": [
    "pokemon.info()"
   ]
  },
  {
   "cell_type": "markdown",
   "metadata": {},
   "source": [
    "## Section-2: The pupose of the below exercise (8-20) is to understand deleting data with pandas.\n",
    "## The below exercises required to use wine.data"
   ]
  },
  {
   "cell_type": "markdown",
   "metadata": {},
   "source": [
    "### 8. Import the dataset *wine.txt* from the folder and assign it to a object called wine\n",
    "\n",
    "Please note that the original data text file doesn't contain any header. Please ensure that when you import the data, you should use a suitable argument so as to avoid data getting imported as header."
   ]
  },
  {
   "cell_type": "code",
   "execution_count": 696,
   "metadata": {},
   "outputs": [],
   "source": [
    "# Reading the dataset\n",
    "wine = pd.read_csv(\"F:\\\\AnalyticslabFIles\\\\assignments\\\\python\\\\wine.txt\", header = None)"
   ]
  },
  {
   "cell_type": "code",
   "execution_count": 697,
   "metadata": {},
   "outputs": [
    {
     "data": {
      "text/html": [
       "<div>\n",
       "<style scoped>\n",
       "    .dataframe tbody tr th:only-of-type {\n",
       "        vertical-align: middle;\n",
       "    }\n",
       "\n",
       "    .dataframe tbody tr th {\n",
       "        vertical-align: top;\n",
       "    }\n",
       "\n",
       "    .dataframe thead th {\n",
       "        text-align: right;\n",
       "    }\n",
       "</style>\n",
       "<table border=\"1\" class=\"dataframe\">\n",
       "  <thead>\n",
       "    <tr style=\"text-align: right;\">\n",
       "      <th></th>\n",
       "      <th>0</th>\n",
       "      <th>1</th>\n",
       "      <th>2</th>\n",
       "      <th>3</th>\n",
       "      <th>4</th>\n",
       "      <th>5</th>\n",
       "      <th>6</th>\n",
       "      <th>7</th>\n",
       "      <th>8</th>\n",
       "      <th>9</th>\n",
       "      <th>10</th>\n",
       "      <th>11</th>\n",
       "      <th>12</th>\n",
       "      <th>13</th>\n",
       "    </tr>\n",
       "  </thead>\n",
       "  <tbody>\n",
       "    <tr>\n",
       "      <th>0</th>\n",
       "      <td>1</td>\n",
       "      <td>14.23</td>\n",
       "      <td>1.71</td>\n",
       "      <td>2.43</td>\n",
       "      <td>15.6</td>\n",
       "      <td>127</td>\n",
       "      <td>2.80</td>\n",
       "      <td>3.06</td>\n",
       "      <td>0.28</td>\n",
       "      <td>2.29</td>\n",
       "      <td>5.64</td>\n",
       "      <td>1.04</td>\n",
       "      <td>3.92</td>\n",
       "      <td>1065</td>\n",
       "    </tr>\n",
       "    <tr>\n",
       "      <th>1</th>\n",
       "      <td>1</td>\n",
       "      <td>13.20</td>\n",
       "      <td>1.78</td>\n",
       "      <td>2.14</td>\n",
       "      <td>11.2</td>\n",
       "      <td>100</td>\n",
       "      <td>2.65</td>\n",
       "      <td>2.76</td>\n",
       "      <td>0.26</td>\n",
       "      <td>1.28</td>\n",
       "      <td>4.38</td>\n",
       "      <td>1.05</td>\n",
       "      <td>3.40</td>\n",
       "      <td>1050</td>\n",
       "    </tr>\n",
       "    <tr>\n",
       "      <th>2</th>\n",
       "      <td>1</td>\n",
       "      <td>13.16</td>\n",
       "      <td>2.36</td>\n",
       "      <td>2.67</td>\n",
       "      <td>18.6</td>\n",
       "      <td>101</td>\n",
       "      <td>2.80</td>\n",
       "      <td>3.24</td>\n",
       "      <td>0.30</td>\n",
       "      <td>2.81</td>\n",
       "      <td>5.68</td>\n",
       "      <td>1.03</td>\n",
       "      <td>3.17</td>\n",
       "      <td>1185</td>\n",
       "    </tr>\n",
       "    <tr>\n",
       "      <th>3</th>\n",
       "      <td>1</td>\n",
       "      <td>14.37</td>\n",
       "      <td>1.95</td>\n",
       "      <td>2.50</td>\n",
       "      <td>16.8</td>\n",
       "      <td>113</td>\n",
       "      <td>3.85</td>\n",
       "      <td>3.49</td>\n",
       "      <td>0.24</td>\n",
       "      <td>2.18</td>\n",
       "      <td>7.80</td>\n",
       "      <td>0.86</td>\n",
       "      <td>3.45</td>\n",
       "      <td>1480</td>\n",
       "    </tr>\n",
       "    <tr>\n",
       "      <th>4</th>\n",
       "      <td>1</td>\n",
       "      <td>13.24</td>\n",
       "      <td>2.59</td>\n",
       "      <td>2.87</td>\n",
       "      <td>21.0</td>\n",
       "      <td>118</td>\n",
       "      <td>2.80</td>\n",
       "      <td>2.69</td>\n",
       "      <td>0.39</td>\n",
       "      <td>1.82</td>\n",
       "      <td>4.32</td>\n",
       "      <td>1.04</td>\n",
       "      <td>2.93</td>\n",
       "      <td>735</td>\n",
       "    </tr>\n",
       "  </tbody>\n",
       "</table>\n",
       "</div>"
      ],
      "text/plain": [
       "   0      1     2     3     4    5     6     7     8     9     10    11    12  \\\n",
       "0   1  14.23  1.71  2.43  15.6  127  2.80  3.06  0.28  2.29  5.64  1.04  3.92   \n",
       "1   1  13.20  1.78  2.14  11.2  100  2.65  2.76  0.26  1.28  4.38  1.05  3.40   \n",
       "2   1  13.16  2.36  2.67  18.6  101  2.80  3.24  0.30  2.81  5.68  1.03  3.17   \n",
       "3   1  14.37  1.95  2.50  16.8  113  3.85  3.49  0.24  2.18  7.80  0.86  3.45   \n",
       "4   1  13.24  2.59  2.87  21.0  118  2.80  2.69  0.39  1.82  4.32  1.04  2.93   \n",
       "\n",
       "     13  \n",
       "0  1065  \n",
       "1  1050  \n",
       "2  1185  \n",
       "3  1480  \n",
       "4   735  "
      ]
     },
     "execution_count": 697,
     "metadata": {},
     "output_type": "execute_result"
    }
   ],
   "source": [
    "# Viewing the dataset\n",
    "wine.head()"
   ]
  },
  {
   "cell_type": "markdown",
   "metadata": {},
   "source": [
    "### 9. Delete the first, fourth, seventh, nineth, eleventh, thirteenth and fourteenth columns"
   ]
  },
  {
   "cell_type": "code",
   "execution_count": 698,
   "metadata": {},
   "outputs": [],
   "source": [
    "wine.drop(wine.loc[:, [0, 3, 6, 8, 10, 12, 13]], axis = 1, inplace= True)"
   ]
  },
  {
   "cell_type": "markdown",
   "metadata": {},
   "source": [
    "### 10. Assign the columns as below:\n",
    "\n",
    "The attributes are (dontated by Riccardo Leardi, riclea '@' anchem.unige.it):  \n",
    "1) alcohol  \n",
    "2) malic_acid  \n",
    "3) alcalinity_of_ash  \n",
    "4) magnesium  \n",
    "5) flavanoids  \n",
    "6) proanthocyanins  \n",
    "7) hue "
   ]
  },
  {
   "cell_type": "code",
   "execution_count": 699,
   "metadata": {},
   "outputs": [],
   "source": [
    "wine.columns = ['alcohol', 'malic_acid', 'alcalinity_of_ash', 'magnesium', 'flavanoids', 'proanthocyanins', 'hue']"
   ]
  },
  {
   "cell_type": "markdown",
   "metadata": {},
   "source": [
    "### 11. Set the values of the first 3 values from alcohol column as NaN"
   ]
  },
  {
   "cell_type": "code",
   "execution_count": 700,
   "metadata": {},
   "outputs": [],
   "source": [
    "wine.loc[:2, 'alcohol'] = np.NaN"
   ]
  },
  {
   "cell_type": "markdown",
   "metadata": {},
   "source": [
    "### 12. Now set the value of the rows 3 and 4 of magnesium as NaN"
   ]
  },
  {
   "cell_type": "code",
   "execution_count": 701,
   "metadata": {},
   "outputs": [],
   "source": [
    "wine.loc[3:4, 'magnesium'] = np.NaN"
   ]
  },
  {
   "cell_type": "markdown",
   "metadata": {},
   "source": [
    "### 13. Fill the value of NaN with the number 10 in alcohol and 100 in magnesium"
   ]
  },
  {
   "cell_type": "code",
   "execution_count": 702,
   "metadata": {},
   "outputs": [],
   "source": [
    "wine.loc[:, ['alcohol', 'magnesium']].fillna(value= {'alcohol': 10, 'magnesium':100}, inplace= True)"
   ]
  },
  {
   "cell_type": "markdown",
   "metadata": {},
   "source": [
    "### 14. Count the number of missing values in all columns."
   ]
  },
  {
   "cell_type": "code",
   "execution_count": 703,
   "metadata": {},
   "outputs": [
    {
     "data": {
      "text/plain": [
       "alcohol              3\n",
       "malic_acid           0\n",
       "alcalinity_of_ash    0\n",
       "magnesium            2\n",
       "flavanoids           0\n",
       "proanthocyanins      0\n",
       "hue                  0\n",
       "dtype: int64"
      ]
     },
     "execution_count": 703,
     "metadata": {},
     "output_type": "execute_result"
    }
   ],
   "source": [
    "wine.isna().sum()"
   ]
  },
  {
   "cell_type": "markdown",
   "metadata": {},
   "source": [
    "### 15.  Create an array of 10 random numbers up until 10 and save it."
   ]
  },
  {
   "cell_type": "code",
   "execution_count": 704,
   "metadata": {},
   "outputs": [
    {
     "data": {
      "text/plain": [
       "array([9, 6, 0, 5, 9, 7, 9, 7, 6, 7])"
      ]
     },
     "execution_count": 704,
     "metadata": {},
     "output_type": "execute_result"
    }
   ],
   "source": [
    "rand_num = np.array(np.random.randint(0, 10, 10))\n",
    "rand_num"
   ]
  },
  {
   "cell_type": "markdown",
   "metadata": {},
   "source": [
    "### 16.  Set the rows corresponding to the random numbers to NaN in the column *alcohol*"
   ]
  },
  {
   "cell_type": "code",
   "execution_count": 705,
   "metadata": {},
   "outputs": [],
   "source": [
    "wine.loc[rand_num, 'alcohol'] = np.NaN"
   ]
  },
  {
   "cell_type": "markdown",
   "metadata": {},
   "source": [
    "### 17.  How many missing values do we have now?"
   ]
  },
  {
   "cell_type": "code",
   "execution_count": 706,
   "metadata": {},
   "outputs": [
    {
     "data": {
      "text/plain": [
       "alcohol              7\n",
       "malic_acid           0\n",
       "alcalinity_of_ash    0\n",
       "magnesium            2\n",
       "flavanoids           0\n",
       "proanthocyanins      0\n",
       "hue                  0\n",
       "dtype: int64"
      ]
     },
     "execution_count": 706,
     "metadata": {},
     "output_type": "execute_result"
    }
   ],
   "source": [
    "wine.isna().sum()"
   ]
  },
  {
   "cell_type": "markdown",
   "metadata": {},
   "source": [
    "### 18. Print only the non-null values in alcohol"
   ]
  },
  {
   "cell_type": "code",
   "execution_count": 707,
   "metadata": {},
   "outputs": [
    {
     "data": {
      "text/plain": [
       "3      14.37\n",
       "4      13.24\n",
       "8      14.83\n",
       "10     14.10\n",
       "11     14.12\n",
       "       ...  \n",
       "173    13.71\n",
       "174    13.40\n",
       "175    13.27\n",
       "176    13.17\n",
       "177    14.13\n",
       "Name: alcohol, Length: 171, dtype: float64"
      ]
     },
     "execution_count": 707,
     "metadata": {},
     "output_type": "execute_result"
    }
   ],
   "source": [
    "wine.loc[~wine.alcohol.isna(), 'alcohol']"
   ]
  },
  {
   "cell_type": "markdown",
   "metadata": {},
   "source": [
    "### 19. Delete the rows that contain missing values"
   ]
  },
  {
   "cell_type": "code",
   "execution_count": 708,
   "metadata": {},
   "outputs": [],
   "source": [
    "wine.dropna(inplace = True)"
   ]
  },
  {
   "cell_type": "markdown",
   "metadata": {},
   "source": [
    "### 20.  Reset the index, so it starts with 0 again"
   ]
  },
  {
   "cell_type": "code",
   "execution_count": 709,
   "metadata": {},
   "outputs": [],
   "source": [
    "wine.reset_index(drop= True, inplace= True)"
   ]
  },
  {
   "cell_type": "markdown",
   "metadata": {},
   "source": [
    "## Section-3: The pupose of the below exercise (21-27) is to understand ***filtering & sorting*** data from dataframe.\n",
    "## The below exercises required to use chipotle.tsv"
   ]
  },
  {
   "cell_type": "markdown",
   "metadata": {},
   "source": [
    "This time we are going to pull data directly from the internet.  \n",
    "Import the dataset directly from this link (https://raw.githubusercontent.com/justmarkham/DAT8/master/data/chipotle.tsv) and create dataframe called chipo"
   ]
  },
  {
   "cell_type": "code",
   "execution_count": 710,
   "metadata": {},
   "outputs": [],
   "source": [
    "chipo = pd.read_csv('https://raw.githubusercontent.com/justmarkham/DAT8/master/data/chipotle.tsv', sep= '\\t')"
   ]
  },
  {
   "cell_type": "markdown",
   "metadata": {},
   "source": [
    "### 21. How many products cost more than $10.00? \n",
    "\n",
    "Use `str` attribute to remove the $ sign and convert the column to proper numeric type data before filtering.\n"
   ]
  },
  {
   "cell_type": "code",
   "execution_count": 711,
   "metadata": {},
   "outputs": [],
   "source": [
    "# Removing '$' from item_price column.\n",
    "chipo.item_price = chipo.loc[:, 'item_price'].str.replace('$', '').astype(np.float)"
   ]
  },
  {
   "cell_type": "code",
   "execution_count": 712,
   "metadata": {},
   "outputs": [
    {
     "data": {
      "text/plain": [
       "0     2.39\n",
       "1     3.39\n",
       "2     3.39\n",
       "3     2.39\n",
       "4    16.98\n",
       "Name: item_price, dtype: float64"
      ]
     },
     "execution_count": 712,
     "metadata": {},
     "output_type": "execute_result"
    }
   ],
   "source": [
    "chipo.item_price.head()"
   ]
  },
  {
   "cell_type": "code",
   "execution_count": 713,
   "metadata": {},
   "outputs": [
    {
     "data": {
      "text/plain": [
       "1130"
      ]
     },
     "execution_count": 713,
     "metadata": {},
     "output_type": "execute_result"
    }
   ],
   "source": [
    "chipo.loc[chipo.item_price > 10, 'item_name'].count()"
   ]
  },
  {
   "cell_type": "markdown",
   "metadata": {},
   "source": [
    "### 22. Print the Chipo Dataframe & info about data frame"
   ]
  },
  {
   "cell_type": "code",
   "execution_count": 714,
   "metadata": {},
   "outputs": [
    {
     "name": "stdout",
     "output_type": "stream",
     "text": [
      "<class 'pandas.core.frame.DataFrame'>\n",
      "RangeIndex: 4622 entries, 0 to 4621\n",
      "Data columns (total 5 columns):\n",
      " #   Column              Non-Null Count  Dtype  \n",
      "---  ------              --------------  -----  \n",
      " 0   order_id            4622 non-null   int64  \n",
      " 1   quantity            4622 non-null   int64  \n",
      " 2   item_name           4622 non-null   object \n",
      " 3   choice_description  3376 non-null   object \n",
      " 4   item_price          4622 non-null   float64\n",
      "dtypes: float64(1), int64(2), object(2)\n",
      "memory usage: 180.7+ KB\n"
     ]
    }
   ],
   "source": [
    "chipo.info()"
   ]
  },
  {
   "cell_type": "markdown",
   "metadata": {},
   "source": [
    "### 23. What is the price of each item? \n",
    "- Delete the duplicates in item_name and quantity\n",
    "- Print a data frame with only two columns `item_name` and `item_price`\n",
    "- Sort the values from the most to less expensive"
   ]
  },
  {
   "cell_type": "code",
   "execution_count": 715,
   "metadata": {},
   "outputs": [],
   "source": [
    "# Delete the duplicates in item_name and quantity.\n",
    "chipo.drop_duplicates(subset = ['item_name', 'quantity'], inplace = True)"
   ]
  },
  {
   "cell_type": "code",
   "execution_count": 716,
   "metadata": {},
   "outputs": [
    {
     "data": {
      "text/html": [
       "<div>\n",
       "<style scoped>\n",
       "    .dataframe tbody tr th:only-of-type {\n",
       "        vertical-align: middle;\n",
       "    }\n",
       "\n",
       "    .dataframe tbody tr th {\n",
       "        vertical-align: top;\n",
       "    }\n",
       "\n",
       "    .dataframe thead th {\n",
       "        text-align: right;\n",
       "    }\n",
       "</style>\n",
       "<table border=\"1\" class=\"dataframe\">\n",
       "  <thead>\n",
       "    <tr style=\"text-align: right;\">\n",
       "      <th></th>\n",
       "      <th>item_name</th>\n",
       "      <th>item_price</th>\n",
       "    </tr>\n",
       "  </thead>\n",
       "  <tbody>\n",
       "    <tr>\n",
       "      <th>0</th>\n",
       "      <td>Chips and Fresh Tomato Salsa</td>\n",
       "      <td>2.39</td>\n",
       "    </tr>\n",
       "    <tr>\n",
       "      <th>1</th>\n",
       "      <td>Izze</td>\n",
       "      <td>3.39</td>\n",
       "    </tr>\n",
       "  </tbody>\n",
       "</table>\n",
       "</div>"
      ],
      "text/plain": [
       "                      item_name  item_price\n",
       "0  Chips and Fresh Tomato Salsa        2.39\n",
       "1                          Izze        3.39"
      ]
     },
     "execution_count": 716,
     "metadata": {},
     "output_type": "execute_result"
    }
   ],
   "source": [
    "# Print a data frame with only two columns item_name and item_price.\n",
    "chipo.loc[:, ['item_name', 'item_price']].head(2)"
   ]
  },
  {
   "cell_type": "code",
   "execution_count": 717,
   "metadata": {},
   "outputs": [
    {
     "data": {
      "text/html": [
       "<div>\n",
       "<style scoped>\n",
       "    .dataframe tbody tr th:only-of-type {\n",
       "        vertical-align: middle;\n",
       "    }\n",
       "\n",
       "    .dataframe tbody tr th {\n",
       "        vertical-align: top;\n",
       "    }\n",
       "\n",
       "    .dataframe thead th {\n",
       "        text-align: right;\n",
       "    }\n",
       "</style>\n",
       "<table border=\"1\" class=\"dataframe\">\n",
       "  <thead>\n",
       "    <tr style=\"text-align: right;\">\n",
       "      <th></th>\n",
       "      <th>item_name</th>\n",
       "      <th>item_price</th>\n",
       "    </tr>\n",
       "  </thead>\n",
       "  <tbody>\n",
       "    <tr>\n",
       "      <th>3598</th>\n",
       "      <td>Chips and Fresh Tomato Salsa</td>\n",
       "      <td>44.25</td>\n",
       "    </tr>\n",
       "    <tr>\n",
       "      <th>3480</th>\n",
       "      <td>Carnitas Bowl</td>\n",
       "      <td>35.25</td>\n",
       "    </tr>\n",
       "  </tbody>\n",
       "</table>\n",
       "</div>"
      ],
      "text/plain": [
       "                         item_name  item_price\n",
       "3598  Chips and Fresh Tomato Salsa       44.25\n",
       "3480                 Carnitas Bowl       35.25"
      ]
     },
     "execution_count": 717,
     "metadata": {},
     "output_type": "execute_result"
    }
   ],
   "source": [
    "# Sort the values from the most to less expensive.\n",
    "chipo.loc[:, ['item_name', 'item_price']].sort_values(by = 'item_price', ascending = False).head(2)"
   ]
  },
  {
   "cell_type": "markdown",
   "metadata": {},
   "source": [
    "### 24. Sort by the name of the item"
   ]
  },
  {
   "cell_type": "code",
   "execution_count": 718,
   "metadata": {},
   "outputs": [
    {
     "data": {
      "text/html": [
       "<div>\n",
       "<style scoped>\n",
       "    .dataframe tbody tr th:only-of-type {\n",
       "        vertical-align: middle;\n",
       "    }\n",
       "\n",
       "    .dataframe tbody tr th {\n",
       "        vertical-align: top;\n",
       "    }\n",
       "\n",
       "    .dataframe thead th {\n",
       "        text-align: right;\n",
       "    }\n",
       "</style>\n",
       "<table border=\"1\" class=\"dataframe\">\n",
       "  <thead>\n",
       "    <tr style=\"text-align: right;\">\n",
       "      <th></th>\n",
       "      <th>item_name</th>\n",
       "      <th>item_price</th>\n",
       "    </tr>\n",
       "  </thead>\n",
       "  <tbody>\n",
       "    <tr>\n",
       "      <th>298</th>\n",
       "      <td>6 Pack Soft Drink</td>\n",
       "      <td>6.49</td>\n",
       "    </tr>\n",
       "    <tr>\n",
       "      <th>3389</th>\n",
       "      <td>6 Pack Soft Drink</td>\n",
       "      <td>12.98</td>\n",
       "    </tr>\n",
       "  </tbody>\n",
       "</table>\n",
       "</div>"
      ],
      "text/plain": [
       "              item_name  item_price\n",
       "298   6 Pack Soft Drink        6.49\n",
       "3389  6 Pack Soft Drink       12.98"
      ]
     },
     "execution_count": 718,
     "metadata": {},
     "output_type": "execute_result"
    }
   ],
   "source": [
    "chipo.loc[:, ['item_name', 'item_price']].sort_values(by= 'item_name').head(2)"
   ]
  },
  {
   "cell_type": "markdown",
   "metadata": {},
   "source": [
    "### 25. What was the quantity of the most expensive item ordered?"
   ]
  },
  {
   "cell_type": "code",
   "execution_count": 719,
   "metadata": {},
   "outputs": [
    {
     "data": {
      "text/plain": [
       "15"
      ]
     },
     "execution_count": 719,
     "metadata": {},
     "output_type": "execute_result"
    }
   ],
   "source": [
    "chipo.loc[chipo.item_price == chipo.item_price.max(), 'quantity'].sum()"
   ]
  },
  {
   "cell_type": "markdown",
   "metadata": {},
   "source": [
    "### 26. How many times were a Veggie Salad Bowl ordered?"
   ]
  },
  {
   "cell_type": "code",
   "execution_count": 720,
   "metadata": {},
   "outputs": [
    {
     "data": {
      "text/plain": [
       "1"
      ]
     },
     "execution_count": 720,
     "metadata": {},
     "output_type": "execute_result"
    }
   ],
   "source": [
    "chipo.loc[chipo.item_name == 'Veggie Salad Bowl', 'item_name'].count()"
   ]
  },
  {
   "cell_type": "markdown",
   "metadata": {},
   "source": [
    "### 27. How many times people orderd more than one Canned Soda?"
   ]
  },
  {
   "cell_type": "code",
   "execution_count": 721,
   "metadata": {},
   "outputs": [
    {
     "data": {
      "text/plain": [
       "3"
      ]
     },
     "execution_count": 721,
     "metadata": {},
     "output_type": "execute_result"
    }
   ],
   "source": [
    "chipo.loc[chipo.item_name == 'Canned Soda', 'item_name'].count()"
   ]
  },
  {
   "cell_type": "markdown",
   "metadata": {},
   "source": [
    "## Section-4: The purpose of the below exercises is to understand how to perform aggregations of data frame\n",
    "## The below exercises (28-33) required to use occupation.csv"
   ]
  },
  {
   "cell_type": "markdown",
   "metadata": {},
   "source": [
    "###  28. Import the dataset occupation.csv and assign object as users"
   ]
  },
  {
   "cell_type": "code",
   "execution_count": 722,
   "metadata": {},
   "outputs": [],
   "source": [
    "# Reading the dataset.\n",
    "users= pd.read_csv(\"F:\\\\AnalyticslabFIles\\\\assignments\\\\python\\\\occupation.csv\", delimiter= '|')"
   ]
  },
  {
   "cell_type": "code",
   "execution_count": 723,
   "metadata": {},
   "outputs": [
    {
     "data": {
      "text/html": [
       "<div>\n",
       "<style scoped>\n",
       "    .dataframe tbody tr th:only-of-type {\n",
       "        vertical-align: middle;\n",
       "    }\n",
       "\n",
       "    .dataframe tbody tr th {\n",
       "        vertical-align: top;\n",
       "    }\n",
       "\n",
       "    .dataframe thead th {\n",
       "        text-align: right;\n",
       "    }\n",
       "</style>\n",
       "<table border=\"1\" class=\"dataframe\">\n",
       "  <thead>\n",
       "    <tr style=\"text-align: right;\">\n",
       "      <th></th>\n",
       "      <th>user_id</th>\n",
       "      <th>age</th>\n",
       "      <th>gender</th>\n",
       "      <th>occupation</th>\n",
       "      <th>zip_code</th>\n",
       "    </tr>\n",
       "  </thead>\n",
       "  <tbody>\n",
       "    <tr>\n",
       "      <th>0</th>\n",
       "      <td>1</td>\n",
       "      <td>24</td>\n",
       "      <td>M</td>\n",
       "      <td>technician</td>\n",
       "      <td>85711</td>\n",
       "    </tr>\n",
       "    <tr>\n",
       "      <th>1</th>\n",
       "      <td>2</td>\n",
       "      <td>53</td>\n",
       "      <td>F</td>\n",
       "      <td>other</td>\n",
       "      <td>94043</td>\n",
       "    </tr>\n",
       "  </tbody>\n",
       "</table>\n",
       "</div>"
      ],
      "text/plain": [
       "   user_id  age gender  occupation zip_code\n",
       "0        1   24      M  technician    85711\n",
       "1        2   53      F       other    94043"
      ]
     },
     "execution_count": 723,
     "metadata": {},
     "output_type": "execute_result"
    }
   ],
   "source": [
    "# Viewing the dataset.\n",
    "users.head(2)"
   ]
  },
  {
   "cell_type": "markdown",
   "metadata": {},
   "source": [
    "### 29. Discover what is the mean age per occupation"
   ]
  },
  {
   "cell_type": "code",
   "execution_count": 724,
   "metadata": {},
   "outputs": [
    {
     "data": {
      "text/html": [
       "<div>\n",
       "<style scoped>\n",
       "    .dataframe tbody tr th:only-of-type {\n",
       "        vertical-align: middle;\n",
       "    }\n",
       "\n",
       "    .dataframe tbody tr th {\n",
       "        vertical-align: top;\n",
       "    }\n",
       "\n",
       "    .dataframe thead th {\n",
       "        text-align: right;\n",
       "    }\n",
       "</style>\n",
       "<table border=\"1\" class=\"dataframe\">\n",
       "  <thead>\n",
       "    <tr style=\"text-align: right;\">\n",
       "      <th></th>\n",
       "      <th>age</th>\n",
       "    </tr>\n",
       "    <tr>\n",
       "      <th>occupation</th>\n",
       "      <th></th>\n",
       "    </tr>\n",
       "  </thead>\n",
       "  <tbody>\n",
       "    <tr>\n",
       "      <th>administrator</th>\n",
       "      <td>38.746835</td>\n",
       "    </tr>\n",
       "    <tr>\n",
       "      <th>artist</th>\n",
       "      <td>31.392857</td>\n",
       "    </tr>\n",
       "    <tr>\n",
       "      <th>doctor</th>\n",
       "      <td>43.571429</td>\n",
       "    </tr>\n",
       "    <tr>\n",
       "      <th>educator</th>\n",
       "      <td>42.010526</td>\n",
       "    </tr>\n",
       "    <tr>\n",
       "      <th>engineer</th>\n",
       "      <td>36.388060</td>\n",
       "    </tr>\n",
       "    <tr>\n",
       "      <th>entertainment</th>\n",
       "      <td>29.222222</td>\n",
       "    </tr>\n",
       "    <tr>\n",
       "      <th>executive</th>\n",
       "      <td>38.718750</td>\n",
       "    </tr>\n",
       "    <tr>\n",
       "      <th>healthcare</th>\n",
       "      <td>41.562500</td>\n",
       "    </tr>\n",
       "    <tr>\n",
       "      <th>homemaker</th>\n",
       "      <td>32.571429</td>\n",
       "    </tr>\n",
       "    <tr>\n",
       "      <th>lawyer</th>\n",
       "      <td>36.750000</td>\n",
       "    </tr>\n",
       "    <tr>\n",
       "      <th>librarian</th>\n",
       "      <td>40.000000</td>\n",
       "    </tr>\n",
       "    <tr>\n",
       "      <th>marketing</th>\n",
       "      <td>37.615385</td>\n",
       "    </tr>\n",
       "    <tr>\n",
       "      <th>none</th>\n",
       "      <td>26.555556</td>\n",
       "    </tr>\n",
       "    <tr>\n",
       "      <th>other</th>\n",
       "      <td>34.523810</td>\n",
       "    </tr>\n",
       "    <tr>\n",
       "      <th>programmer</th>\n",
       "      <td>33.121212</td>\n",
       "    </tr>\n",
       "    <tr>\n",
       "      <th>retired</th>\n",
       "      <td>63.071429</td>\n",
       "    </tr>\n",
       "    <tr>\n",
       "      <th>salesman</th>\n",
       "      <td>35.666667</td>\n",
       "    </tr>\n",
       "    <tr>\n",
       "      <th>scientist</th>\n",
       "      <td>35.548387</td>\n",
       "    </tr>\n",
       "    <tr>\n",
       "      <th>student</th>\n",
       "      <td>22.081633</td>\n",
       "    </tr>\n",
       "    <tr>\n",
       "      <th>technician</th>\n",
       "      <td>33.148148</td>\n",
       "    </tr>\n",
       "    <tr>\n",
       "      <th>writer</th>\n",
       "      <td>36.311111</td>\n",
       "    </tr>\n",
       "  </tbody>\n",
       "</table>\n",
       "</div>"
      ],
      "text/plain": [
       "                     age\n",
       "occupation              \n",
       "administrator  38.746835\n",
       "artist         31.392857\n",
       "doctor         43.571429\n",
       "educator       42.010526\n",
       "engineer       36.388060\n",
       "entertainment  29.222222\n",
       "executive      38.718750\n",
       "healthcare     41.562500\n",
       "homemaker      32.571429\n",
       "lawyer         36.750000\n",
       "librarian      40.000000\n",
       "marketing      37.615385\n",
       "none           26.555556\n",
       "other          34.523810\n",
       "programmer     33.121212\n",
       "retired        63.071429\n",
       "salesman       35.666667\n",
       "scientist      35.548387\n",
       "student        22.081633\n",
       "technician     33.148148\n",
       "writer         36.311111"
      ]
     },
     "execution_count": 724,
     "metadata": {},
     "output_type": "execute_result"
    }
   ],
   "source": [
    "# Using .pivot_table()\n",
    "users.pivot_table(index= 'occupation', values= 'age', aggfunc= 'mean')"
   ]
  },
  {
   "cell_type": "code",
   "execution_count": 725,
   "metadata": {},
   "outputs": [
    {
     "data": {
      "text/html": [
       "<div>\n",
       "<style scoped>\n",
       "    .dataframe tbody tr th:only-of-type {\n",
       "        vertical-align: middle;\n",
       "    }\n",
       "\n",
       "    .dataframe tbody tr th {\n",
       "        vertical-align: top;\n",
       "    }\n",
       "\n",
       "    .dataframe thead th {\n",
       "        text-align: right;\n",
       "    }\n",
       "</style>\n",
       "<table border=\"1\" class=\"dataframe\">\n",
       "  <thead>\n",
       "    <tr style=\"text-align: right;\">\n",
       "      <th></th>\n",
       "      <th>age</th>\n",
       "    </tr>\n",
       "    <tr>\n",
       "      <th>occupation</th>\n",
       "      <th></th>\n",
       "    </tr>\n",
       "  </thead>\n",
       "  <tbody>\n",
       "    <tr>\n",
       "      <th>administrator</th>\n",
       "      <td>38.746835</td>\n",
       "    </tr>\n",
       "    <tr>\n",
       "      <th>artist</th>\n",
       "      <td>31.392857</td>\n",
       "    </tr>\n",
       "    <tr>\n",
       "      <th>doctor</th>\n",
       "      <td>43.571429</td>\n",
       "    </tr>\n",
       "    <tr>\n",
       "      <th>educator</th>\n",
       "      <td>42.010526</td>\n",
       "    </tr>\n",
       "    <tr>\n",
       "      <th>engineer</th>\n",
       "      <td>36.388060</td>\n",
       "    </tr>\n",
       "    <tr>\n",
       "      <th>entertainment</th>\n",
       "      <td>29.222222</td>\n",
       "    </tr>\n",
       "    <tr>\n",
       "      <th>executive</th>\n",
       "      <td>38.718750</td>\n",
       "    </tr>\n",
       "    <tr>\n",
       "      <th>healthcare</th>\n",
       "      <td>41.562500</td>\n",
       "    </tr>\n",
       "    <tr>\n",
       "      <th>homemaker</th>\n",
       "      <td>32.571429</td>\n",
       "    </tr>\n",
       "    <tr>\n",
       "      <th>lawyer</th>\n",
       "      <td>36.750000</td>\n",
       "    </tr>\n",
       "    <tr>\n",
       "      <th>librarian</th>\n",
       "      <td>40.000000</td>\n",
       "    </tr>\n",
       "    <tr>\n",
       "      <th>marketing</th>\n",
       "      <td>37.615385</td>\n",
       "    </tr>\n",
       "    <tr>\n",
       "      <th>none</th>\n",
       "      <td>26.555556</td>\n",
       "    </tr>\n",
       "    <tr>\n",
       "      <th>other</th>\n",
       "      <td>34.523810</td>\n",
       "    </tr>\n",
       "    <tr>\n",
       "      <th>programmer</th>\n",
       "      <td>33.121212</td>\n",
       "    </tr>\n",
       "    <tr>\n",
       "      <th>retired</th>\n",
       "      <td>63.071429</td>\n",
       "    </tr>\n",
       "    <tr>\n",
       "      <th>salesman</th>\n",
       "      <td>35.666667</td>\n",
       "    </tr>\n",
       "    <tr>\n",
       "      <th>scientist</th>\n",
       "      <td>35.548387</td>\n",
       "    </tr>\n",
       "    <tr>\n",
       "      <th>student</th>\n",
       "      <td>22.081633</td>\n",
       "    </tr>\n",
       "    <tr>\n",
       "      <th>technician</th>\n",
       "      <td>33.148148</td>\n",
       "    </tr>\n",
       "    <tr>\n",
       "      <th>writer</th>\n",
       "      <td>36.311111</td>\n",
       "    </tr>\n",
       "  </tbody>\n",
       "</table>\n",
       "</div>"
      ],
      "text/plain": [
       "                     age\n",
       "occupation              \n",
       "administrator  38.746835\n",
       "artist         31.392857\n",
       "doctor         43.571429\n",
       "educator       42.010526\n",
       "engineer       36.388060\n",
       "entertainment  29.222222\n",
       "executive      38.718750\n",
       "healthcare     41.562500\n",
       "homemaker      32.571429\n",
       "lawyer         36.750000\n",
       "librarian      40.000000\n",
       "marketing      37.615385\n",
       "none           26.555556\n",
       "other          34.523810\n",
       "programmer     33.121212\n",
       "retired        63.071429\n",
       "salesman       35.666667\n",
       "scientist      35.548387\n",
       "student        22.081633\n",
       "technician     33.148148\n",
       "writer         36.311111"
      ]
     },
     "execution_count": 725,
     "metadata": {},
     "output_type": "execute_result"
    }
   ],
   "source": [
    "# Using .groupby()\n",
    "users.groupby(by= 'occupation')['age'].mean().to_frame()"
   ]
  },
  {
   "cell_type": "markdown",
   "metadata": {},
   "source": [
    "### 30. Discover the Male ratio per occupation and sort it from the most to the least.\n",
    "\n",
    "Use numpy.where() to encode gender column."
   ]
  },
  {
   "cell_type": "code",
   "execution_count": 726,
   "metadata": {},
   "outputs": [],
   "source": [
    "users.gender= np.where(users.gender == 'M', 1, 0)"
   ]
  },
  {
   "cell_type": "code",
   "execution_count": 727,
   "metadata": {},
   "outputs": [
    {
     "data": {
      "text/html": [
       "<div>\n",
       "<style scoped>\n",
       "    .dataframe tbody tr th:only-of-type {\n",
       "        vertical-align: middle;\n",
       "    }\n",
       "\n",
       "    .dataframe tbody tr th {\n",
       "        vertical-align: top;\n",
       "    }\n",
       "\n",
       "    .dataframe thead th {\n",
       "        text-align: right;\n",
       "    }\n",
       "</style>\n",
       "<table border=\"1\" class=\"dataframe\">\n",
       "  <thead>\n",
       "    <tr style=\"text-align: right;\">\n",
       "      <th></th>\n",
       "      <th>user_id</th>\n",
       "      <th>age</th>\n",
       "      <th>gender</th>\n",
       "      <th>occupation</th>\n",
       "      <th>zip_code</th>\n",
       "    </tr>\n",
       "  </thead>\n",
       "  <tbody>\n",
       "    <tr>\n",
       "      <th>0</th>\n",
       "      <td>1</td>\n",
       "      <td>24</td>\n",
       "      <td>1</td>\n",
       "      <td>technician</td>\n",
       "      <td>85711</td>\n",
       "    </tr>\n",
       "    <tr>\n",
       "      <th>1</th>\n",
       "      <td>2</td>\n",
       "      <td>53</td>\n",
       "      <td>0</td>\n",
       "      <td>other</td>\n",
       "      <td>94043</td>\n",
       "    </tr>\n",
       "    <tr>\n",
       "      <th>2</th>\n",
       "      <td>3</td>\n",
       "      <td>23</td>\n",
       "      <td>1</td>\n",
       "      <td>writer</td>\n",
       "      <td>32067</td>\n",
       "    </tr>\n",
       "    <tr>\n",
       "      <th>3</th>\n",
       "      <td>4</td>\n",
       "      <td>24</td>\n",
       "      <td>1</td>\n",
       "      <td>technician</td>\n",
       "      <td>43537</td>\n",
       "    </tr>\n",
       "    <tr>\n",
       "      <th>4</th>\n",
       "      <td>5</td>\n",
       "      <td>33</td>\n",
       "      <td>0</td>\n",
       "      <td>other</td>\n",
       "      <td>15213</td>\n",
       "    </tr>\n",
       "  </tbody>\n",
       "</table>\n",
       "</div>"
      ],
      "text/plain": [
       "   user_id  age  gender  occupation zip_code\n",
       "0        1   24       1  technician    85711\n",
       "1        2   53       0       other    94043\n",
       "2        3   23       1      writer    32067\n",
       "3        4   24       1  technician    43537\n",
       "4        5   33       0       other    15213"
      ]
     },
     "execution_count": 727,
     "metadata": {},
     "output_type": "execute_result"
    }
   ],
   "source": [
    "users.head()"
   ]
  },
  {
   "cell_type": "markdown",
   "metadata": {},
   "source": [
    "### 31. For each occupation, calculate the minimum and maximum ages"
   ]
  },
  {
   "cell_type": "code",
   "execution_count": 728,
   "metadata": {},
   "outputs": [
    {
     "data": {
      "text/html": [
       "<div>\n",
       "<style scoped>\n",
       "    .dataframe tbody tr th:only-of-type {\n",
       "        vertical-align: middle;\n",
       "    }\n",
       "\n",
       "    .dataframe tbody tr th {\n",
       "        vertical-align: top;\n",
       "    }\n",
       "\n",
       "    .dataframe thead tr th {\n",
       "        text-align: left;\n",
       "    }\n",
       "\n",
       "    .dataframe thead tr:last-of-type th {\n",
       "        text-align: right;\n",
       "    }\n",
       "</style>\n",
       "<table border=\"1\" class=\"dataframe\">\n",
       "  <thead>\n",
       "    <tr>\n",
       "      <th></th>\n",
       "      <th>min</th>\n",
       "      <th>max</th>\n",
       "    </tr>\n",
       "    <tr>\n",
       "      <th></th>\n",
       "      <th>age</th>\n",
       "      <th>age</th>\n",
       "    </tr>\n",
       "    <tr>\n",
       "      <th>occupation</th>\n",
       "      <th></th>\n",
       "      <th></th>\n",
       "    </tr>\n",
       "  </thead>\n",
       "  <tbody>\n",
       "    <tr>\n",
       "      <th>administrator</th>\n",
       "      <td>21</td>\n",
       "      <td>70</td>\n",
       "    </tr>\n",
       "    <tr>\n",
       "      <th>artist</th>\n",
       "      <td>19</td>\n",
       "      <td>48</td>\n",
       "    </tr>\n",
       "    <tr>\n",
       "      <th>doctor</th>\n",
       "      <td>28</td>\n",
       "      <td>64</td>\n",
       "    </tr>\n",
       "    <tr>\n",
       "      <th>educator</th>\n",
       "      <td>23</td>\n",
       "      <td>63</td>\n",
       "    </tr>\n",
       "    <tr>\n",
       "      <th>engineer</th>\n",
       "      <td>22</td>\n",
       "      <td>70</td>\n",
       "    </tr>\n",
       "    <tr>\n",
       "      <th>entertainment</th>\n",
       "      <td>15</td>\n",
       "      <td>50</td>\n",
       "    </tr>\n",
       "    <tr>\n",
       "      <th>executive</th>\n",
       "      <td>22</td>\n",
       "      <td>69</td>\n",
       "    </tr>\n",
       "    <tr>\n",
       "      <th>healthcare</th>\n",
       "      <td>22</td>\n",
       "      <td>62</td>\n",
       "    </tr>\n",
       "    <tr>\n",
       "      <th>homemaker</th>\n",
       "      <td>20</td>\n",
       "      <td>50</td>\n",
       "    </tr>\n",
       "    <tr>\n",
       "      <th>lawyer</th>\n",
       "      <td>21</td>\n",
       "      <td>53</td>\n",
       "    </tr>\n",
       "    <tr>\n",
       "      <th>librarian</th>\n",
       "      <td>23</td>\n",
       "      <td>69</td>\n",
       "    </tr>\n",
       "    <tr>\n",
       "      <th>marketing</th>\n",
       "      <td>24</td>\n",
       "      <td>55</td>\n",
       "    </tr>\n",
       "    <tr>\n",
       "      <th>none</th>\n",
       "      <td>11</td>\n",
       "      <td>55</td>\n",
       "    </tr>\n",
       "    <tr>\n",
       "      <th>other</th>\n",
       "      <td>13</td>\n",
       "      <td>64</td>\n",
       "    </tr>\n",
       "    <tr>\n",
       "      <th>programmer</th>\n",
       "      <td>20</td>\n",
       "      <td>63</td>\n",
       "    </tr>\n",
       "    <tr>\n",
       "      <th>retired</th>\n",
       "      <td>51</td>\n",
       "      <td>73</td>\n",
       "    </tr>\n",
       "    <tr>\n",
       "      <th>salesman</th>\n",
       "      <td>18</td>\n",
       "      <td>66</td>\n",
       "    </tr>\n",
       "    <tr>\n",
       "      <th>scientist</th>\n",
       "      <td>23</td>\n",
       "      <td>55</td>\n",
       "    </tr>\n",
       "    <tr>\n",
       "      <th>student</th>\n",
       "      <td>7</td>\n",
       "      <td>42</td>\n",
       "    </tr>\n",
       "    <tr>\n",
       "      <th>technician</th>\n",
       "      <td>21</td>\n",
       "      <td>55</td>\n",
       "    </tr>\n",
       "    <tr>\n",
       "      <th>writer</th>\n",
       "      <td>18</td>\n",
       "      <td>60</td>\n",
       "    </tr>\n",
       "  </tbody>\n",
       "</table>\n",
       "</div>"
      ],
      "text/plain": [
       "              min max\n",
       "              age age\n",
       "occupation           \n",
       "administrator  21  70\n",
       "artist         19  48\n",
       "doctor         28  64\n",
       "educator       23  63\n",
       "engineer       22  70\n",
       "entertainment  15  50\n",
       "executive      22  69\n",
       "healthcare     22  62\n",
       "homemaker      20  50\n",
       "lawyer         21  53\n",
       "librarian      23  69\n",
       "marketing      24  55\n",
       "none           11  55\n",
       "other          13  64\n",
       "programmer     20  63\n",
       "retired        51  73\n",
       "salesman       18  66\n",
       "scientist      23  55\n",
       "student         7  42\n",
       "technician     21  55\n",
       "writer         18  60"
      ]
     },
     "execution_count": 728,
     "metadata": {},
     "output_type": "execute_result"
    }
   ],
   "source": [
    "users.pivot_table(values= 'age', index= 'occupation', aggfunc= ['min', 'max'])"
   ]
  },
  {
   "cell_type": "markdown",
   "metadata": {},
   "source": [
    "### 32. For each combination of occupation and gender, calculate the mean age"
   ]
  },
  {
   "cell_type": "code",
   "execution_count": 729,
   "metadata": {},
   "outputs": [
    {
     "data": {
      "text/html": [
       "<div>\n",
       "<style scoped>\n",
       "    .dataframe tbody tr th:only-of-type {\n",
       "        vertical-align: middle;\n",
       "    }\n",
       "\n",
       "    .dataframe tbody tr th {\n",
       "        vertical-align: top;\n",
       "    }\n",
       "\n",
       "    .dataframe thead th {\n",
       "        text-align: right;\n",
       "    }\n",
       "</style>\n",
       "<table border=\"1\" class=\"dataframe\">\n",
       "  <thead>\n",
       "    <tr style=\"text-align: right;\">\n",
       "      <th>gender</th>\n",
       "      <th>0</th>\n",
       "      <th>1</th>\n",
       "    </tr>\n",
       "    <tr>\n",
       "      <th>occupation</th>\n",
       "      <th></th>\n",
       "      <th></th>\n",
       "    </tr>\n",
       "  </thead>\n",
       "  <tbody>\n",
       "    <tr>\n",
       "      <th>administrator</th>\n",
       "      <td>40.638889</td>\n",
       "      <td>37.162791</td>\n",
       "    </tr>\n",
       "    <tr>\n",
       "      <th>artist</th>\n",
       "      <td>30.307692</td>\n",
       "      <td>32.333333</td>\n",
       "    </tr>\n",
       "    <tr>\n",
       "      <th>doctor</th>\n",
       "      <td>NaN</td>\n",
       "      <td>43.571429</td>\n",
       "    </tr>\n",
       "    <tr>\n",
       "      <th>educator</th>\n",
       "      <td>39.115385</td>\n",
       "      <td>43.101449</td>\n",
       "    </tr>\n",
       "    <tr>\n",
       "      <th>engineer</th>\n",
       "      <td>29.500000</td>\n",
       "      <td>36.600000</td>\n",
       "    </tr>\n",
       "    <tr>\n",
       "      <th>entertainment</th>\n",
       "      <td>31.000000</td>\n",
       "      <td>29.000000</td>\n",
       "    </tr>\n",
       "    <tr>\n",
       "      <th>executive</th>\n",
       "      <td>44.000000</td>\n",
       "      <td>38.172414</td>\n",
       "    </tr>\n",
       "    <tr>\n",
       "      <th>healthcare</th>\n",
       "      <td>39.818182</td>\n",
       "      <td>45.400000</td>\n",
       "    </tr>\n",
       "    <tr>\n",
       "      <th>homemaker</th>\n",
       "      <td>34.166667</td>\n",
       "      <td>23.000000</td>\n",
       "    </tr>\n",
       "    <tr>\n",
       "      <th>lawyer</th>\n",
       "      <td>39.500000</td>\n",
       "      <td>36.200000</td>\n",
       "    </tr>\n",
       "    <tr>\n",
       "      <th>librarian</th>\n",
       "      <td>40.000000</td>\n",
       "      <td>40.000000</td>\n",
       "    </tr>\n",
       "    <tr>\n",
       "      <th>marketing</th>\n",
       "      <td>37.200000</td>\n",
       "      <td>37.875000</td>\n",
       "    </tr>\n",
       "    <tr>\n",
       "      <th>none</th>\n",
       "      <td>36.500000</td>\n",
       "      <td>18.600000</td>\n",
       "    </tr>\n",
       "    <tr>\n",
       "      <th>other</th>\n",
       "      <td>35.472222</td>\n",
       "      <td>34.028986</td>\n",
       "    </tr>\n",
       "    <tr>\n",
       "      <th>programmer</th>\n",
       "      <td>32.166667</td>\n",
       "      <td>33.216667</td>\n",
       "    </tr>\n",
       "    <tr>\n",
       "      <th>retired</th>\n",
       "      <td>70.000000</td>\n",
       "      <td>62.538462</td>\n",
       "    </tr>\n",
       "    <tr>\n",
       "      <th>salesman</th>\n",
       "      <td>27.000000</td>\n",
       "      <td>38.555556</td>\n",
       "    </tr>\n",
       "    <tr>\n",
       "      <th>scientist</th>\n",
       "      <td>28.333333</td>\n",
       "      <td>36.321429</td>\n",
       "    </tr>\n",
       "    <tr>\n",
       "      <th>student</th>\n",
       "      <td>20.750000</td>\n",
       "      <td>22.669118</td>\n",
       "    </tr>\n",
       "    <tr>\n",
       "      <th>technician</th>\n",
       "      <td>38.000000</td>\n",
       "      <td>32.961538</td>\n",
       "    </tr>\n",
       "    <tr>\n",
       "      <th>writer</th>\n",
       "      <td>37.631579</td>\n",
       "      <td>35.346154</td>\n",
       "    </tr>\n",
       "  </tbody>\n",
       "</table>\n",
       "</div>"
      ],
      "text/plain": [
       "gender                 0          1\n",
       "occupation                         \n",
       "administrator  40.638889  37.162791\n",
       "artist         30.307692  32.333333\n",
       "doctor               NaN  43.571429\n",
       "educator       39.115385  43.101449\n",
       "engineer       29.500000  36.600000\n",
       "entertainment  31.000000  29.000000\n",
       "executive      44.000000  38.172414\n",
       "healthcare     39.818182  45.400000\n",
       "homemaker      34.166667  23.000000\n",
       "lawyer         39.500000  36.200000\n",
       "librarian      40.000000  40.000000\n",
       "marketing      37.200000  37.875000\n",
       "none           36.500000  18.600000\n",
       "other          35.472222  34.028986\n",
       "programmer     32.166667  33.216667\n",
       "retired        70.000000  62.538462\n",
       "salesman       27.000000  38.555556\n",
       "scientist      28.333333  36.321429\n",
       "student        20.750000  22.669118\n",
       "technician     38.000000  32.961538\n",
       "writer         37.631579  35.346154"
      ]
     },
     "execution_count": 729,
     "metadata": {},
     "output_type": "execute_result"
    }
   ],
   "source": [
    "users.pivot_table(values= 'age', index= 'occupation', columns= 'gender', aggfunc= 'mean')"
   ]
  },
  {
   "cell_type": "markdown",
   "metadata": {},
   "source": [
    "### 33.  For each occupation present the percentage of women and men"
   ]
  },
  {
   "cell_type": "code",
   "execution_count": 730,
   "metadata": {},
   "outputs": [
    {
     "data": {
      "text/plain": [
       "occupation     gender\n",
       "administrator  0          45.569620\n",
       "               1          54.430380\n",
       "artist         0          46.428571\n",
       "               1          53.571429\n",
       "doctor         1         100.000000\n",
       "educator       0          27.368421\n",
       "               1          72.631579\n",
       "engineer       0           2.985075\n",
       "               1          97.014925\n",
       "entertainment  0          11.111111\n",
       "               1          88.888889\n",
       "executive      0           9.375000\n",
       "               1          90.625000\n",
       "healthcare     0          68.750000\n",
       "               1          31.250000\n",
       "homemaker      0          85.714286\n",
       "               1          14.285714\n",
       "lawyer         0          16.666667\n",
       "               1          83.333333\n",
       "librarian      0          56.862745\n",
       "               1          43.137255\n",
       "marketing      0          38.461538\n",
       "               1          61.538462\n",
       "none           0          44.444444\n",
       "               1          55.555556\n",
       "other          0          34.285714\n",
       "               1          65.714286\n",
       "programmer     0           9.090909\n",
       "               1          90.909091\n",
       "retired        0           7.142857\n",
       "               1          92.857143\n",
       "salesman       0          25.000000\n",
       "               1          75.000000\n",
       "scientist      0           9.677419\n",
       "               1          90.322581\n",
       "student        0          30.612245\n",
       "               1          69.387755\n",
       "technician     0           3.703704\n",
       "               1          96.296296\n",
       "writer         0          42.222222\n",
       "               1          57.777778\n",
       "Name: gender, dtype: float64"
      ]
     },
     "execution_count": 730,
     "metadata": {},
     "output_type": "execute_result"
    }
   ],
   "source": [
    "users.groupby(by= ['occupation', 'gender'])['gender'].agg('count')*100/ users.groupby(by= ['occupation'])['gender'].count()"
   ]
  },
  {
   "cell_type": "markdown",
   "metadata": {},
   "source": [
    "## Section-6: The purpose of the below exercises is to understand how to use lambda-apply-functions\n",
    "## The below exercises (34-41) required to use student-mat.csv and student-por.csv files "
   ]
  },
  {
   "cell_type": "markdown",
   "metadata": {},
   "source": [
    "### 34. Import the datasets *student-mat* and *student-por* and append them and assigned object as df"
   ]
  },
  {
   "cell_type": "code",
   "execution_count": 731,
   "metadata": {},
   "outputs": [],
   "source": [
    "# Reading the dataset.\n",
    "df= pd.read_csv(\"F:\\\\AnalyticslabFIles\\\\assignments\\\\python\\\\student-por.csv\")"
   ]
  },
  {
   "cell_type": "markdown",
   "metadata": {},
   "source": [
    "### 35. For the purpose of this exercise slice the dataframe from 'school' until the 'guardian' column"
   ]
  },
  {
   "cell_type": "code",
   "execution_count": 732,
   "metadata": {},
   "outputs": [],
   "source": [
    "student= df.loc[:, 'school':'guardian']"
   ]
  },
  {
   "cell_type": "markdown",
   "metadata": {},
   "source": [
    "### 36. Create a lambda function that captalize strings (example: if we give at_home as input function and should give At_home as output."
   ]
  },
  {
   "cell_type": "code",
   "execution_count": 733,
   "metadata": {},
   "outputs": [
    {
     "data": {
      "text/html": [
       "<div>\n",
       "<style scoped>\n",
       "    .dataframe tbody tr th:only-of-type {\n",
       "        vertical-align: middle;\n",
       "    }\n",
       "\n",
       "    .dataframe tbody tr th {\n",
       "        vertical-align: top;\n",
       "    }\n",
       "\n",
       "    .dataframe thead th {\n",
       "        text-align: right;\n",
       "    }\n",
       "</style>\n",
       "<table border=\"1\" class=\"dataframe\">\n",
       "  <thead>\n",
       "    <tr style=\"text-align: right;\">\n",
       "      <th></th>\n",
       "      <th>school</th>\n",
       "      <th>sex</th>\n",
       "      <th>address</th>\n",
       "      <th>famsize</th>\n",
       "      <th>Pstatus</th>\n",
       "      <th>Mjob</th>\n",
       "      <th>Fjob</th>\n",
       "      <th>reason</th>\n",
       "      <th>guardian</th>\n",
       "    </tr>\n",
       "  </thead>\n",
       "  <tbody>\n",
       "    <tr>\n",
       "      <th>0</th>\n",
       "      <td>Gp</td>\n",
       "      <td>F</td>\n",
       "      <td>U</td>\n",
       "      <td>Gt3</td>\n",
       "      <td>A</td>\n",
       "      <td>At_home</td>\n",
       "      <td>Teacher</td>\n",
       "      <td>Course</td>\n",
       "      <td>Mother</td>\n",
       "    </tr>\n",
       "    <tr>\n",
       "      <th>1</th>\n",
       "      <td>Gp</td>\n",
       "      <td>F</td>\n",
       "      <td>U</td>\n",
       "      <td>Gt3</td>\n",
       "      <td>T</td>\n",
       "      <td>At_home</td>\n",
       "      <td>Other</td>\n",
       "      <td>Course</td>\n",
       "      <td>Father</td>\n",
       "    </tr>\n",
       "    <tr>\n",
       "      <th>2</th>\n",
       "      <td>Gp</td>\n",
       "      <td>F</td>\n",
       "      <td>U</td>\n",
       "      <td>Le3</td>\n",
       "      <td>T</td>\n",
       "      <td>At_home</td>\n",
       "      <td>Other</td>\n",
       "      <td>Other</td>\n",
       "      <td>Mother</td>\n",
       "    </tr>\n",
       "    <tr>\n",
       "      <th>3</th>\n",
       "      <td>Gp</td>\n",
       "      <td>F</td>\n",
       "      <td>U</td>\n",
       "      <td>Gt3</td>\n",
       "      <td>T</td>\n",
       "      <td>Health</td>\n",
       "      <td>Services</td>\n",
       "      <td>Home</td>\n",
       "      <td>Mother</td>\n",
       "    </tr>\n",
       "    <tr>\n",
       "      <th>4</th>\n",
       "      <td>Gp</td>\n",
       "      <td>F</td>\n",
       "      <td>U</td>\n",
       "      <td>Gt3</td>\n",
       "      <td>T</td>\n",
       "      <td>Other</td>\n",
       "      <td>Other</td>\n",
       "      <td>Home</td>\n",
       "      <td>Father</td>\n",
       "    </tr>\n",
       "    <tr>\n",
       "      <th>...</th>\n",
       "      <td>...</td>\n",
       "      <td>...</td>\n",
       "      <td>...</td>\n",
       "      <td>...</td>\n",
       "      <td>...</td>\n",
       "      <td>...</td>\n",
       "      <td>...</td>\n",
       "      <td>...</td>\n",
       "      <td>...</td>\n",
       "    </tr>\n",
       "    <tr>\n",
       "      <th>644</th>\n",
       "      <td>Ms</td>\n",
       "      <td>F</td>\n",
       "      <td>R</td>\n",
       "      <td>Gt3</td>\n",
       "      <td>T</td>\n",
       "      <td>Services</td>\n",
       "      <td>Other</td>\n",
       "      <td>Course</td>\n",
       "      <td>Mother</td>\n",
       "    </tr>\n",
       "    <tr>\n",
       "      <th>645</th>\n",
       "      <td>Ms</td>\n",
       "      <td>F</td>\n",
       "      <td>U</td>\n",
       "      <td>Le3</td>\n",
       "      <td>T</td>\n",
       "      <td>Teacher</td>\n",
       "      <td>Services</td>\n",
       "      <td>Course</td>\n",
       "      <td>Mother</td>\n",
       "    </tr>\n",
       "    <tr>\n",
       "      <th>646</th>\n",
       "      <td>Ms</td>\n",
       "      <td>F</td>\n",
       "      <td>U</td>\n",
       "      <td>Gt3</td>\n",
       "      <td>T</td>\n",
       "      <td>Other</td>\n",
       "      <td>Other</td>\n",
       "      <td>Course</td>\n",
       "      <td>Mother</td>\n",
       "    </tr>\n",
       "    <tr>\n",
       "      <th>647</th>\n",
       "      <td>Ms</td>\n",
       "      <td>M</td>\n",
       "      <td>U</td>\n",
       "      <td>Le3</td>\n",
       "      <td>T</td>\n",
       "      <td>Services</td>\n",
       "      <td>Services</td>\n",
       "      <td>Course</td>\n",
       "      <td>Mother</td>\n",
       "    </tr>\n",
       "    <tr>\n",
       "      <th>648</th>\n",
       "      <td>Ms</td>\n",
       "      <td>M</td>\n",
       "      <td>R</td>\n",
       "      <td>Le3</td>\n",
       "      <td>T</td>\n",
       "      <td>Services</td>\n",
       "      <td>Other</td>\n",
       "      <td>Course</td>\n",
       "      <td>Mother</td>\n",
       "    </tr>\n",
       "  </tbody>\n",
       "</table>\n",
       "<p>649 rows × 9 columns</p>\n",
       "</div>"
      ],
      "text/plain": [
       "    school sex address famsize Pstatus      Mjob      Fjob  reason guardian\n",
       "0       Gp   F       U     Gt3       A   At_home   Teacher  Course   Mother\n",
       "1       Gp   F       U     Gt3       T   At_home     Other  Course   Father\n",
       "2       Gp   F       U     Le3       T   At_home     Other   Other   Mother\n",
       "3       Gp   F       U     Gt3       T    Health  Services    Home   Mother\n",
       "4       Gp   F       U     Gt3       T     Other     Other    Home   Father\n",
       "..     ...  ..     ...     ...     ...       ...       ...     ...      ...\n",
       "644     Ms   F       R     Gt3       T  Services     Other  Course   Mother\n",
       "645     Ms   F       U     Le3       T   Teacher  Services  Course   Mother\n",
       "646     Ms   F       U     Gt3       T     Other     Other  Course   Mother\n",
       "647     Ms   M       U     Le3       T  Services  Services  Course   Mother\n",
       "648     Ms   M       R     Le3       T  Services     Other  Course   Mother\n",
       "\n",
       "[649 rows x 9 columns]"
      ]
     },
     "execution_count": 733,
     "metadata": {},
     "output_type": "execute_result"
    }
   ],
   "source": [
    "# Using .applymap()\n",
    "student.loc[:, student.dtypes== 'object'].applymap(lambda x: x.capitalize())"
   ]
  },
  {
   "cell_type": "code",
   "execution_count": 734,
   "metadata": {},
   "outputs": [
    {
     "data": {
      "text/html": [
       "<div>\n",
       "<style scoped>\n",
       "    .dataframe tbody tr th:only-of-type {\n",
       "        vertical-align: middle;\n",
       "    }\n",
       "\n",
       "    .dataframe tbody tr th {\n",
       "        vertical-align: top;\n",
       "    }\n",
       "\n",
       "    .dataframe thead th {\n",
       "        text-align: right;\n",
       "    }\n",
       "</style>\n",
       "<table border=\"1\" class=\"dataframe\">\n",
       "  <thead>\n",
       "    <tr style=\"text-align: right;\">\n",
       "      <th></th>\n",
       "      <th>school</th>\n",
       "      <th>sex</th>\n",
       "      <th>address</th>\n",
       "      <th>famsize</th>\n",
       "      <th>Pstatus</th>\n",
       "      <th>Mjob</th>\n",
       "      <th>Fjob</th>\n",
       "      <th>reason</th>\n",
       "      <th>guardian</th>\n",
       "    </tr>\n",
       "  </thead>\n",
       "  <tbody>\n",
       "    <tr>\n",
       "      <th>0</th>\n",
       "      <td>Gp</td>\n",
       "      <td>F</td>\n",
       "      <td>U</td>\n",
       "      <td>Gt3</td>\n",
       "      <td>A</td>\n",
       "      <td>At_home</td>\n",
       "      <td>Teacher</td>\n",
       "      <td>Course</td>\n",
       "      <td>Mother</td>\n",
       "    </tr>\n",
       "    <tr>\n",
       "      <th>1</th>\n",
       "      <td>Gp</td>\n",
       "      <td>F</td>\n",
       "      <td>U</td>\n",
       "      <td>Gt3</td>\n",
       "      <td>T</td>\n",
       "      <td>At_home</td>\n",
       "      <td>Other</td>\n",
       "      <td>Course</td>\n",
       "      <td>Father</td>\n",
       "    </tr>\n",
       "  </tbody>\n",
       "</table>\n",
       "</div>"
      ],
      "text/plain": [
       "  school sex address famsize Pstatus     Mjob     Fjob  reason guardian\n",
       "0     Gp   F       U     Gt3       A  At_home  Teacher  Course   Mother\n",
       "1     Gp   F       U     Gt3       T  At_home    Other  Course   Father"
      ]
     },
     "execution_count": 734,
     "metadata": {},
     "output_type": "execute_result"
    }
   ],
   "source": [
    "# Using .apply()\n",
    "student.select_dtypes(include= 'object').apply(lambda x: x.str.capitalize()).head(2)"
   ]
  },
  {
   "cell_type": "markdown",
   "metadata": {},
   "source": [
    "### 37. Capitalize both Mjob and Fjob variables using above lamdba function"
   ]
  },
  {
   "cell_type": "code",
   "execution_count": 735,
   "metadata": {},
   "outputs": [
    {
     "data": {
      "text/html": [
       "<div>\n",
       "<style scoped>\n",
       "    .dataframe tbody tr th:only-of-type {\n",
       "        vertical-align: middle;\n",
       "    }\n",
       "\n",
       "    .dataframe tbody tr th {\n",
       "        vertical-align: top;\n",
       "    }\n",
       "\n",
       "    .dataframe thead th {\n",
       "        text-align: right;\n",
       "    }\n",
       "</style>\n",
       "<table border=\"1\" class=\"dataframe\">\n",
       "  <thead>\n",
       "    <tr style=\"text-align: right;\">\n",
       "      <th></th>\n",
       "      <th>Mjob</th>\n",
       "      <th>Fjob</th>\n",
       "    </tr>\n",
       "  </thead>\n",
       "  <tbody>\n",
       "    <tr>\n",
       "      <th>0</th>\n",
       "      <td>AT_HOME</td>\n",
       "      <td>TEACHER</td>\n",
       "    </tr>\n",
       "    <tr>\n",
       "      <th>1</th>\n",
       "      <td>AT_HOME</td>\n",
       "      <td>OTHER</td>\n",
       "    </tr>\n",
       "    <tr>\n",
       "      <th>2</th>\n",
       "      <td>AT_HOME</td>\n",
       "      <td>OTHER</td>\n",
       "    </tr>\n",
       "    <tr>\n",
       "      <th>3</th>\n",
       "      <td>HEALTH</td>\n",
       "      <td>SERVICES</td>\n",
       "    </tr>\n",
       "    <tr>\n",
       "      <th>4</th>\n",
       "      <td>OTHER</td>\n",
       "      <td>OTHER</td>\n",
       "    </tr>\n",
       "    <tr>\n",
       "      <th>...</th>\n",
       "      <td>...</td>\n",
       "      <td>...</td>\n",
       "    </tr>\n",
       "    <tr>\n",
       "      <th>644</th>\n",
       "      <td>SERVICES</td>\n",
       "      <td>OTHER</td>\n",
       "    </tr>\n",
       "    <tr>\n",
       "      <th>645</th>\n",
       "      <td>TEACHER</td>\n",
       "      <td>SERVICES</td>\n",
       "    </tr>\n",
       "    <tr>\n",
       "      <th>646</th>\n",
       "      <td>OTHER</td>\n",
       "      <td>OTHER</td>\n",
       "    </tr>\n",
       "    <tr>\n",
       "      <th>647</th>\n",
       "      <td>SERVICES</td>\n",
       "      <td>SERVICES</td>\n",
       "    </tr>\n",
       "    <tr>\n",
       "      <th>648</th>\n",
       "      <td>SERVICES</td>\n",
       "      <td>OTHER</td>\n",
       "    </tr>\n",
       "  </tbody>\n",
       "</table>\n",
       "<p>649 rows × 2 columns</p>\n",
       "</div>"
      ],
      "text/plain": [
       "         Mjob      Fjob\n",
       "0     AT_HOME   TEACHER\n",
       "1     AT_HOME     OTHER\n",
       "2     AT_HOME     OTHER\n",
       "3      HEALTH  SERVICES\n",
       "4       OTHER     OTHER\n",
       "..        ...       ...\n",
       "644  SERVICES     OTHER\n",
       "645   TEACHER  SERVICES\n",
       "646     OTHER     OTHER\n",
       "647  SERVICES  SERVICES\n",
       "648  SERVICES     OTHER\n",
       "\n",
       "[649 rows x 2 columns]"
      ]
     },
     "execution_count": 735,
     "metadata": {},
     "output_type": "execute_result"
    }
   ],
   "source": [
    "student.loc[:, ['Mjob', 'Fjob']].applymap(lambda x: x.upper())"
   ]
  },
  {
   "cell_type": "markdown",
   "metadata": {},
   "source": [
    "### 38. Print the last elements of the data set. (Last few records)"
   ]
  },
  {
   "cell_type": "code",
   "execution_count": 736,
   "metadata": {},
   "outputs": [
    {
     "data": {
      "text/html": [
       "<div>\n",
       "<style scoped>\n",
       "    .dataframe tbody tr th:only-of-type {\n",
       "        vertical-align: middle;\n",
       "    }\n",
       "\n",
       "    .dataframe tbody tr th {\n",
       "        vertical-align: top;\n",
       "    }\n",
       "\n",
       "    .dataframe thead th {\n",
       "        text-align: right;\n",
       "    }\n",
       "</style>\n",
       "<table border=\"1\" class=\"dataframe\">\n",
       "  <thead>\n",
       "    <tr style=\"text-align: right;\">\n",
       "      <th></th>\n",
       "      <th>school</th>\n",
       "      <th>sex</th>\n",
       "      <th>age</th>\n",
       "      <th>address</th>\n",
       "      <th>famsize</th>\n",
       "      <th>Pstatus</th>\n",
       "      <th>Medu</th>\n",
       "      <th>Fedu</th>\n",
       "      <th>Mjob</th>\n",
       "      <th>Fjob</th>\n",
       "      <th>reason</th>\n",
       "      <th>guardian</th>\n",
       "    </tr>\n",
       "  </thead>\n",
       "  <tbody>\n",
       "    <tr>\n",
       "      <th>644</th>\n",
       "      <td>MS</td>\n",
       "      <td>F</td>\n",
       "      <td>19</td>\n",
       "      <td>R</td>\n",
       "      <td>GT3</td>\n",
       "      <td>T</td>\n",
       "      <td>2</td>\n",
       "      <td>3</td>\n",
       "      <td>services</td>\n",
       "      <td>other</td>\n",
       "      <td>course</td>\n",
       "      <td>mother</td>\n",
       "    </tr>\n",
       "    <tr>\n",
       "      <th>645</th>\n",
       "      <td>MS</td>\n",
       "      <td>F</td>\n",
       "      <td>18</td>\n",
       "      <td>U</td>\n",
       "      <td>LE3</td>\n",
       "      <td>T</td>\n",
       "      <td>3</td>\n",
       "      <td>1</td>\n",
       "      <td>teacher</td>\n",
       "      <td>services</td>\n",
       "      <td>course</td>\n",
       "      <td>mother</td>\n",
       "    </tr>\n",
       "    <tr>\n",
       "      <th>646</th>\n",
       "      <td>MS</td>\n",
       "      <td>F</td>\n",
       "      <td>18</td>\n",
       "      <td>U</td>\n",
       "      <td>GT3</td>\n",
       "      <td>T</td>\n",
       "      <td>1</td>\n",
       "      <td>1</td>\n",
       "      <td>other</td>\n",
       "      <td>other</td>\n",
       "      <td>course</td>\n",
       "      <td>mother</td>\n",
       "    </tr>\n",
       "    <tr>\n",
       "      <th>647</th>\n",
       "      <td>MS</td>\n",
       "      <td>M</td>\n",
       "      <td>17</td>\n",
       "      <td>U</td>\n",
       "      <td>LE3</td>\n",
       "      <td>T</td>\n",
       "      <td>3</td>\n",
       "      <td>1</td>\n",
       "      <td>services</td>\n",
       "      <td>services</td>\n",
       "      <td>course</td>\n",
       "      <td>mother</td>\n",
       "    </tr>\n",
       "    <tr>\n",
       "      <th>648</th>\n",
       "      <td>MS</td>\n",
       "      <td>M</td>\n",
       "      <td>18</td>\n",
       "      <td>R</td>\n",
       "      <td>LE3</td>\n",
       "      <td>T</td>\n",
       "      <td>3</td>\n",
       "      <td>2</td>\n",
       "      <td>services</td>\n",
       "      <td>other</td>\n",
       "      <td>course</td>\n",
       "      <td>mother</td>\n",
       "    </tr>\n",
       "  </tbody>\n",
       "</table>\n",
       "</div>"
      ],
      "text/plain": [
       "    school sex  age address famsize Pstatus  Medu  Fedu      Mjob      Fjob  \\\n",
       "644     MS   F   19       R     GT3       T     2     3  services     other   \n",
       "645     MS   F   18       U     LE3       T     3     1   teacher  services   \n",
       "646     MS   F   18       U     GT3       T     1     1     other     other   \n",
       "647     MS   M   17       U     LE3       T     3     1  services  services   \n",
       "648     MS   M   18       R     LE3       T     3     2  services     other   \n",
       "\n",
       "     reason guardian  \n",
       "644  course   mother  \n",
       "645  course   mother  \n",
       "646  course   mother  \n",
       "647  course   mother  \n",
       "648  course   mother  "
      ]
     },
     "execution_count": 736,
     "metadata": {},
     "output_type": "execute_result"
    }
   ],
   "source": [
    "student.tail()"
   ]
  },
  {
   "cell_type": "markdown",
   "metadata": {},
   "source": [
    "### 39. Did you notice the original dataframe is still lowercase? Why is that? Fix it and captalize Mjob and Fjob."
   ]
  },
  {
   "cell_type": "code",
   "execution_count": 737,
   "metadata": {},
   "outputs": [
    {
     "data": {
      "text/html": [
       "<div>\n",
       "<style scoped>\n",
       "    .dataframe tbody tr th:only-of-type {\n",
       "        vertical-align: middle;\n",
       "    }\n",
       "\n",
       "    .dataframe tbody tr th {\n",
       "        vertical-align: top;\n",
       "    }\n",
       "\n",
       "    .dataframe thead th {\n",
       "        text-align: right;\n",
       "    }\n",
       "</style>\n",
       "<table border=\"1\" class=\"dataframe\">\n",
       "  <thead>\n",
       "    <tr style=\"text-align: right;\">\n",
       "      <th></th>\n",
       "      <th>Mjob</th>\n",
       "      <th>Fjob</th>\n",
       "    </tr>\n",
       "  </thead>\n",
       "  <tbody>\n",
       "    <tr>\n",
       "      <th>0</th>\n",
       "      <td>AT_HOME</td>\n",
       "      <td>TEACHER</td>\n",
       "    </tr>\n",
       "    <tr>\n",
       "      <th>1</th>\n",
       "      <td>AT_HOME</td>\n",
       "      <td>OTHER</td>\n",
       "    </tr>\n",
       "    <tr>\n",
       "      <th>2</th>\n",
       "      <td>AT_HOME</td>\n",
       "      <td>OTHER</td>\n",
       "    </tr>\n",
       "    <tr>\n",
       "      <th>3</th>\n",
       "      <td>HEALTH</td>\n",
       "      <td>SERVICES</td>\n",
       "    </tr>\n",
       "    <tr>\n",
       "      <th>4</th>\n",
       "      <td>OTHER</td>\n",
       "      <td>OTHER</td>\n",
       "    </tr>\n",
       "    <tr>\n",
       "      <th>...</th>\n",
       "      <td>...</td>\n",
       "      <td>...</td>\n",
       "    </tr>\n",
       "    <tr>\n",
       "      <th>644</th>\n",
       "      <td>SERVICES</td>\n",
       "      <td>OTHER</td>\n",
       "    </tr>\n",
       "    <tr>\n",
       "      <th>645</th>\n",
       "      <td>TEACHER</td>\n",
       "      <td>SERVICES</td>\n",
       "    </tr>\n",
       "    <tr>\n",
       "      <th>646</th>\n",
       "      <td>OTHER</td>\n",
       "      <td>OTHER</td>\n",
       "    </tr>\n",
       "    <tr>\n",
       "      <th>647</th>\n",
       "      <td>SERVICES</td>\n",
       "      <td>SERVICES</td>\n",
       "    </tr>\n",
       "    <tr>\n",
       "      <th>648</th>\n",
       "      <td>SERVICES</td>\n",
       "      <td>OTHER</td>\n",
       "    </tr>\n",
       "  </tbody>\n",
       "</table>\n",
       "<p>649 rows × 2 columns</p>\n",
       "</div>"
      ],
      "text/plain": [
       "         Mjob      Fjob\n",
       "0     AT_HOME   TEACHER\n",
       "1     AT_HOME     OTHER\n",
       "2     AT_HOME     OTHER\n",
       "3      HEALTH  SERVICES\n",
       "4       OTHER     OTHER\n",
       "..        ...       ...\n",
       "644  SERVICES     OTHER\n",
       "645   TEACHER  SERVICES\n",
       "646     OTHER     OTHER\n",
       "647  SERVICES  SERVICES\n",
       "648  SERVICES     OTHER\n",
       "\n",
       "[649 rows x 2 columns]"
      ]
     },
     "execution_count": 737,
     "metadata": {},
     "output_type": "execute_result"
    }
   ],
   "source": [
    "df.loc[:, ['Mjob', 'Fjob']].applymap(lambda x: x.upper())"
   ]
  },
  {
   "cell_type": "markdown",
   "metadata": {},
   "source": [
    "### 40. Create a function called majority that return a boolean value to a new column called legal_drinker"
   ]
  },
  {
   "cell_type": "code",
   "execution_count": 738,
   "metadata": {},
   "outputs": [],
   "source": [
    "def majority():\n",
    "    df['legal_drinker'] = np.where(df['age'] > 18, 1,0)"
   ]
  },
  {
   "cell_type": "code",
   "execution_count": 739,
   "metadata": {},
   "outputs": [],
   "source": [
    "majority()"
   ]
  },
  {
   "cell_type": "markdown",
   "metadata": {},
   "source": [
    "### 41. Multiply every number of the dataset by 10. "
   ]
  },
  {
   "cell_type": "code",
   "execution_count": 740,
   "metadata": {},
   "outputs": [
    {
     "data": {
      "text/html": [
       "<div>\n",
       "<style scoped>\n",
       "    .dataframe tbody tr th:only-of-type {\n",
       "        vertical-align: middle;\n",
       "    }\n",
       "\n",
       "    .dataframe tbody tr th {\n",
       "        vertical-align: top;\n",
       "    }\n",
       "\n",
       "    .dataframe thead th {\n",
       "        text-align: right;\n",
       "    }\n",
       "</style>\n",
       "<table border=\"1\" class=\"dataframe\">\n",
       "  <thead>\n",
       "    <tr style=\"text-align: right;\">\n",
       "      <th></th>\n",
       "      <th>age</th>\n",
       "      <th>Medu</th>\n",
       "      <th>Fedu</th>\n",
       "    </tr>\n",
       "  </thead>\n",
       "  <tbody>\n",
       "    <tr>\n",
       "      <th>0</th>\n",
       "      <td>180</td>\n",
       "      <td>40</td>\n",
       "      <td>40</td>\n",
       "    </tr>\n",
       "    <tr>\n",
       "      <th>1</th>\n",
       "      <td>170</td>\n",
       "      <td>10</td>\n",
       "      <td>10</td>\n",
       "    </tr>\n",
       "    <tr>\n",
       "      <th>2</th>\n",
       "      <td>150</td>\n",
       "      <td>10</td>\n",
       "      <td>10</td>\n",
       "    </tr>\n",
       "    <tr>\n",
       "      <th>3</th>\n",
       "      <td>150</td>\n",
       "      <td>40</td>\n",
       "      <td>20</td>\n",
       "    </tr>\n",
       "    <tr>\n",
       "      <th>4</th>\n",
       "      <td>160</td>\n",
       "      <td>30</td>\n",
       "      <td>30</td>\n",
       "    </tr>\n",
       "    <tr>\n",
       "      <th>...</th>\n",
       "      <td>...</td>\n",
       "      <td>...</td>\n",
       "      <td>...</td>\n",
       "    </tr>\n",
       "    <tr>\n",
       "      <th>644</th>\n",
       "      <td>190</td>\n",
       "      <td>20</td>\n",
       "      <td>30</td>\n",
       "    </tr>\n",
       "    <tr>\n",
       "      <th>645</th>\n",
       "      <td>180</td>\n",
       "      <td>30</td>\n",
       "      <td>10</td>\n",
       "    </tr>\n",
       "    <tr>\n",
       "      <th>646</th>\n",
       "      <td>180</td>\n",
       "      <td>10</td>\n",
       "      <td>10</td>\n",
       "    </tr>\n",
       "    <tr>\n",
       "      <th>647</th>\n",
       "      <td>170</td>\n",
       "      <td>30</td>\n",
       "      <td>10</td>\n",
       "    </tr>\n",
       "    <tr>\n",
       "      <th>648</th>\n",
       "      <td>180</td>\n",
       "      <td>30</td>\n",
       "      <td>20</td>\n",
       "    </tr>\n",
       "  </tbody>\n",
       "</table>\n",
       "<p>649 rows × 3 columns</p>\n",
       "</div>"
      ],
      "text/plain": [
       "     age  Medu  Fedu\n",
       "0    180    40    40\n",
       "1    170    10    10\n",
       "2    150    10    10\n",
       "3    150    40    20\n",
       "4    160    30    30\n",
       "..   ...   ...   ...\n",
       "644  190    20    30\n",
       "645  180    30    10\n",
       "646  180    10    10\n",
       "647  170    30    10\n",
       "648  180    30    20\n",
       "\n",
       "[649 rows x 3 columns]"
      ]
     },
     "execution_count": 740,
     "metadata": {},
     "output_type": "execute_result"
    }
   ],
   "source": [
    "student.loc[:, student.dtypes != 'object' ] * 10"
   ]
  },
  {
   "cell_type": "markdown",
   "metadata": {},
   "source": [
    "## Section-6: The purpose of the below exercises is to understand how to perform simple joins\n",
    "## The below exercises (42-48) required to use cars1.csv and cars2.csv files "
   ]
  },
  {
   "cell_type": "markdown",
   "metadata": {},
   "source": [
    "### 42. Import the datasets cars1.csv and cars2.csv and assign names as cars1 and cars2"
   ]
  },
  {
   "cell_type": "code",
   "execution_count": 741,
   "metadata": {},
   "outputs": [],
   "source": [
    "cars1= pd.read_csv(\"F:\\\\AnalyticslabFIles\\\\assignments\\\\python\\\\cars1.csv\")"
   ]
  },
  {
   "cell_type": "code",
   "execution_count": 742,
   "metadata": {},
   "outputs": [],
   "source": [
    "cars2= pd.read_csv(\"F:\\\\AnalyticslabFIles\\\\assignments\\\\python\\\\cars2.csv\")"
   ]
  },
  {
   "cell_type": "markdown",
   "metadata": {},
   "source": [
    "   ### 43. Print the information to cars1 by applying below functions \n",
    "   hint: Use different functions/methods like type(), head(), tail(), columns(), info(), dtypes(), index(), shape(), count(), size(), ndim(), axes(), describe(), memory_usage(), sort_values(), value_counts()\n",
    "   Also create profile report using pandas_profiling.Profile_Report"
   ]
  },
  {
   "cell_type": "code",
   "execution_count": 743,
   "metadata": {},
   "outputs": [
    {
     "name": "stdout",
     "output_type": "stream",
     "text": [
      "<class 'pandas.core.frame.DataFrame'>\n",
      "<class 'pandas.core.frame.DataFrame'>\n"
     ]
    }
   ],
   "source": [
    "# type()\n",
    "print(type(cars1))\n",
    "print(type(cars2))"
   ]
  },
  {
   "cell_type": "code",
   "execution_count": 744,
   "metadata": {},
   "outputs": [
    {
     "data": {
      "text/html": [
       "<div>\n",
       "<style scoped>\n",
       "    .dataframe tbody tr th:only-of-type {\n",
       "        vertical-align: middle;\n",
       "    }\n",
       "\n",
       "    .dataframe tbody tr th {\n",
       "        vertical-align: top;\n",
       "    }\n",
       "\n",
       "    .dataframe thead th {\n",
       "        text-align: right;\n",
       "    }\n",
       "</style>\n",
       "<table border=\"1\" class=\"dataframe\">\n",
       "  <thead>\n",
       "    <tr style=\"text-align: right;\">\n",
       "      <th></th>\n",
       "      <th>mpg</th>\n",
       "      <th>cylinders</th>\n",
       "      <th>displacement</th>\n",
       "      <th>horsepower</th>\n",
       "      <th>weight</th>\n",
       "      <th>acceleration</th>\n",
       "      <th>model</th>\n",
       "      <th>origin</th>\n",
       "      <th>car</th>\n",
       "      <th>Unnamed: 9</th>\n",
       "      <th>Unnamed: 10</th>\n",
       "      <th>Unnamed: 11</th>\n",
       "      <th>Unnamed: 12</th>\n",
       "      <th>Unnamed: 13</th>\n",
       "    </tr>\n",
       "  </thead>\n",
       "  <tbody>\n",
       "    <tr>\n",
       "      <th>0</th>\n",
       "      <td>18.0</td>\n",
       "      <td>8</td>\n",
       "      <td>307</td>\n",
       "      <td>130</td>\n",
       "      <td>3504</td>\n",
       "      <td>12.0</td>\n",
       "      <td>70</td>\n",
       "      <td>1</td>\n",
       "      <td>chevrolet chevelle malibu</td>\n",
       "      <td>NaN</td>\n",
       "      <td>NaN</td>\n",
       "      <td>NaN</td>\n",
       "      <td>NaN</td>\n",
       "      <td>NaN</td>\n",
       "    </tr>\n",
       "    <tr>\n",
       "      <th>1</th>\n",
       "      <td>15.0</td>\n",
       "      <td>8</td>\n",
       "      <td>350</td>\n",
       "      <td>165</td>\n",
       "      <td>3693</td>\n",
       "      <td>11.5</td>\n",
       "      <td>70</td>\n",
       "      <td>1</td>\n",
       "      <td>buick skylark 320</td>\n",
       "      <td>NaN</td>\n",
       "      <td>NaN</td>\n",
       "      <td>NaN</td>\n",
       "      <td>NaN</td>\n",
       "      <td>NaN</td>\n",
       "    </tr>\n",
       "    <tr>\n",
       "      <th>2</th>\n",
       "      <td>18.0</td>\n",
       "      <td>8</td>\n",
       "      <td>318</td>\n",
       "      <td>150</td>\n",
       "      <td>3436</td>\n",
       "      <td>11.0</td>\n",
       "      <td>70</td>\n",
       "      <td>1</td>\n",
       "      <td>plymouth satellite</td>\n",
       "      <td>NaN</td>\n",
       "      <td>NaN</td>\n",
       "      <td>NaN</td>\n",
       "      <td>NaN</td>\n",
       "      <td>NaN</td>\n",
       "    </tr>\n",
       "    <tr>\n",
       "      <th>3</th>\n",
       "      <td>16.0</td>\n",
       "      <td>8</td>\n",
       "      <td>304</td>\n",
       "      <td>150</td>\n",
       "      <td>3433</td>\n",
       "      <td>12.0</td>\n",
       "      <td>70</td>\n",
       "      <td>1</td>\n",
       "      <td>amc rebel sst</td>\n",
       "      <td>NaN</td>\n",
       "      <td>NaN</td>\n",
       "      <td>NaN</td>\n",
       "      <td>NaN</td>\n",
       "      <td>NaN</td>\n",
       "    </tr>\n",
       "    <tr>\n",
       "      <th>4</th>\n",
       "      <td>17.0</td>\n",
       "      <td>8</td>\n",
       "      <td>302</td>\n",
       "      <td>140</td>\n",
       "      <td>3449</td>\n",
       "      <td>10.5</td>\n",
       "      <td>70</td>\n",
       "      <td>1</td>\n",
       "      <td>ford torino</td>\n",
       "      <td>NaN</td>\n",
       "      <td>NaN</td>\n",
       "      <td>NaN</td>\n",
       "      <td>NaN</td>\n",
       "      <td>NaN</td>\n",
       "    </tr>\n",
       "  </tbody>\n",
       "</table>\n",
       "</div>"
      ],
      "text/plain": [
       "    mpg  cylinders  displacement horsepower  weight  acceleration  model  \\\n",
       "0  18.0          8           307        130    3504          12.0     70   \n",
       "1  15.0          8           350        165    3693          11.5     70   \n",
       "2  18.0          8           318        150    3436          11.0     70   \n",
       "3  16.0          8           304        150    3433          12.0     70   \n",
       "4  17.0          8           302        140    3449          10.5     70   \n",
       "\n",
       "   origin                        car  Unnamed: 9  Unnamed: 10  Unnamed: 11  \\\n",
       "0       1  chevrolet chevelle malibu         NaN          NaN          NaN   \n",
       "1       1          buick skylark 320         NaN          NaN          NaN   \n",
       "2       1         plymouth satellite         NaN          NaN          NaN   \n",
       "3       1              amc rebel sst         NaN          NaN          NaN   \n",
       "4       1                ford torino         NaN          NaN          NaN   \n",
       "\n",
       "   Unnamed: 12  Unnamed: 13  \n",
       "0          NaN          NaN  \n",
       "1          NaN          NaN  \n",
       "2          NaN          NaN  \n",
       "3          NaN          NaN  \n",
       "4          NaN          NaN  "
      ]
     },
     "execution_count": 744,
     "metadata": {},
     "output_type": "execute_result"
    }
   ],
   "source": [
    "# head()\n",
    "cars1.head()"
   ]
  },
  {
   "cell_type": "code",
   "execution_count": 745,
   "metadata": {},
   "outputs": [
    {
     "data": {
      "text/html": [
       "<div>\n",
       "<style scoped>\n",
       "    .dataframe tbody tr th:only-of-type {\n",
       "        vertical-align: middle;\n",
       "    }\n",
       "\n",
       "    .dataframe tbody tr th {\n",
       "        vertical-align: top;\n",
       "    }\n",
       "\n",
       "    .dataframe thead th {\n",
       "        text-align: right;\n",
       "    }\n",
       "</style>\n",
       "<table border=\"1\" class=\"dataframe\">\n",
       "  <thead>\n",
       "    <tr style=\"text-align: right;\">\n",
       "      <th></th>\n",
       "      <th>mpg</th>\n",
       "      <th>cylinders</th>\n",
       "      <th>displacement</th>\n",
       "      <th>horsepower</th>\n",
       "      <th>weight</th>\n",
       "      <th>acceleration</th>\n",
       "      <th>model</th>\n",
       "      <th>origin</th>\n",
       "      <th>car</th>\n",
       "    </tr>\n",
       "  </thead>\n",
       "  <tbody>\n",
       "    <tr>\n",
       "      <th>0</th>\n",
       "      <td>33.0</td>\n",
       "      <td>4</td>\n",
       "      <td>91</td>\n",
       "      <td>53</td>\n",
       "      <td>1795</td>\n",
       "      <td>17.4</td>\n",
       "      <td>76</td>\n",
       "      <td>3</td>\n",
       "      <td>honda civic</td>\n",
       "    </tr>\n",
       "    <tr>\n",
       "      <th>1</th>\n",
       "      <td>20.0</td>\n",
       "      <td>6</td>\n",
       "      <td>225</td>\n",
       "      <td>100</td>\n",
       "      <td>3651</td>\n",
       "      <td>17.7</td>\n",
       "      <td>76</td>\n",
       "      <td>1</td>\n",
       "      <td>dodge aspen se</td>\n",
       "    </tr>\n",
       "    <tr>\n",
       "      <th>2</th>\n",
       "      <td>18.0</td>\n",
       "      <td>6</td>\n",
       "      <td>250</td>\n",
       "      <td>78</td>\n",
       "      <td>3574</td>\n",
       "      <td>21.0</td>\n",
       "      <td>76</td>\n",
       "      <td>1</td>\n",
       "      <td>ford granada ghia</td>\n",
       "    </tr>\n",
       "    <tr>\n",
       "      <th>3</th>\n",
       "      <td>18.5</td>\n",
       "      <td>6</td>\n",
       "      <td>250</td>\n",
       "      <td>110</td>\n",
       "      <td>3645</td>\n",
       "      <td>16.2</td>\n",
       "      <td>76</td>\n",
       "      <td>1</td>\n",
       "      <td>pontiac ventura sj</td>\n",
       "    </tr>\n",
       "    <tr>\n",
       "      <th>4</th>\n",
       "      <td>17.5</td>\n",
       "      <td>6</td>\n",
       "      <td>258</td>\n",
       "      <td>95</td>\n",
       "      <td>3193</td>\n",
       "      <td>17.8</td>\n",
       "      <td>76</td>\n",
       "      <td>1</td>\n",
       "      <td>amc pacer d/l</td>\n",
       "    </tr>\n",
       "  </tbody>\n",
       "</table>\n",
       "</div>"
      ],
      "text/plain": [
       "    mpg  cylinders  displacement horsepower  weight  acceleration  model  \\\n",
       "0  33.0          4            91         53    1795          17.4     76   \n",
       "1  20.0          6           225        100    3651          17.7     76   \n",
       "2  18.0          6           250         78    3574          21.0     76   \n",
       "3  18.5          6           250        110    3645          16.2     76   \n",
       "4  17.5          6           258         95    3193          17.8     76   \n",
       "\n",
       "   origin                 car  \n",
       "0       3         honda civic  \n",
       "1       1      dodge aspen se  \n",
       "2       1   ford granada ghia  \n",
       "3       1  pontiac ventura sj  \n",
       "4       1       amc pacer d/l  "
      ]
     },
     "execution_count": 745,
     "metadata": {},
     "output_type": "execute_result"
    }
   ],
   "source": [
    "cars2.head()"
   ]
  },
  {
   "cell_type": "code",
   "execution_count": 746,
   "metadata": {},
   "outputs": [
    {
     "data": {
      "text/html": [
       "<div>\n",
       "<style scoped>\n",
       "    .dataframe tbody tr th:only-of-type {\n",
       "        vertical-align: middle;\n",
       "    }\n",
       "\n",
       "    .dataframe tbody tr th {\n",
       "        vertical-align: top;\n",
       "    }\n",
       "\n",
       "    .dataframe thead th {\n",
       "        text-align: right;\n",
       "    }\n",
       "</style>\n",
       "<table border=\"1\" class=\"dataframe\">\n",
       "  <thead>\n",
       "    <tr style=\"text-align: right;\">\n",
       "      <th></th>\n",
       "      <th>mpg</th>\n",
       "      <th>cylinders</th>\n",
       "      <th>displacement</th>\n",
       "      <th>horsepower</th>\n",
       "      <th>weight</th>\n",
       "      <th>acceleration</th>\n",
       "      <th>model</th>\n",
       "      <th>origin</th>\n",
       "      <th>car</th>\n",
       "      <th>Unnamed: 9</th>\n",
       "      <th>Unnamed: 10</th>\n",
       "      <th>Unnamed: 11</th>\n",
       "      <th>Unnamed: 12</th>\n",
       "      <th>Unnamed: 13</th>\n",
       "    </tr>\n",
       "  </thead>\n",
       "  <tbody>\n",
       "    <tr>\n",
       "      <th>193</th>\n",
       "      <td>24.0</td>\n",
       "      <td>6</td>\n",
       "      <td>200</td>\n",
       "      <td>81</td>\n",
       "      <td>3012</td>\n",
       "      <td>17.6</td>\n",
       "      <td>76</td>\n",
       "      <td>1</td>\n",
       "      <td>ford maverick</td>\n",
       "      <td>NaN</td>\n",
       "      <td>NaN</td>\n",
       "      <td>NaN</td>\n",
       "      <td>NaN</td>\n",
       "      <td>NaN</td>\n",
       "    </tr>\n",
       "    <tr>\n",
       "      <th>194</th>\n",
       "      <td>22.5</td>\n",
       "      <td>6</td>\n",
       "      <td>232</td>\n",
       "      <td>90</td>\n",
       "      <td>3085</td>\n",
       "      <td>17.6</td>\n",
       "      <td>76</td>\n",
       "      <td>1</td>\n",
       "      <td>amc hornet</td>\n",
       "      <td>NaN</td>\n",
       "      <td>NaN</td>\n",
       "      <td>NaN</td>\n",
       "      <td>NaN</td>\n",
       "      <td>NaN</td>\n",
       "    </tr>\n",
       "    <tr>\n",
       "      <th>195</th>\n",
       "      <td>29.0</td>\n",
       "      <td>4</td>\n",
       "      <td>85</td>\n",
       "      <td>52</td>\n",
       "      <td>2035</td>\n",
       "      <td>22.2</td>\n",
       "      <td>76</td>\n",
       "      <td>1</td>\n",
       "      <td>chevrolet chevette</td>\n",
       "      <td>NaN</td>\n",
       "      <td>NaN</td>\n",
       "      <td>NaN</td>\n",
       "      <td>NaN</td>\n",
       "      <td>NaN</td>\n",
       "    </tr>\n",
       "    <tr>\n",
       "      <th>196</th>\n",
       "      <td>24.5</td>\n",
       "      <td>4</td>\n",
       "      <td>98</td>\n",
       "      <td>60</td>\n",
       "      <td>2164</td>\n",
       "      <td>22.1</td>\n",
       "      <td>76</td>\n",
       "      <td>1</td>\n",
       "      <td>chevrolet woody</td>\n",
       "      <td>NaN</td>\n",
       "      <td>NaN</td>\n",
       "      <td>NaN</td>\n",
       "      <td>NaN</td>\n",
       "      <td>NaN</td>\n",
       "    </tr>\n",
       "    <tr>\n",
       "      <th>197</th>\n",
       "      <td>29.0</td>\n",
       "      <td>4</td>\n",
       "      <td>90</td>\n",
       "      <td>70</td>\n",
       "      <td>1937</td>\n",
       "      <td>14.2</td>\n",
       "      <td>76</td>\n",
       "      <td>2</td>\n",
       "      <td>vw rabbit</td>\n",
       "      <td>NaN</td>\n",
       "      <td>NaN</td>\n",
       "      <td>NaN</td>\n",
       "      <td>NaN</td>\n",
       "      <td>NaN</td>\n",
       "    </tr>\n",
       "  </tbody>\n",
       "</table>\n",
       "</div>"
      ],
      "text/plain": [
       "      mpg  cylinders  displacement horsepower  weight  acceleration  model  \\\n",
       "193  24.0          6           200         81    3012          17.6     76   \n",
       "194  22.5          6           232         90    3085          17.6     76   \n",
       "195  29.0          4            85         52    2035          22.2     76   \n",
       "196  24.5          4            98         60    2164          22.1     76   \n",
       "197  29.0          4            90         70    1937          14.2     76   \n",
       "\n",
       "     origin                 car  Unnamed: 9  Unnamed: 10  Unnamed: 11  \\\n",
       "193       1       ford maverick         NaN          NaN          NaN   \n",
       "194       1          amc hornet         NaN          NaN          NaN   \n",
       "195       1  chevrolet chevette         NaN          NaN          NaN   \n",
       "196       1     chevrolet woody         NaN          NaN          NaN   \n",
       "197       2           vw rabbit         NaN          NaN          NaN   \n",
       "\n",
       "     Unnamed: 12  Unnamed: 13  \n",
       "193          NaN          NaN  \n",
       "194          NaN          NaN  \n",
       "195          NaN          NaN  \n",
       "196          NaN          NaN  \n",
       "197          NaN          NaN  "
      ]
     },
     "execution_count": 746,
     "metadata": {},
     "output_type": "execute_result"
    }
   ],
   "source": [
    "# tail()\n",
    "cars1.tail()"
   ]
  },
  {
   "cell_type": "code",
   "execution_count": 747,
   "metadata": {},
   "outputs": [
    {
     "data": {
      "text/html": [
       "<div>\n",
       "<style scoped>\n",
       "    .dataframe tbody tr th:only-of-type {\n",
       "        vertical-align: middle;\n",
       "    }\n",
       "\n",
       "    .dataframe tbody tr th {\n",
       "        vertical-align: top;\n",
       "    }\n",
       "\n",
       "    .dataframe thead th {\n",
       "        text-align: right;\n",
       "    }\n",
       "</style>\n",
       "<table border=\"1\" class=\"dataframe\">\n",
       "  <thead>\n",
       "    <tr style=\"text-align: right;\">\n",
       "      <th></th>\n",
       "      <th>mpg</th>\n",
       "      <th>cylinders</th>\n",
       "      <th>displacement</th>\n",
       "      <th>horsepower</th>\n",
       "      <th>weight</th>\n",
       "      <th>acceleration</th>\n",
       "      <th>model</th>\n",
       "      <th>origin</th>\n",
       "      <th>car</th>\n",
       "    </tr>\n",
       "  </thead>\n",
       "  <tbody>\n",
       "    <tr>\n",
       "      <th>195</th>\n",
       "      <td>27.0</td>\n",
       "      <td>4</td>\n",
       "      <td>140</td>\n",
       "      <td>86</td>\n",
       "      <td>2790</td>\n",
       "      <td>15.6</td>\n",
       "      <td>82</td>\n",
       "      <td>1</td>\n",
       "      <td>ford mustang gl</td>\n",
       "    </tr>\n",
       "    <tr>\n",
       "      <th>196</th>\n",
       "      <td>44.0</td>\n",
       "      <td>4</td>\n",
       "      <td>97</td>\n",
       "      <td>52</td>\n",
       "      <td>2130</td>\n",
       "      <td>24.6</td>\n",
       "      <td>82</td>\n",
       "      <td>2</td>\n",
       "      <td>vw pickup</td>\n",
       "    </tr>\n",
       "    <tr>\n",
       "      <th>197</th>\n",
       "      <td>32.0</td>\n",
       "      <td>4</td>\n",
       "      <td>135</td>\n",
       "      <td>84</td>\n",
       "      <td>2295</td>\n",
       "      <td>11.6</td>\n",
       "      <td>82</td>\n",
       "      <td>1</td>\n",
       "      <td>dodge rampage</td>\n",
       "    </tr>\n",
       "    <tr>\n",
       "      <th>198</th>\n",
       "      <td>28.0</td>\n",
       "      <td>4</td>\n",
       "      <td>120</td>\n",
       "      <td>79</td>\n",
       "      <td>2625</td>\n",
       "      <td>18.6</td>\n",
       "      <td>82</td>\n",
       "      <td>1</td>\n",
       "      <td>ford ranger</td>\n",
       "    </tr>\n",
       "    <tr>\n",
       "      <th>199</th>\n",
       "      <td>31.0</td>\n",
       "      <td>4</td>\n",
       "      <td>119</td>\n",
       "      <td>82</td>\n",
       "      <td>2720</td>\n",
       "      <td>19.4</td>\n",
       "      <td>82</td>\n",
       "      <td>1</td>\n",
       "      <td>chevy s-10</td>\n",
       "    </tr>\n",
       "  </tbody>\n",
       "</table>\n",
       "</div>"
      ],
      "text/plain": [
       "      mpg  cylinders  displacement horsepower  weight  acceleration  model  \\\n",
       "195  27.0          4           140         86    2790          15.6     82   \n",
       "196  44.0          4            97         52    2130          24.6     82   \n",
       "197  32.0          4           135         84    2295          11.6     82   \n",
       "198  28.0          4           120         79    2625          18.6     82   \n",
       "199  31.0          4           119         82    2720          19.4     82   \n",
       "\n",
       "     origin              car  \n",
       "195       1  ford mustang gl  \n",
       "196       2        vw pickup  \n",
       "197       1    dodge rampage  \n",
       "198       1      ford ranger  \n",
       "199       1       chevy s-10  "
      ]
     },
     "execution_count": 747,
     "metadata": {},
     "output_type": "execute_result"
    }
   ],
   "source": [
    "cars2.tail()"
   ]
  },
  {
   "cell_type": "code",
   "execution_count": 748,
   "metadata": {},
   "outputs": [
    {
     "data": {
      "text/plain": [
       "Index(['mpg', 'cylinders', 'displacement', 'horsepower', 'weight',\n",
       "       'acceleration', 'model', 'origin', 'car', 'Unnamed: 9', 'Unnamed: 10',\n",
       "       'Unnamed: 11', 'Unnamed: 12', 'Unnamed: 13'],\n",
       "      dtype='object')"
      ]
     },
     "execution_count": 748,
     "metadata": {},
     "output_type": "execute_result"
    }
   ],
   "source": [
    "# .columns\n",
    "cars1.columns"
   ]
  },
  {
   "cell_type": "code",
   "execution_count": 749,
   "metadata": {},
   "outputs": [
    {
     "data": {
      "text/plain": [
       "Index(['mpg', 'cylinders', 'displacement', 'horsepower', 'weight',\n",
       "       'acceleration', 'model', 'origin', 'car'],\n",
       "      dtype='object')"
      ]
     },
     "execution_count": 749,
     "metadata": {},
     "output_type": "execute_result"
    }
   ],
   "source": [
    "cars2.columns"
   ]
  },
  {
   "cell_type": "code",
   "execution_count": 750,
   "metadata": {},
   "outputs": [
    {
     "name": "stdout",
     "output_type": "stream",
     "text": [
      "<class 'pandas.core.frame.DataFrame'>\n",
      "RangeIndex: 198 entries, 0 to 197\n",
      "Data columns (total 14 columns):\n",
      " #   Column        Non-Null Count  Dtype  \n",
      "---  ------        --------------  -----  \n",
      " 0   mpg           198 non-null    float64\n",
      " 1   cylinders     198 non-null    int64  \n",
      " 2   displacement  198 non-null    int64  \n",
      " 3   horsepower    198 non-null    object \n",
      " 4   weight        198 non-null    int64  \n",
      " 5   acceleration  198 non-null    float64\n",
      " 6   model         198 non-null    int64  \n",
      " 7   origin        198 non-null    int64  \n",
      " 8   car           198 non-null    object \n",
      " 9   Unnamed: 9    0 non-null      float64\n",
      " 10  Unnamed: 10   0 non-null      float64\n",
      " 11  Unnamed: 11   0 non-null      float64\n",
      " 12  Unnamed: 12   0 non-null      float64\n",
      " 13  Unnamed: 13   0 non-null      float64\n",
      "dtypes: float64(7), int64(5), object(2)\n",
      "memory usage: 21.8+ KB\n"
     ]
    }
   ],
   "source": [
    "# .info()\n",
    "cars1.info()"
   ]
  },
  {
   "cell_type": "code",
   "execution_count": 751,
   "metadata": {},
   "outputs": [
    {
     "name": "stdout",
     "output_type": "stream",
     "text": [
      "<class 'pandas.core.frame.DataFrame'>\n",
      "RangeIndex: 200 entries, 0 to 199\n",
      "Data columns (total 9 columns):\n",
      " #   Column        Non-Null Count  Dtype  \n",
      "---  ------        --------------  -----  \n",
      " 0   mpg           200 non-null    float64\n",
      " 1   cylinders     200 non-null    int64  \n",
      " 2   displacement  200 non-null    int64  \n",
      " 3   horsepower    200 non-null    object \n",
      " 4   weight        200 non-null    int64  \n",
      " 5   acceleration  200 non-null    float64\n",
      " 6   model         200 non-null    int64  \n",
      " 7   origin        200 non-null    int64  \n",
      " 8   car           200 non-null    object \n",
      "dtypes: float64(2), int64(5), object(2)\n",
      "memory usage: 14.2+ KB\n"
     ]
    }
   ],
   "source": [
    "cars2.info()"
   ]
  },
  {
   "cell_type": "code",
   "execution_count": 752,
   "metadata": {},
   "outputs": [
    {
     "data": {
      "text/plain": [
       "mpg             float64\n",
       "cylinders         int64\n",
       "displacement      int64\n",
       "horsepower       object\n",
       "weight            int64\n",
       "acceleration    float64\n",
       "model             int64\n",
       "origin            int64\n",
       "car              object\n",
       "Unnamed: 9      float64\n",
       "Unnamed: 10     float64\n",
       "Unnamed: 11     float64\n",
       "Unnamed: 12     float64\n",
       "Unnamed: 13     float64\n",
       "dtype: object"
      ]
     },
     "execution_count": 752,
     "metadata": {},
     "output_type": "execute_result"
    }
   ],
   "source": [
    "# .dtypes\n",
    "cars1.dtypes"
   ]
  },
  {
   "cell_type": "code",
   "execution_count": 753,
   "metadata": {},
   "outputs": [
    {
     "data": {
      "text/plain": [
       "mpg             float64\n",
       "cylinders         int64\n",
       "displacement      int64\n",
       "horsepower       object\n",
       "weight            int64\n",
       "acceleration    float64\n",
       "model             int64\n",
       "origin            int64\n",
       "car              object\n",
       "dtype: object"
      ]
     },
     "execution_count": 753,
     "metadata": {},
     "output_type": "execute_result"
    }
   ],
   "source": [
    " cars2.dtypes"
   ]
  },
  {
   "cell_type": "code",
   "execution_count": 754,
   "metadata": {},
   "outputs": [
    {
     "data": {
      "text/plain": [
       "RangeIndex(start=0, stop=198, step=1)"
      ]
     },
     "execution_count": 754,
     "metadata": {},
     "output_type": "execute_result"
    }
   ],
   "source": [
    "# .index\n",
    "cars1.index"
   ]
  },
  {
   "cell_type": "code",
   "execution_count": 755,
   "metadata": {},
   "outputs": [
    {
     "data": {
      "text/plain": [
       "RangeIndex(start=0, stop=200, step=1)"
      ]
     },
     "execution_count": 755,
     "metadata": {},
     "output_type": "execute_result"
    }
   ],
   "source": [
    "cars2.index"
   ]
  },
  {
   "cell_type": "code",
   "execution_count": 756,
   "metadata": {},
   "outputs": [
    {
     "data": {
      "text/plain": [
       "(198, 14)"
      ]
     },
     "execution_count": 756,
     "metadata": {},
     "output_type": "execute_result"
    }
   ],
   "source": [
    "# .shape\n",
    "cars1.shape"
   ]
  },
  {
   "cell_type": "code",
   "execution_count": 757,
   "metadata": {},
   "outputs": [
    {
     "data": {
      "text/plain": [
       "(200, 9)"
      ]
     },
     "execution_count": 757,
     "metadata": {},
     "output_type": "execute_result"
    }
   ],
   "source": [
    "cars2.shape"
   ]
  },
  {
   "cell_type": "raw",
   "metadata": {},
   "source": [
    "count(), size(), ndim(), axes(), describe(), memory_usage(), sort_values(), value_counts() "
   ]
  },
  {
   "cell_type": "code",
   "execution_count": 758,
   "metadata": {},
   "outputs": [
    {
     "data": {
      "text/plain": [
       "mpg             198\n",
       "cylinders       198\n",
       "displacement    198\n",
       "horsepower      198\n",
       "weight          198\n",
       "acceleration    198\n",
       "model           198\n",
       "origin          198\n",
       "car             198\n",
       "Unnamed: 9        0\n",
       "Unnamed: 10       0\n",
       "Unnamed: 11       0\n",
       "Unnamed: 12       0\n",
       "Unnamed: 13       0\n",
       "dtype: int64"
      ]
     },
     "execution_count": 758,
     "metadata": {},
     "output_type": "execute_result"
    }
   ],
   "source": [
    "# .count()\n",
    "cars1.count()"
   ]
  },
  {
   "cell_type": "code",
   "execution_count": 759,
   "metadata": {},
   "outputs": [
    {
     "data": {
      "text/plain": [
       "mpg             200\n",
       "cylinders       200\n",
       "displacement    200\n",
       "horsepower      200\n",
       "weight          200\n",
       "acceleration    200\n",
       "model           200\n",
       "origin          200\n",
       "car             200\n",
       "dtype: int64"
      ]
     },
     "execution_count": 759,
     "metadata": {},
     "output_type": "execute_result"
    }
   ],
   "source": [
    "cars2.count()"
   ]
  },
  {
   "cell_type": "code",
   "execution_count": 760,
   "metadata": {},
   "outputs": [
    {
     "data": {
      "text/plain": [
       "2772"
      ]
     },
     "execution_count": 760,
     "metadata": {},
     "output_type": "execute_result"
    }
   ],
   "source": [
    "# .size\n",
    "cars1.size"
   ]
  },
  {
   "cell_type": "code",
   "execution_count": 761,
   "metadata": {},
   "outputs": [
    {
     "data": {
      "text/plain": [
       "1800"
      ]
     },
     "execution_count": 761,
     "metadata": {},
     "output_type": "execute_result"
    }
   ],
   "source": [
    "cars2.size"
   ]
  },
  {
   "cell_type": "code",
   "execution_count": 762,
   "metadata": {},
   "outputs": [
    {
     "data": {
      "text/plain": [
       "2"
      ]
     },
     "execution_count": 762,
     "metadata": {},
     "output_type": "execute_result"
    }
   ],
   "source": [
    "# .ndim\n",
    "cars1.ndim"
   ]
  },
  {
   "cell_type": "code",
   "execution_count": 763,
   "metadata": {},
   "outputs": [
    {
     "data": {
      "text/plain": [
       "2"
      ]
     },
     "execution_count": 763,
     "metadata": {},
     "output_type": "execute_result"
    }
   ],
   "source": [
    "cars2.ndim"
   ]
  },
  {
   "cell_type": "code",
   "execution_count": 764,
   "metadata": {},
   "outputs": [
    {
     "data": {
      "text/plain": [
       "[RangeIndex(start=0, stop=198, step=1),\n",
       " Index(['mpg', 'cylinders', 'displacement', 'horsepower', 'weight',\n",
       "        'acceleration', 'model', 'origin', 'car', 'Unnamed: 9', 'Unnamed: 10',\n",
       "        'Unnamed: 11', 'Unnamed: 12', 'Unnamed: 13'],\n",
       "       dtype='object')]"
      ]
     },
     "execution_count": 764,
     "metadata": {},
     "output_type": "execute_result"
    }
   ],
   "source": [
    "# .axis\n",
    "cars1.axes"
   ]
  },
  {
   "cell_type": "code",
   "execution_count": 765,
   "metadata": {},
   "outputs": [
    {
     "data": {
      "text/plain": [
       "[RangeIndex(start=0, stop=200, step=1),\n",
       " Index(['mpg', 'cylinders', 'displacement', 'horsepower', 'weight',\n",
       "        'acceleration', 'model', 'origin', 'car'],\n",
       "       dtype='object')]"
      ]
     },
     "execution_count": 765,
     "metadata": {},
     "output_type": "execute_result"
    }
   ],
   "source": [
    "cars2.axes"
   ]
  },
  {
   "cell_type": "code",
   "execution_count": 766,
   "metadata": {},
   "outputs": [
    {
     "data": {
      "text/html": [
       "<div>\n",
       "<style scoped>\n",
       "    .dataframe tbody tr th:only-of-type {\n",
       "        vertical-align: middle;\n",
       "    }\n",
       "\n",
       "    .dataframe tbody tr th {\n",
       "        vertical-align: top;\n",
       "    }\n",
       "\n",
       "    .dataframe thead th {\n",
       "        text-align: right;\n",
       "    }\n",
       "</style>\n",
       "<table border=\"1\" class=\"dataframe\">\n",
       "  <thead>\n",
       "    <tr style=\"text-align: right;\">\n",
       "      <th></th>\n",
       "      <th>mpg</th>\n",
       "      <th>cylinders</th>\n",
       "      <th>displacement</th>\n",
       "      <th>weight</th>\n",
       "      <th>acceleration</th>\n",
       "      <th>model</th>\n",
       "      <th>origin</th>\n",
       "      <th>Unnamed: 9</th>\n",
       "      <th>Unnamed: 10</th>\n",
       "      <th>Unnamed: 11</th>\n",
       "      <th>Unnamed: 12</th>\n",
       "      <th>Unnamed: 13</th>\n",
       "    </tr>\n",
       "  </thead>\n",
       "  <tbody>\n",
       "    <tr>\n",
       "      <th>count</th>\n",
       "      <td>198.000000</td>\n",
       "      <td>198.000000</td>\n",
       "      <td>198.000000</td>\n",
       "      <td>198.000000</td>\n",
       "      <td>198.000000</td>\n",
       "      <td>198.000000</td>\n",
       "      <td>198.000000</td>\n",
       "      <td>0.0</td>\n",
       "      <td>0.0</td>\n",
       "      <td>0.0</td>\n",
       "      <td>0.0</td>\n",
       "      <td>0.0</td>\n",
       "    </tr>\n",
       "    <tr>\n",
       "      <th>mean</th>\n",
       "      <td>19.719697</td>\n",
       "      <td>5.898990</td>\n",
       "      <td>223.469697</td>\n",
       "      <td>3177.888889</td>\n",
       "      <td>15.005556</td>\n",
       "      <td>72.818182</td>\n",
       "      <td>1.439394</td>\n",
       "      <td>NaN</td>\n",
       "      <td>NaN</td>\n",
       "      <td>NaN</td>\n",
       "      <td>NaN</td>\n",
       "      <td>NaN</td>\n",
       "    </tr>\n",
       "    <tr>\n",
       "      <th>std</th>\n",
       "      <td>5.814254</td>\n",
       "      <td>1.785417</td>\n",
       "      <td>115.181017</td>\n",
       "      <td>934.783733</td>\n",
       "      <td>2.872382</td>\n",
       "      <td>1.865332</td>\n",
       "      <td>0.708085</td>\n",
       "      <td>NaN</td>\n",
       "      <td>NaN</td>\n",
       "      <td>NaN</td>\n",
       "      <td>NaN</td>\n",
       "      <td>NaN</td>\n",
       "    </tr>\n",
       "    <tr>\n",
       "      <th>min</th>\n",
       "      <td>9.000000</td>\n",
       "      <td>3.000000</td>\n",
       "      <td>68.000000</td>\n",
       "      <td>1613.000000</td>\n",
       "      <td>8.000000</td>\n",
       "      <td>70.000000</td>\n",
       "      <td>1.000000</td>\n",
       "      <td>NaN</td>\n",
       "      <td>NaN</td>\n",
       "      <td>NaN</td>\n",
       "      <td>NaN</td>\n",
       "      <td>NaN</td>\n",
       "    </tr>\n",
       "    <tr>\n",
       "      <th>25%</th>\n",
       "      <td>15.000000</td>\n",
       "      <td>4.000000</td>\n",
       "      <td>113.250000</td>\n",
       "      <td>2302.500000</td>\n",
       "      <td>13.000000</td>\n",
       "      <td>71.000000</td>\n",
       "      <td>1.000000</td>\n",
       "      <td>NaN</td>\n",
       "      <td>NaN</td>\n",
       "      <td>NaN</td>\n",
       "      <td>NaN</td>\n",
       "      <td>NaN</td>\n",
       "    </tr>\n",
       "    <tr>\n",
       "      <th>50%</th>\n",
       "      <td>19.000000</td>\n",
       "      <td>6.000000</td>\n",
       "      <td>228.000000</td>\n",
       "      <td>3030.000000</td>\n",
       "      <td>15.000000</td>\n",
       "      <td>73.000000</td>\n",
       "      <td>1.000000</td>\n",
       "      <td>NaN</td>\n",
       "      <td>NaN</td>\n",
       "      <td>NaN</td>\n",
       "      <td>NaN</td>\n",
       "      <td>NaN</td>\n",
       "    </tr>\n",
       "    <tr>\n",
       "      <th>75%</th>\n",
       "      <td>24.375000</td>\n",
       "      <td>8.000000</td>\n",
       "      <td>318.000000</td>\n",
       "      <td>4080.750000</td>\n",
       "      <td>16.800000</td>\n",
       "      <td>74.000000</td>\n",
       "      <td>2.000000</td>\n",
       "      <td>NaN</td>\n",
       "      <td>NaN</td>\n",
       "      <td>NaN</td>\n",
       "      <td>NaN</td>\n",
       "      <td>NaN</td>\n",
       "    </tr>\n",
       "    <tr>\n",
       "      <th>max</th>\n",
       "      <td>35.000000</td>\n",
       "      <td>8.000000</td>\n",
       "      <td>455.000000</td>\n",
       "      <td>5140.000000</td>\n",
       "      <td>23.500000</td>\n",
       "      <td>76.000000</td>\n",
       "      <td>3.000000</td>\n",
       "      <td>NaN</td>\n",
       "      <td>NaN</td>\n",
       "      <td>NaN</td>\n",
       "      <td>NaN</td>\n",
       "      <td>NaN</td>\n",
       "    </tr>\n",
       "  </tbody>\n",
       "</table>\n",
       "</div>"
      ],
      "text/plain": [
       "              mpg   cylinders  displacement       weight  acceleration  \\\n",
       "count  198.000000  198.000000    198.000000   198.000000    198.000000   \n",
       "mean    19.719697    5.898990    223.469697  3177.888889     15.005556   \n",
       "std      5.814254    1.785417    115.181017   934.783733      2.872382   \n",
       "min      9.000000    3.000000     68.000000  1613.000000      8.000000   \n",
       "25%     15.000000    4.000000    113.250000  2302.500000     13.000000   \n",
       "50%     19.000000    6.000000    228.000000  3030.000000     15.000000   \n",
       "75%     24.375000    8.000000    318.000000  4080.750000     16.800000   \n",
       "max     35.000000    8.000000    455.000000  5140.000000     23.500000   \n",
       "\n",
       "            model      origin  Unnamed: 9  Unnamed: 10  Unnamed: 11  \\\n",
       "count  198.000000  198.000000         0.0          0.0          0.0   \n",
       "mean    72.818182    1.439394         NaN          NaN          NaN   \n",
       "std      1.865332    0.708085         NaN          NaN          NaN   \n",
       "min     70.000000    1.000000         NaN          NaN          NaN   \n",
       "25%     71.000000    1.000000         NaN          NaN          NaN   \n",
       "50%     73.000000    1.000000         NaN          NaN          NaN   \n",
       "75%     74.000000    2.000000         NaN          NaN          NaN   \n",
       "max     76.000000    3.000000         NaN          NaN          NaN   \n",
       "\n",
       "       Unnamed: 12  Unnamed: 13  \n",
       "count          0.0          0.0  \n",
       "mean           NaN          NaN  \n",
       "std            NaN          NaN  \n",
       "min            NaN          NaN  \n",
       "25%            NaN          NaN  \n",
       "50%            NaN          NaN  \n",
       "75%            NaN          NaN  \n",
       "max            NaN          NaN  "
      ]
     },
     "execution_count": 766,
     "metadata": {},
     "output_type": "execute_result"
    }
   ],
   "source": [
    "# .describe()\n",
    "cars1.describe()"
   ]
  },
  {
   "cell_type": "code",
   "execution_count": 767,
   "metadata": {},
   "outputs": [
    {
     "data": {
      "text/html": [
       "<div>\n",
       "<style scoped>\n",
       "    .dataframe tbody tr th:only-of-type {\n",
       "        vertical-align: middle;\n",
       "    }\n",
       "\n",
       "    .dataframe tbody tr th {\n",
       "        vertical-align: top;\n",
       "    }\n",
       "\n",
       "    .dataframe thead th {\n",
       "        text-align: right;\n",
       "    }\n",
       "</style>\n",
       "<table border=\"1\" class=\"dataframe\">\n",
       "  <thead>\n",
       "    <tr style=\"text-align: right;\">\n",
       "      <th></th>\n",
       "      <th>mpg</th>\n",
       "      <th>cylinders</th>\n",
       "      <th>displacement</th>\n",
       "      <th>weight</th>\n",
       "      <th>acceleration</th>\n",
       "      <th>model</th>\n",
       "      <th>origin</th>\n",
       "    </tr>\n",
       "  </thead>\n",
       "  <tbody>\n",
       "    <tr>\n",
       "      <th>count</th>\n",
       "      <td>200.000000</td>\n",
       "      <td>200.000000</td>\n",
       "      <td>200.000000</td>\n",
       "      <td>200.00000</td>\n",
       "      <td>200.000000</td>\n",
       "      <td>200.000000</td>\n",
       "      <td>200.000000</td>\n",
       "    </tr>\n",
       "    <tr>\n",
       "      <th>mean</th>\n",
       "      <td>27.271500</td>\n",
       "      <td>5.015000</td>\n",
       "      <td>163.685000</td>\n",
       "      <td>2765.03500</td>\n",
       "      <td>16.125000</td>\n",
       "      <td>79.170000</td>\n",
       "      <td>1.705000</td>\n",
       "    </tr>\n",
       "    <tr>\n",
       "      <th>std</th>\n",
       "      <td>7.739012</td>\n",
       "      <td>1.491947</td>\n",
       "      <td>82.273266</td>\n",
       "      <td>693.12173</td>\n",
       "      <td>2.525324</td>\n",
       "      <td>1.912955</td>\n",
       "      <td>0.867026</td>\n",
       "    </tr>\n",
       "    <tr>\n",
       "      <th>min</th>\n",
       "      <td>13.000000</td>\n",
       "      <td>3.000000</td>\n",
       "      <td>70.000000</td>\n",
       "      <td>1755.00000</td>\n",
       "      <td>11.100000</td>\n",
       "      <td>76.000000</td>\n",
       "      <td>1.000000</td>\n",
       "    </tr>\n",
       "    <tr>\n",
       "      <th>25%</th>\n",
       "      <td>20.200000</td>\n",
       "      <td>4.000000</td>\n",
       "      <td>98.000000</td>\n",
       "      <td>2148.75000</td>\n",
       "      <td>14.500000</td>\n",
       "      <td>78.000000</td>\n",
       "      <td>1.000000</td>\n",
       "    </tr>\n",
       "    <tr>\n",
       "      <th>50%</th>\n",
       "      <td>27.200000</td>\n",
       "      <td>4.000000</td>\n",
       "      <td>135.000000</td>\n",
       "      <td>2667.50000</td>\n",
       "      <td>15.800000</td>\n",
       "      <td>79.000000</td>\n",
       "      <td>1.000000</td>\n",
       "    </tr>\n",
       "    <tr>\n",
       "      <th>75%</th>\n",
       "      <td>33.125000</td>\n",
       "      <td>6.000000</td>\n",
       "      <td>225.000000</td>\n",
       "      <td>3266.25000</td>\n",
       "      <td>17.600000</td>\n",
       "      <td>81.000000</td>\n",
       "      <td>3.000000</td>\n",
       "    </tr>\n",
       "    <tr>\n",
       "      <th>max</th>\n",
       "      <td>46.600000</td>\n",
       "      <td>8.000000</td>\n",
       "      <td>400.000000</td>\n",
       "      <td>4380.00000</td>\n",
       "      <td>24.800000</td>\n",
       "      <td>82.000000</td>\n",
       "      <td>3.000000</td>\n",
       "    </tr>\n",
       "  </tbody>\n",
       "</table>\n",
       "</div>"
      ],
      "text/plain": [
       "              mpg   cylinders  displacement      weight  acceleration  \\\n",
       "count  200.000000  200.000000    200.000000   200.00000    200.000000   \n",
       "mean    27.271500    5.015000    163.685000  2765.03500     16.125000   \n",
       "std      7.739012    1.491947     82.273266   693.12173      2.525324   \n",
       "min     13.000000    3.000000     70.000000  1755.00000     11.100000   \n",
       "25%     20.200000    4.000000     98.000000  2148.75000     14.500000   \n",
       "50%     27.200000    4.000000    135.000000  2667.50000     15.800000   \n",
       "75%     33.125000    6.000000    225.000000  3266.25000     17.600000   \n",
       "max     46.600000    8.000000    400.000000  4380.00000     24.800000   \n",
       "\n",
       "            model      origin  \n",
       "count  200.000000  200.000000  \n",
       "mean    79.170000    1.705000  \n",
       "std      1.912955    0.867026  \n",
       "min     76.000000    1.000000  \n",
       "25%     78.000000    1.000000  \n",
       "50%     79.000000    1.000000  \n",
       "75%     81.000000    3.000000  \n",
       "max     82.000000    3.000000  "
      ]
     },
     "execution_count": 767,
     "metadata": {},
     "output_type": "execute_result"
    }
   ],
   "source": [
    "cars2.describe()"
   ]
  },
  {
   "cell_type": "code",
   "execution_count": 768,
   "metadata": {},
   "outputs": [
    {
     "data": {
      "text/plain": [
       "Index            128\n",
       "mpg             1584\n",
       "cylinders       1584\n",
       "displacement    1584\n",
       "horsepower      1584\n",
       "weight          1584\n",
       "acceleration    1584\n",
       "model           1584\n",
       "origin          1584\n",
       "car             1584\n",
       "Unnamed: 9      1584\n",
       "Unnamed: 10     1584\n",
       "Unnamed: 11     1584\n",
       "Unnamed: 12     1584\n",
       "Unnamed: 13     1584\n",
       "dtype: int64"
      ]
     },
     "execution_count": 768,
     "metadata": {},
     "output_type": "execute_result"
    }
   ],
   "source": [
    "# .memory_usage()\n",
    "cars1.memory_usage()"
   ]
  },
  {
   "cell_type": "code",
   "execution_count": 769,
   "metadata": {},
   "outputs": [
    {
     "data": {
      "text/plain": [
       "Index            128\n",
       "mpg             1600\n",
       "cylinders       1600\n",
       "displacement    1600\n",
       "horsepower      1600\n",
       "weight          1600\n",
       "acceleration    1600\n",
       "model           1600\n",
       "origin          1600\n",
       "car             1600\n",
       "dtype: int64"
      ]
     },
     "execution_count": 769,
     "metadata": {},
     "output_type": "execute_result"
    }
   ],
   "source": [
    "cars2.memory_usage()"
   ]
  },
  {
   "cell_type": "code",
   "execution_count": 770,
   "metadata": {},
   "outputs": [
    {
     "data": {
      "text/html": [
       "<div>\n",
       "<style scoped>\n",
       "    .dataframe tbody tr th:only-of-type {\n",
       "        vertical-align: middle;\n",
       "    }\n",
       "\n",
       "    .dataframe tbody tr th {\n",
       "        vertical-align: top;\n",
       "    }\n",
       "\n",
       "    .dataframe thead th {\n",
       "        text-align: right;\n",
       "    }\n",
       "</style>\n",
       "<table border=\"1\" class=\"dataframe\">\n",
       "  <thead>\n",
       "    <tr style=\"text-align: right;\">\n",
       "      <th></th>\n",
       "      <th>mpg</th>\n",
       "      <th>cylinders</th>\n",
       "      <th>displacement</th>\n",
       "      <th>horsepower</th>\n",
       "      <th>weight</th>\n",
       "      <th>acceleration</th>\n",
       "      <th>model</th>\n",
       "      <th>origin</th>\n",
       "      <th>car</th>\n",
       "      <th>Unnamed: 9</th>\n",
       "      <th>Unnamed: 10</th>\n",
       "      <th>Unnamed: 11</th>\n",
       "      <th>Unnamed: 12</th>\n",
       "      <th>Unnamed: 13</th>\n",
       "    </tr>\n",
       "  </thead>\n",
       "  <tbody>\n",
       "    <tr>\n",
       "      <th>28</th>\n",
       "      <td>9.0</td>\n",
       "      <td>8</td>\n",
       "      <td>304</td>\n",
       "      <td>193</td>\n",
       "      <td>4732</td>\n",
       "      <td>18.5</td>\n",
       "      <td>70</td>\n",
       "      <td>1</td>\n",
       "      <td>hi 1200d</td>\n",
       "      <td>NaN</td>\n",
       "      <td>NaN</td>\n",
       "      <td>NaN</td>\n",
       "      <td>NaN</td>\n",
       "      <td>NaN</td>\n",
       "    </tr>\n",
       "    <tr>\n",
       "      <th>26</th>\n",
       "      <td>10.0</td>\n",
       "      <td>8</td>\n",
       "      <td>307</td>\n",
       "      <td>200</td>\n",
       "      <td>4376</td>\n",
       "      <td>15.0</td>\n",
       "      <td>70</td>\n",
       "      <td>1</td>\n",
       "      <td>chevy c20</td>\n",
       "      <td>NaN</td>\n",
       "      <td>NaN</td>\n",
       "      <td>NaN</td>\n",
       "      <td>NaN</td>\n",
       "      <td>NaN</td>\n",
       "    </tr>\n",
       "    <tr>\n",
       "      <th>25</th>\n",
       "      <td>10.0</td>\n",
       "      <td>8</td>\n",
       "      <td>360</td>\n",
       "      <td>215</td>\n",
       "      <td>4615</td>\n",
       "      <td>14.0</td>\n",
       "      <td>70</td>\n",
       "      <td>1</td>\n",
       "      <td>ford f250</td>\n",
       "      <td>NaN</td>\n",
       "      <td>NaN</td>\n",
       "      <td>NaN</td>\n",
       "      <td>NaN</td>\n",
       "      <td>NaN</td>\n",
       "    </tr>\n",
       "    <tr>\n",
       "      <th>103</th>\n",
       "      <td>11.0</td>\n",
       "      <td>8</td>\n",
       "      <td>400</td>\n",
       "      <td>150</td>\n",
       "      <td>4997</td>\n",
       "      <td>14.0</td>\n",
       "      <td>73</td>\n",
       "      <td>1</td>\n",
       "      <td>chevrolet impala</td>\n",
       "      <td>NaN</td>\n",
       "      <td>NaN</td>\n",
       "      <td>NaN</td>\n",
       "      <td>NaN</td>\n",
       "      <td>NaN</td>\n",
       "    </tr>\n",
       "    <tr>\n",
       "      <th>67</th>\n",
       "      <td>11.0</td>\n",
       "      <td>8</td>\n",
       "      <td>429</td>\n",
       "      <td>208</td>\n",
       "      <td>4633</td>\n",
       "      <td>11.0</td>\n",
       "      <td>72</td>\n",
       "      <td>1</td>\n",
       "      <td>mercury marquis</td>\n",
       "      <td>NaN</td>\n",
       "      <td>NaN</td>\n",
       "      <td>NaN</td>\n",
       "      <td>NaN</td>\n",
       "      <td>NaN</td>\n",
       "    </tr>\n",
       "    <tr>\n",
       "      <th>...</th>\n",
       "      <td>...</td>\n",
       "      <td>...</td>\n",
       "      <td>...</td>\n",
       "      <td>...</td>\n",
       "      <td>...</td>\n",
       "      <td>...</td>\n",
       "      <td>...</td>\n",
       "      <td>...</td>\n",
       "      <td>...</td>\n",
       "      <td>...</td>\n",
       "      <td>...</td>\n",
       "      <td>...</td>\n",
       "      <td>...</td>\n",
       "      <td>...</td>\n",
       "    </tr>\n",
       "    <tr>\n",
       "      <th>144</th>\n",
       "      <td>31.0</td>\n",
       "      <td>4</td>\n",
       "      <td>76</td>\n",
       "      <td>52</td>\n",
       "      <td>1649</td>\n",
       "      <td>16.5</td>\n",
       "      <td>74</td>\n",
       "      <td>3</td>\n",
       "      <td>toyota corona</td>\n",
       "      <td>NaN</td>\n",
       "      <td>NaN</td>\n",
       "      <td>NaN</td>\n",
       "      <td>NaN</td>\n",
       "      <td>NaN</td>\n",
       "    </tr>\n",
       "    <tr>\n",
       "      <th>145</th>\n",
       "      <td>32.0</td>\n",
       "      <td>4</td>\n",
       "      <td>83</td>\n",
       "      <td>61</td>\n",
       "      <td>2003</td>\n",
       "      <td>19.0</td>\n",
       "      <td>74</td>\n",
       "      <td>3</td>\n",
       "      <td>datsun 710</td>\n",
       "      <td>NaN</td>\n",
       "      <td>NaN</td>\n",
       "      <td>NaN</td>\n",
       "      <td>NaN</td>\n",
       "      <td>NaN</td>\n",
       "    </tr>\n",
       "    <tr>\n",
       "      <th>131</th>\n",
       "      <td>32.0</td>\n",
       "      <td>4</td>\n",
       "      <td>71</td>\n",
       "      <td>65</td>\n",
       "      <td>1836</td>\n",
       "      <td>21.0</td>\n",
       "      <td>74</td>\n",
       "      <td>3</td>\n",
       "      <td>toyota corolla 1200</td>\n",
       "      <td>NaN</td>\n",
       "      <td>NaN</td>\n",
       "      <td>NaN</td>\n",
       "      <td>NaN</td>\n",
       "      <td>NaN</td>\n",
       "    </tr>\n",
       "    <tr>\n",
       "      <th>181</th>\n",
       "      <td>33.0</td>\n",
       "      <td>4</td>\n",
       "      <td>91</td>\n",
       "      <td>53</td>\n",
       "      <td>1795</td>\n",
       "      <td>17.5</td>\n",
       "      <td>75</td>\n",
       "      <td>3</td>\n",
       "      <td>honda civic cvcc</td>\n",
       "      <td>NaN</td>\n",
       "      <td>NaN</td>\n",
       "      <td>NaN</td>\n",
       "      <td>NaN</td>\n",
       "      <td>NaN</td>\n",
       "    </tr>\n",
       "    <tr>\n",
       "      <th>54</th>\n",
       "      <td>35.0</td>\n",
       "      <td>4</td>\n",
       "      <td>72</td>\n",
       "      <td>69</td>\n",
       "      <td>1613</td>\n",
       "      <td>18.0</td>\n",
       "      <td>71</td>\n",
       "      <td>3</td>\n",
       "      <td>datsun 1200</td>\n",
       "      <td>NaN</td>\n",
       "      <td>NaN</td>\n",
       "      <td>NaN</td>\n",
       "      <td>NaN</td>\n",
       "      <td>NaN</td>\n",
       "    </tr>\n",
       "  </tbody>\n",
       "</table>\n",
       "<p>198 rows × 14 columns</p>\n",
       "</div>"
      ],
      "text/plain": [
       "      mpg  cylinders  displacement horsepower  weight  acceleration  model  \\\n",
       "28    9.0          8           304        193    4732          18.5     70   \n",
       "26   10.0          8           307        200    4376          15.0     70   \n",
       "25   10.0          8           360        215    4615          14.0     70   \n",
       "103  11.0          8           400        150    4997          14.0     73   \n",
       "67   11.0          8           429        208    4633          11.0     72   \n",
       "..    ...        ...           ...        ...     ...           ...    ...   \n",
       "144  31.0          4            76         52    1649          16.5     74   \n",
       "145  32.0          4            83         61    2003          19.0     74   \n",
       "131  32.0          4            71         65    1836          21.0     74   \n",
       "181  33.0          4            91         53    1795          17.5     75   \n",
       "54   35.0          4            72         69    1613          18.0     71   \n",
       "\n",
       "     origin                  car  Unnamed: 9  Unnamed: 10  Unnamed: 11  \\\n",
       "28        1             hi 1200d         NaN          NaN          NaN   \n",
       "26        1            chevy c20         NaN          NaN          NaN   \n",
       "25        1            ford f250         NaN          NaN          NaN   \n",
       "103       1     chevrolet impala         NaN          NaN          NaN   \n",
       "67        1      mercury marquis         NaN          NaN          NaN   \n",
       "..      ...                  ...         ...          ...          ...   \n",
       "144       3        toyota corona         NaN          NaN          NaN   \n",
       "145       3           datsun 710         NaN          NaN          NaN   \n",
       "131       3  toyota corolla 1200         NaN          NaN          NaN   \n",
       "181       3     honda civic cvcc         NaN          NaN          NaN   \n",
       "54        3          datsun 1200         NaN          NaN          NaN   \n",
       "\n",
       "     Unnamed: 12  Unnamed: 13  \n",
       "28           NaN          NaN  \n",
       "26           NaN          NaN  \n",
       "25           NaN          NaN  \n",
       "103          NaN          NaN  \n",
       "67           NaN          NaN  \n",
       "..           ...          ...  \n",
       "144          NaN          NaN  \n",
       "145          NaN          NaN  \n",
       "131          NaN          NaN  \n",
       "181          NaN          NaN  \n",
       "54           NaN          NaN  \n",
       "\n",
       "[198 rows x 14 columns]"
      ]
     },
     "execution_count": 770,
     "metadata": {},
     "output_type": "execute_result"
    }
   ],
   "source": [
    "# .sort_values()\n",
    "cars1.sort_values(by= 'mpg')"
   ]
  },
  {
   "cell_type": "code",
   "execution_count": 771,
   "metadata": {},
   "outputs": [
    {
     "data": {
      "text/html": [
       "<div>\n",
       "<style scoped>\n",
       "    .dataframe tbody tr th:only-of-type {\n",
       "        vertical-align: middle;\n",
       "    }\n",
       "\n",
       "    .dataframe tbody tr th {\n",
       "        vertical-align: top;\n",
       "    }\n",
       "\n",
       "    .dataframe thead th {\n",
       "        text-align: right;\n",
       "    }\n",
       "</style>\n",
       "<table border=\"1\" class=\"dataframe\">\n",
       "  <thead>\n",
       "    <tr style=\"text-align: right;\">\n",
       "      <th></th>\n",
       "      <th>mpg</th>\n",
       "      <th>cylinders</th>\n",
       "      <th>displacement</th>\n",
       "      <th>horsepower</th>\n",
       "      <th>weight</th>\n",
       "      <th>acceleration</th>\n",
       "      <th>model</th>\n",
       "      <th>origin</th>\n",
       "      <th>car</th>\n",
       "    </tr>\n",
       "  </thead>\n",
       "  <tbody>\n",
       "    <tr>\n",
       "      <th>17</th>\n",
       "      <td>13.0</td>\n",
       "      <td>8</td>\n",
       "      <td>318</td>\n",
       "      <td>150</td>\n",
       "      <td>3755</td>\n",
       "      <td>14.0</td>\n",
       "      <td>76</td>\n",
       "      <td>1</td>\n",
       "      <td>dodge d100</td>\n",
       "    </tr>\n",
       "    <tr>\n",
       "      <th>10</th>\n",
       "      <td>13.0</td>\n",
       "      <td>8</td>\n",
       "      <td>318</td>\n",
       "      <td>150</td>\n",
       "      <td>3940</td>\n",
       "      <td>13.2</td>\n",
       "      <td>76</td>\n",
       "      <td>1</td>\n",
       "      <td>plymouth volare premier v8</td>\n",
       "    </tr>\n",
       "    <tr>\n",
       "      <th>16</th>\n",
       "      <td>13.0</td>\n",
       "      <td>8</td>\n",
       "      <td>302</td>\n",
       "      <td>130</td>\n",
       "      <td>3870</td>\n",
       "      <td>15.0</td>\n",
       "      <td>76</td>\n",
       "      <td>1</td>\n",
       "      <td>ford f108</td>\n",
       "    </tr>\n",
       "    <tr>\n",
       "      <th>15</th>\n",
       "      <td>13.0</td>\n",
       "      <td>8</td>\n",
       "      <td>350</td>\n",
       "      <td>145</td>\n",
       "      <td>4055</td>\n",
       "      <td>12.0</td>\n",
       "      <td>76</td>\n",
       "      <td>1</td>\n",
       "      <td>chevy c10</td>\n",
       "    </tr>\n",
       "    <tr>\n",
       "      <th>26</th>\n",
       "      <td>15.0</td>\n",
       "      <td>8</td>\n",
       "      <td>302</td>\n",
       "      <td>130</td>\n",
       "      <td>4295</td>\n",
       "      <td>14.9</td>\n",
       "      <td>77</td>\n",
       "      <td>1</td>\n",
       "      <td>mercury cougar brougham</td>\n",
       "    </tr>\n",
       "    <tr>\n",
       "      <th>...</th>\n",
       "      <td>...</td>\n",
       "      <td>...</td>\n",
       "      <td>...</td>\n",
       "      <td>...</td>\n",
       "      <td>...</td>\n",
       "      <td>...</td>\n",
       "      <td>...</td>\n",
       "      <td>...</td>\n",
       "      <td>...</td>\n",
       "    </tr>\n",
       "    <tr>\n",
       "      <th>128</th>\n",
       "      <td>43.4</td>\n",
       "      <td>4</td>\n",
       "      <td>90</td>\n",
       "      <td>48</td>\n",
       "      <td>2335</td>\n",
       "      <td>23.7</td>\n",
       "      <td>80</td>\n",
       "      <td>2</td>\n",
       "      <td>vw dasher (diesel)</td>\n",
       "    </tr>\n",
       "    <tr>\n",
       "      <th>196</th>\n",
       "      <td>44.0</td>\n",
       "      <td>4</td>\n",
       "      <td>97</td>\n",
       "      <td>52</td>\n",
       "      <td>2130</td>\n",
       "      <td>24.6</td>\n",
       "      <td>82</td>\n",
       "      <td>2</td>\n",
       "      <td>vw pickup</td>\n",
       "    </tr>\n",
       "    <tr>\n",
       "      <th>127</th>\n",
       "      <td>44.3</td>\n",
       "      <td>4</td>\n",
       "      <td>90</td>\n",
       "      <td>48</td>\n",
       "      <td>2085</td>\n",
       "      <td>21.7</td>\n",
       "      <td>80</td>\n",
       "      <td>2</td>\n",
       "      <td>vw rabbit c (diesel)</td>\n",
       "    </tr>\n",
       "    <tr>\n",
       "      <th>131</th>\n",
       "      <td>44.6</td>\n",
       "      <td>4</td>\n",
       "      <td>91</td>\n",
       "      <td>67</td>\n",
       "      <td>1850</td>\n",
       "      <td>13.8</td>\n",
       "      <td>80</td>\n",
       "      <td>3</td>\n",
       "      <td>honda civic 1500 gl</td>\n",
       "    </tr>\n",
       "    <tr>\n",
       "      <th>124</th>\n",
       "      <td>46.6</td>\n",
       "      <td>4</td>\n",
       "      <td>86</td>\n",
       "      <td>65</td>\n",
       "      <td>2110</td>\n",
       "      <td>17.9</td>\n",
       "      <td>80</td>\n",
       "      <td>3</td>\n",
       "      <td>mazda glc</td>\n",
       "    </tr>\n",
       "  </tbody>\n",
       "</table>\n",
       "<p>200 rows × 9 columns</p>\n",
       "</div>"
      ],
      "text/plain": [
       "      mpg  cylinders  displacement horsepower  weight  acceleration  model  \\\n",
       "17   13.0          8           318        150    3755          14.0     76   \n",
       "10   13.0          8           318        150    3940          13.2     76   \n",
       "16   13.0          8           302        130    3870          15.0     76   \n",
       "15   13.0          8           350        145    4055          12.0     76   \n",
       "26   15.0          8           302        130    4295          14.9     77   \n",
       "..    ...        ...           ...        ...     ...           ...    ...   \n",
       "128  43.4          4            90         48    2335          23.7     80   \n",
       "196  44.0          4            97         52    2130          24.6     82   \n",
       "127  44.3          4            90         48    2085          21.7     80   \n",
       "131  44.6          4            91         67    1850          13.8     80   \n",
       "124  46.6          4            86         65    2110          17.9     80   \n",
       "\n",
       "     origin                         car  \n",
       "17        1                  dodge d100  \n",
       "10        1  plymouth volare premier v8  \n",
       "16        1                   ford f108  \n",
       "15        1                   chevy c10  \n",
       "26        1     mercury cougar brougham  \n",
       "..      ...                         ...  \n",
       "128       2          vw dasher (diesel)  \n",
       "196       2                   vw pickup  \n",
       "127       2        vw rabbit c (diesel)  \n",
       "131       3         honda civic 1500 gl  \n",
       "124       3                   mazda glc  \n",
       "\n",
       "[200 rows x 9 columns]"
      ]
     },
     "execution_count": 771,
     "metadata": {},
     "output_type": "execute_result"
    }
   ],
   "source": [
    "cars2.sort_values(by= 'mpg')"
   ]
  },
  {
   "cell_type": "code",
   "execution_count": 772,
   "metadata": {},
   "outputs": [
    {
     "data": {
      "text/plain": [
       "Series([], dtype: int64)"
      ]
     },
     "execution_count": 772,
     "metadata": {},
     "output_type": "execute_result"
    }
   ],
   "source": [
    "# .value_counts()\n",
    "cars1.value_counts()"
   ]
  },
  {
   "cell_type": "code",
   "execution_count": 773,
   "metadata": {},
   "outputs": [
    {
     "data": {
      "text/plain": [
       "mpg   cylinders  displacement  horsepower  weight  acceleration  model  origin  car                       \n",
       "46.6  4          86            65          2110    17.9          80     3       mazda glc                     1\n",
       "21.6  4          121           115         2795    15.7          78     2       saab 99gle                    1\n",
       "23.7  3          70            100         2420    12.5          80     3       mazda rx-7 gs                 1\n",
       "23.6  4          140           ?           2905    14.3          80     1       ford mustang cobra            1\n",
       "23.5  6          173           110         2725    12.6          81     1       chevrolet citation            1\n",
       "                                                                                                             ..\n",
       "31.3  4          120           75          2542    17.5          80     3       mazda 626                     1\n",
       "31.0  4          119           82          2720    19.4          82     1       chevy s-10                    1\n",
       "                 112           85          2575    16.2          82     1       pontiac j2000 se hatchback    1\n",
       "                 91            68          1970    17.6          82     3       mazda glc custom              1\n",
       "13.0  8          302           130         3870    15.0          76     1       ford f108                     1\n",
       "Length: 200, dtype: int64"
      ]
     },
     "execution_count": 773,
     "metadata": {},
     "output_type": "execute_result"
    }
   ],
   "source": [
    "cars2.value_counts()"
   ]
  },
  {
   "cell_type": "markdown",
   "metadata": {},
   "source": [
    "### 44. It seems our first dataset has some unnamed blank columns, fix cars1"
   ]
  },
  {
   "cell_type": "code",
   "execution_count": 774,
   "metadata": {},
   "outputs": [
    {
     "data": {
      "text/plain": [
       "mpg               0\n",
       "cylinders         0\n",
       "displacement      0\n",
       "horsepower        0\n",
       "weight            0\n",
       "acceleration      0\n",
       "model             0\n",
       "origin            0\n",
       "car               0\n",
       "Unnamed: 9      198\n",
       "Unnamed: 10     198\n",
       "Unnamed: 11     198\n",
       "Unnamed: 12     198\n",
       "Unnamed: 13     198\n",
       "dtype: int64"
      ]
     },
     "execution_count": 774,
     "metadata": {},
     "output_type": "execute_result"
    }
   ],
   "source": [
    "# Checking for null values.\n",
    "cars1.isna().sum()"
   ]
  },
  {
   "cell_type": "code",
   "execution_count": 775,
   "metadata": {},
   "outputs": [],
   "source": [
    "# Dropping unwanted columns.\n",
    "cars1.drop(columns=['Unnamed: 9', 'Unnamed: 10', 'Unnamed: 11', 'Unnamed: 12', 'Unnamed: 13'], inplace= True)"
   ]
  },
  {
   "cell_type": "markdown",
   "metadata": {},
   "source": [
    "### 45. What is the number of observations in each dataset?"
   ]
  },
  {
   "cell_type": "code",
   "execution_count": 776,
   "metadata": {},
   "outputs": [
    {
     "data": {
      "text/plain": [
       "198"
      ]
     },
     "execution_count": 776,
     "metadata": {},
     "output_type": "execute_result"
    }
   ],
   "source": [
    "cars1.shape[0]"
   ]
  },
  {
   "cell_type": "code",
   "execution_count": 777,
   "metadata": {},
   "outputs": [
    {
     "data": {
      "text/plain": [
       "200"
      ]
     },
     "execution_count": 777,
     "metadata": {},
     "output_type": "execute_result"
    }
   ],
   "source": [
    "cars2.shape[0]"
   ]
  },
  {
   "cell_type": "markdown",
   "metadata": {},
   "source": [
    "### 46. Join cars1 and cars2 into a single DataFrame called cars"
   ]
  },
  {
   "cell_type": "code",
   "execution_count": 778,
   "metadata": {},
   "outputs": [],
   "source": [
    "# Joining the dataset\n",
    "cars= pd.merge(left= cars1, right= cars2, how= 'inner', left_on= 'model', right_on= 'model' )"
   ]
  },
  {
   "cell_type": "code",
   "execution_count": 779,
   "metadata": {},
   "outputs": [
    {
     "data": {
      "text/html": [
       "<div>\n",
       "<style scoped>\n",
       "    .dataframe tbody tr th:only-of-type {\n",
       "        vertical-align: middle;\n",
       "    }\n",
       "\n",
       "    .dataframe tbody tr th {\n",
       "        vertical-align: top;\n",
       "    }\n",
       "\n",
       "    .dataframe thead th {\n",
       "        text-align: right;\n",
       "    }\n",
       "</style>\n",
       "<table border=\"1\" class=\"dataframe\">\n",
       "  <thead>\n",
       "    <tr style=\"text-align: right;\">\n",
       "      <th></th>\n",
       "      <th>mpg_x</th>\n",
       "      <th>cylinders_x</th>\n",
       "      <th>displacement_x</th>\n",
       "      <th>horsepower_x</th>\n",
       "      <th>weight_x</th>\n",
       "      <th>acceleration_x</th>\n",
       "      <th>model</th>\n",
       "      <th>origin_x</th>\n",
       "      <th>car_x</th>\n",
       "      <th>mpg_y</th>\n",
       "      <th>cylinders_y</th>\n",
       "      <th>displacement_y</th>\n",
       "      <th>horsepower_y</th>\n",
       "      <th>weight_y</th>\n",
       "      <th>acceleration_y</th>\n",
       "      <th>origin_y</th>\n",
       "      <th>car_y</th>\n",
       "    </tr>\n",
       "  </thead>\n",
       "  <tbody>\n",
       "    <tr>\n",
       "      <th>0</th>\n",
       "      <td>28.0</td>\n",
       "      <td>4</td>\n",
       "      <td>107</td>\n",
       "      <td>86</td>\n",
       "      <td>2464</td>\n",
       "      <td>15.5</td>\n",
       "      <td>76</td>\n",
       "      <td>2</td>\n",
       "      <td>fiat 131</td>\n",
       "      <td>33.0</td>\n",
       "      <td>4</td>\n",
       "      <td>91</td>\n",
       "      <td>53</td>\n",
       "      <td>1795</td>\n",
       "      <td>17.4</td>\n",
       "      <td>3</td>\n",
       "      <td>honda civic</td>\n",
       "    </tr>\n",
       "    <tr>\n",
       "      <th>1</th>\n",
       "      <td>28.0</td>\n",
       "      <td>4</td>\n",
       "      <td>107</td>\n",
       "      <td>86</td>\n",
       "      <td>2464</td>\n",
       "      <td>15.5</td>\n",
       "      <td>76</td>\n",
       "      <td>2</td>\n",
       "      <td>fiat 131</td>\n",
       "      <td>20.0</td>\n",
       "      <td>6</td>\n",
       "      <td>225</td>\n",
       "      <td>100</td>\n",
       "      <td>3651</td>\n",
       "      <td>17.7</td>\n",
       "      <td>1</td>\n",
       "      <td>dodge aspen se</td>\n",
       "    </tr>\n",
       "  </tbody>\n",
       "</table>\n",
       "</div>"
      ],
      "text/plain": [
       "   mpg_x  cylinders_x  displacement_x horsepower_x  weight_x  acceleration_x  \\\n",
       "0   28.0            4             107           86      2464            15.5   \n",
       "1   28.0            4             107           86      2464            15.5   \n",
       "\n",
       "   model  origin_x     car_x  mpg_y  cylinders_y  displacement_y horsepower_y  \\\n",
       "0     76         2  fiat 131   33.0            4              91           53   \n",
       "1     76         2  fiat 131   20.0            6             225          100   \n",
       "\n",
       "   weight_y  acceleration_y  origin_y           car_y  \n",
       "0      1795            17.4         3     honda civic  \n",
       "1      3651            17.7         1  dodge aspen se  "
      ]
     },
     "execution_count": 779,
     "metadata": {},
     "output_type": "execute_result"
    }
   ],
   "source": [
    "# Viewing the dataset.\n",
    "cars.head(2)"
   ]
  },
  {
   "cell_type": "markdown",
   "metadata": {},
   "source": [
    "### 47. There is a column missing, called owners. Create a random number Series from 15,000 to 73,000."
   ]
  },
  {
   "cell_type": "code",
   "execution_count": 780,
   "metadata": {},
   "outputs": [
    {
     "data": {
      "text/plain": [
       "0       57749\n",
       "1       30957\n",
       "2       34686\n",
       "3       39518\n",
       "4       61905\n",
       "        ...  \n",
       "4891    54036\n",
       "4892    19043\n",
       "4893    68501\n",
       "4894    58410\n",
       "4895    56382\n",
       "Length: 4896, dtype: int32"
      ]
     },
     "execution_count": 780,
     "metadata": {},
     "output_type": "execute_result"
    }
   ],
   "source": [
    "pd.Series(np.random.randint(low= 15000, high= 73000, size= cars.size))"
   ]
  },
  {
   "cell_type": "markdown",
   "metadata": {},
   "source": [
    "### 48. Add the column owners to cars"
   ]
  },
  {
   "cell_type": "code",
   "execution_count": 781,
   "metadata": {},
   "outputs": [],
   "source": [
    "cars.loc[:, 'owners']= pd.Series(np.random.randint(low= 15000, high= 73000, size= cars.size))"
   ]
  },
  {
   "cell_type": "markdown",
   "metadata": {},
   "source": [
    "## Section-7: The purpose of the below exercises is to understand how to perform date time operations"
   ]
  },
  {
   "cell_type": "markdown",
   "metadata": {},
   "source": [
    "### 49. Write a Python script to display the\n",
    "- a. Current date and time\n",
    "- b. Current year\n",
    "- c. Month of year\n",
    "- d. Week number of the year\n",
    "- e. Weekday of the week\n",
    "- f. Day of year\n",
    "- g. Day of the month\n",
    "- h. Day of week"
   ]
  },
  {
   "cell_type": "code",
   "execution_count": 782,
   "metadata": {},
   "outputs": [],
   "source": [
    "def dis_date():\n",
    "    print('a. Current date and time:', pd.Timestamp.now())\n",
    "    print('b. Current year:', pd.Timestamp.now().year)\n",
    "    print('c. Month of year:', pd.Timestamp.now().month)\n",
    "    print('d. Week number of the year:', pd.Timestamp.today().week)\n",
    "    print('e. Weekday of the week:', pd.Timestamp.today().day_name())\n",
    "    print('f. Day of year:', pd.Timestamp.today().dayofyear)\n",
    "    print('g. Day of the month:', pd.Timestamp.today().day)\n",
    "    print('h. Day of week:', pd.Timestamp.today().weekday() )"
   ]
  },
  {
   "cell_type": "code",
   "execution_count": 783,
   "metadata": {},
   "outputs": [
    {
     "name": "stdout",
     "output_type": "stream",
     "text": [
      "a. Current date and time: 2023-07-28 12:20:04.134649\n",
      "b. Current year: 2023\n",
      "c. Month of year: 7\n",
      "d. Week number of the year: 30\n",
      "e. Weekday of the week: Friday\n",
      "f. Day of year: 209\n",
      "g. Day of the month: 28\n",
      "h. Day of week: 4\n"
     ]
    }
   ],
   "source": [
    "dis_date()"
   ]
  },
  {
   "cell_type": "markdown",
   "metadata": {},
   "source": [
    "### 50. Write a Python program to convert a string to datetime.\n",
    "Sample String : Jul 1 2014 2:43PM \n",
    "\n",
    "Expected Output : 2014-07-01 14:43:00"
   ]
  },
  {
   "cell_type": "code",
   "execution_count": 784,
   "metadata": {},
   "outputs": [],
   "source": [
    "def str_to_date(string):\n",
    "    return pd.to_datetime(string, format='%b %d %Y %I:%M%p')"
   ]
  },
  {
   "cell_type": "code",
   "execution_count": 785,
   "metadata": {},
   "outputs": [
    {
     "data": {
      "text/plain": [
       "Timestamp('2014-07-01 14:43:00')"
      ]
     },
     "execution_count": 785,
     "metadata": {},
     "output_type": "execute_result"
    }
   ],
   "source": [
    "str_to_date('Jul 1 2014 2:43PM')"
   ]
  },
  {
   "cell_type": "markdown",
   "metadata": {},
   "source": [
    "### 51. Write a Python program to subtract five days from current date.\n",
    "\n",
    "Current Date : 2015-06-22\n",
    "\n",
    "5 days before Current Date : 2015-06-17"
   ]
  },
  {
   "cell_type": "code",
   "execution_count": 786,
   "metadata": {},
   "outputs": [
    {
     "data": {
      "text/plain": [
       "Timestamp('2023-07-23 12:20:04.181519')"
      ]
     },
     "execution_count": 786,
     "metadata": {},
     "output_type": "execute_result"
    }
   ],
   "source": [
    "pd.Timestamp.today() - pd.DateOffset(days= 5)"
   ]
  },
  {
   "cell_type": "markdown",
   "metadata": {},
   "source": [
    "### 52. Write a Python program to convert unix timestamp string to readable date.\n",
    "\n",
    "Sample Unix timestamp string : 1284105682\n",
    "    \n",
    "Expected Output : 2010-09-10 13:31:22"
   ]
  },
  {
   "cell_type": "code",
   "execution_count": 787,
   "metadata": {},
   "outputs": [
    {
     "data": {
      "text/plain": [
       "'2010-09-10 13:31:22'"
      ]
     },
     "execution_count": 787,
     "metadata": {},
     "output_type": "execute_result"
    }
   ],
   "source": [
    "pd.Timestamp.fromtimestamp(1284105682).strftime('%Y-%m-%d %H:%M:%S')"
   ]
  },
  {
   "cell_type": "markdown",
   "metadata": {},
   "source": [
    "### 53. Convert the below Series to pandas datetime : \n",
    "\n",
    "DoB = pd.Series([\"07Sep59\",\"01Jan55\",\"15Dec47\",\"11Jul42\"])\n",
    "\n",
    "Make sure that the year is 19XX not 20XX"
   ]
  },
  {
   "cell_type": "code",
   "execution_count": 788,
   "metadata": {},
   "outputs": [],
   "source": [
    "DoB = pd.Series([\"07Sep59\",\"01Jan55\",\"15Dec47\",\"11Jul42\"])"
   ]
  },
  {
   "cell_type": "code",
   "execution_count": 789,
   "metadata": {},
   "outputs": [
    {
     "data": {
      "text/plain": [
       "0    07-Sep-1959\n",
       "1    01-Jan-1955\n",
       "2    15-Dec-1947\n",
       "3    11-Jul-1942\n",
       "dtype: object"
      ]
     },
     "execution_count": 789,
     "metadata": {},
     "output_type": "execute_result"
    }
   ],
   "source": [
    "pd.to_datetime(DoB).dt.strftime('%d-%b-19%y')"
   ]
  },
  {
   "cell_type": "markdown",
   "metadata": {},
   "source": [
    "### 54. Write a Python program to get days between two dates. "
   ]
  },
  {
   "cell_type": "code",
   "execution_count": 790,
   "metadata": {},
   "outputs": [],
   "source": [
    "def datediff(Start_Date, End_Date):\n",
    "    return(pd.to_datetime(End_Date)- pd.to_datetime(Start_Date)).days"
   ]
  },
  {
   "cell_type": "code",
   "execution_count": 791,
   "metadata": {},
   "outputs": [
    {
     "data": {
      "text/plain": [
       "159"
      ]
     },
     "execution_count": 791,
     "metadata": {},
     "output_type": "execute_result"
    }
   ],
   "source": [
    "datediff('22-01-2023', '30-06-2023')"
   ]
  },
  {
   "cell_type": "markdown",
   "metadata": {},
   "source": [
    "### 55. Convert the below date to datetime and then change its display format using the .dt module\n",
    "\n",
    "Date = \"15Dec1989\"\n",
    "\n",
    "Result : \"Friday, 15 Dec 98\""
   ]
  },
  {
   "cell_type": "code",
   "execution_count": 792,
   "metadata": {},
   "outputs": [
    {
     "data": {
      "text/plain": [
       "'Friday, 15 Dec 89'"
      ]
     },
     "execution_count": 792,
     "metadata": {},
     "output_type": "execute_result"
    }
   ],
   "source": [
    "pd.to_datetime(\"15Dec1989\", format= '%d%b%Y').strftime('%A, %d %b %y')"
   ]
  },
  {
   "cell_type": "markdown",
   "metadata": {},
   "source": [
    "## The below exercises (56-66) required to use wind.data file "
   ]
  },
  {
   "cell_type": "markdown",
   "metadata": {},
   "source": [
    "### About wind.data:\n",
    "\n",
    "The data have been modified to contain some missing values, identified by NaN.  \n",
    "\n",
    "1. The data in 'wind.data' has the following format:"
   ]
  },
  {
   "cell_type": "raw",
   "metadata": {},
   "source": [
    "\"\"\"\n",
    "Yr Mo Dy   RPT   VAL   ROS   KIL   SHA   BIR   DUB   CLA   MUL   CLO   BEL   MAL\n",
    "61  1  1 15.04 14.96 13.17  9.29   NaN  9.87 13.67 10.25 10.83 12.58 18.50 15.04\n",
    "61  1  2 14.71   NaN 10.83  6.50 12.62  7.67 11.50 10.04  9.79  9.67 17.54 13.83\n",
    "61  1  3 18.50 16.88 12.33 10.13 11.17  6.17 11.25   NaN  8.50  7.67 12.75 12.71\n",
    "\"\"\"\n",
    "The first three columns are year, month and day.  The remaining 12 columns are average windspeeds in knots at 12 locations in Ireland on that day. "
   ]
  },
  {
   "cell_type": "markdown",
   "metadata": {},
   "source": [
    "### 56. Import the dataset wind.data and assign it to a variable called data and replace the first 3 columns by a proper date time index"
   ]
  },
  {
   "cell_type": "code",
   "execution_count": 793,
   "metadata": {},
   "outputs": [],
   "source": [
    "# Reading the dataset.\n",
    "data= pd.read_csv(r\"F:\\AnalyticslabFIles\\assignments\\python\\wind.data\")"
   ]
  },
  {
   "cell_type": "code",
   "execution_count": 794,
   "metadata": {},
   "outputs": [],
   "source": [
    "# Assigning Year, Month and Day to Yr, Mo and Dy column respectively.\n",
    "data.Yr= pd.to_datetime(data.Yr, format= '%y').dt.year\n",
    "data.Mo= pd.to_datetime(data.Mo, format= '%m').dt.month\n",
    "data.Dy= pd.to_datetime(data.Dy, format= '%d').dt.day"
   ]
  },
  {
   "cell_type": "code",
   "execution_count": 795,
   "metadata": {},
   "outputs": [
    {
     "data": {
      "text/html": [
       "<div>\n",
       "<style scoped>\n",
       "    .dataframe tbody tr th:only-of-type {\n",
       "        vertical-align: middle;\n",
       "    }\n",
       "\n",
       "    .dataframe tbody tr th {\n",
       "        vertical-align: top;\n",
       "    }\n",
       "\n",
       "    .dataframe thead th {\n",
       "        text-align: right;\n",
       "    }\n",
       "</style>\n",
       "<table border=\"1\" class=\"dataframe\">\n",
       "  <thead>\n",
       "    <tr style=\"text-align: right;\">\n",
       "      <th></th>\n",
       "      <th>Yr</th>\n",
       "      <th>Mo</th>\n",
       "      <th>Dy</th>\n",
       "      <th>RPT</th>\n",
       "      <th>VAL</th>\n",
       "      <th>ROS</th>\n",
       "      <th>KIL</th>\n",
       "      <th>SHA</th>\n",
       "      <th>BIR</th>\n",
       "      <th>DUB</th>\n",
       "      <th>CLA</th>\n",
       "      <th>MUL</th>\n",
       "      <th>CLO</th>\n",
       "      <th>BEL</th>\n",
       "      <th>MAL</th>\n",
       "    </tr>\n",
       "  </thead>\n",
       "  <tbody>\n",
       "    <tr>\n",
       "      <th>0</th>\n",
       "      <td>2061</td>\n",
       "      <td>1</td>\n",
       "      <td>1</td>\n",
       "      <td>15.04</td>\n",
       "      <td>14.96</td>\n",
       "      <td>13.17</td>\n",
       "      <td>9.29</td>\n",
       "      <td>NaN</td>\n",
       "      <td>9.87</td>\n",
       "      <td>13.67</td>\n",
       "      <td>10.25</td>\n",
       "      <td>10.83</td>\n",
       "      <td>12.58</td>\n",
       "      <td>18.50</td>\n",
       "      <td>15.04</td>\n",
       "    </tr>\n",
       "    <tr>\n",
       "      <th>1</th>\n",
       "      <td>2061</td>\n",
       "      <td>1</td>\n",
       "      <td>2</td>\n",
       "      <td>14.71</td>\n",
       "      <td>NaN</td>\n",
       "      <td>10.83</td>\n",
       "      <td>6.50</td>\n",
       "      <td>12.62</td>\n",
       "      <td>7.67</td>\n",
       "      <td>11.50</td>\n",
       "      <td>10.04</td>\n",
       "      <td>9.79</td>\n",
       "      <td>9.67</td>\n",
       "      <td>17.54</td>\n",
       "      <td>13.83</td>\n",
       "    </tr>\n",
       "  </tbody>\n",
       "</table>\n",
       "</div>"
      ],
      "text/plain": [
       "     Yr  Mo  Dy    RPT    VAL    ROS   KIL    SHA   BIR    DUB    CLA    MUL  \\\n",
       "0  2061   1   1  15.04  14.96  13.17  9.29    NaN  9.87  13.67  10.25  10.83   \n",
       "1  2061   1   2  14.71    NaN  10.83  6.50  12.62  7.67  11.50  10.04   9.79   \n",
       "\n",
       "     CLO    BEL    MAL  \n",
       "0  12.58  18.50  15.04  \n",
       "1   9.67  17.54  13.83  "
      ]
     },
     "execution_count": 795,
     "metadata": {},
     "output_type": "execute_result"
    }
   ],
   "source": [
    "# Viewing the dataset.\n",
    "data.head(2)"
   ]
  },
  {
   "cell_type": "markdown",
   "metadata": {},
   "source": [
    "### 57. Year 2061 is seemingly imporoper. Convert every year which are < 70 to 19XX instead of 20XX."
   ]
  },
  {
   "cell_type": "code",
   "execution_count": 796,
   "metadata": {},
   "outputs": [],
   "source": [
    "# Converting the datatype of categorical columns to string.\n",
    "for i in ['Yr', 'Mo', 'Dy']:\n",
    "    data[i] = data[i].astype(str)"
   ]
  },
  {
   "cell_type": "code",
   "execution_count": 797,
   "metadata": {},
   "outputs": [],
   "source": [
    "data.Yr= data.Yr.apply(lambda x: x.replace('20', '19'))"
   ]
  },
  {
   "cell_type": "markdown",
   "metadata": {},
   "source": [
    "### 58. Set the right dates as the index. Pay attention at the data type, it should be datetime64[ns]."
   ]
  },
  {
   "cell_type": "code",
   "execution_count": 798,
   "metadata": {},
   "outputs": [],
   "source": [
    "data.loc[:, 'Date']= pd.to_datetime(data.Yr + ' - '+ data.Mo + ' - ' + data.Dy)"
   ]
  },
  {
   "cell_type": "code",
   "execution_count": 799,
   "metadata": {},
   "outputs": [],
   "source": [
    "data.set_index(keys= 'Date', inplace= True)"
   ]
  },
  {
   "cell_type": "markdown",
   "metadata": {},
   "source": [
    "### 59. Compute how many values are missing for each location over the entire record.  \n",
    "#### They should be ignored in all calculations below. "
   ]
  },
  {
   "cell_type": "code",
   "execution_count": 800,
   "metadata": {},
   "outputs": [
    {
     "data": {
      "text/plain": [
       "Yr     0\n",
       "Mo     0\n",
       "Dy     0\n",
       "RPT    6\n",
       "VAL    3\n",
       "ROS    2\n",
       "KIL    5\n",
       "SHA    2\n",
       "BIR    0\n",
       "DUB    3\n",
       "CLA    2\n",
       "MUL    3\n",
       "CLO    1\n",
       "BEL    0\n",
       "MAL    4\n",
       "dtype: int64"
      ]
     },
     "execution_count": 800,
     "metadata": {},
     "output_type": "execute_result"
    }
   ],
   "source": [
    "data.isna().sum()"
   ]
  },
  {
   "cell_type": "markdown",
   "metadata": {},
   "source": [
    "### 60. Compute how many non-missing values there are in total."
   ]
  },
  {
   "cell_type": "code",
   "execution_count": 801,
   "metadata": {},
   "outputs": [
    {
     "data": {
      "text/plain": [
       "Yr     6574\n",
       "Mo     6574\n",
       "Dy     6574\n",
       "RPT    6568\n",
       "VAL    6571\n",
       "ROS    6572\n",
       "KIL    6569\n",
       "SHA    6572\n",
       "BIR    6574\n",
       "DUB    6571\n",
       "CLA    6572\n",
       "MUL    6571\n",
       "CLO    6573\n",
       "BEL    6574\n",
       "MAL    6570\n",
       "dtype: int64"
      ]
     },
     "execution_count": 801,
     "metadata": {},
     "output_type": "execute_result"
    }
   ],
   "source": [
    "data.notna().sum()"
   ]
  },
  {
   "cell_type": "markdown",
   "metadata": {},
   "source": [
    "### 61. Calculate the mean windspeeds over all the locations and all the times.\n",
    "#### A single number for the entire dataset."
   ]
  },
  {
   "cell_type": "code",
   "execution_count": 802,
   "metadata": {},
   "outputs": [
    {
     "data": {
      "text/plain": [
       "10.227982360836924"
      ]
     },
     "execution_count": 802,
     "metadata": {},
     "output_type": "execute_result"
    }
   ],
   "source": [
    "data.select_dtypes(np.float64).mean().mean()"
   ]
  },
  {
   "cell_type": "markdown",
   "metadata": {},
   "source": [
    "### 62. Create a DataFrame called loc_stats and calculate the min, max and mean windspeeds and standard deviations of the windspeeds at each location over all the days \n",
    "\n",
    "#### A different set of numbers for each location."
   ]
  },
  {
   "cell_type": "code",
   "execution_count": 803,
   "metadata": {},
   "outputs": [
    {
     "data": {
      "text/html": [
       "<div>\n",
       "<style scoped>\n",
       "    .dataframe tbody tr th:only-of-type {\n",
       "        vertical-align: middle;\n",
       "    }\n",
       "\n",
       "    .dataframe tbody tr th {\n",
       "        vertical-align: top;\n",
       "    }\n",
       "\n",
       "    .dataframe thead th {\n",
       "        text-align: right;\n",
       "    }\n",
       "</style>\n",
       "<table border=\"1\" class=\"dataframe\">\n",
       "  <thead>\n",
       "    <tr style=\"text-align: right;\">\n",
       "      <th></th>\n",
       "      <th>mean</th>\n",
       "      <th>std</th>\n",
       "      <th>min</th>\n",
       "      <th>max</th>\n",
       "    </tr>\n",
       "  </thead>\n",
       "  <tbody>\n",
       "    <tr>\n",
       "      <th>RPT</th>\n",
       "      <td>12.362987</td>\n",
       "      <td>5.618413</td>\n",
       "      <td>0.67</td>\n",
       "      <td>35.80</td>\n",
       "    </tr>\n",
       "    <tr>\n",
       "      <th>VAL</th>\n",
       "      <td>10.644314</td>\n",
       "      <td>5.267356</td>\n",
       "      <td>0.21</td>\n",
       "      <td>33.37</td>\n",
       "    </tr>\n",
       "    <tr>\n",
       "      <th>ROS</th>\n",
       "      <td>11.660526</td>\n",
       "      <td>5.008450</td>\n",
       "      <td>1.50</td>\n",
       "      <td>33.84</td>\n",
       "    </tr>\n",
       "    <tr>\n",
       "      <th>KIL</th>\n",
       "      <td>6.306468</td>\n",
       "      <td>3.605811</td>\n",
       "      <td>0.00</td>\n",
       "      <td>28.46</td>\n",
       "    </tr>\n",
       "    <tr>\n",
       "      <th>SHA</th>\n",
       "      <td>10.455834</td>\n",
       "      <td>4.936125</td>\n",
       "      <td>0.13</td>\n",
       "      <td>37.54</td>\n",
       "    </tr>\n",
       "  </tbody>\n",
       "</table>\n",
       "</div>"
      ],
      "text/plain": [
       "          mean       std   min    max\n",
       "RPT  12.362987  5.618413  0.67  35.80\n",
       "VAL  10.644314  5.267356  0.21  33.37\n",
       "ROS  11.660526  5.008450  1.50  33.84\n",
       "KIL   6.306468  3.605811  0.00  28.46\n",
       "SHA  10.455834  4.936125  0.13  37.54"
      ]
     },
     "execution_count": 803,
     "metadata": {},
     "output_type": "execute_result"
    }
   ],
   "source": [
    "loc_stats= data.describe().T.drop(columns= ['count', '25%', '50%', '75%'])\n",
    "loc_stats.head()"
   ]
  },
  {
   "cell_type": "markdown",
   "metadata": {},
   "source": [
    "### 63. Create a DataFrame called day_stats and calculate the min, max and mean windspeed and standard deviations of the windspeeds across all the locations at each day.\n",
    "\n",
    "#### A different set of numbers for each day."
   ]
  },
  {
   "cell_type": "code",
   "execution_count": 804,
   "metadata": {},
   "outputs": [],
   "source": [
    "a=data.T.drop(index= ['Yr', 'Mo', 'Dy']).reset_index(drop= True)\n",
    "for i in a.columns:\n",
    "    a[i] = a[i].astype(np.float64)"
   ]
  },
  {
   "cell_type": "code",
   "execution_count": 805,
   "metadata": {},
   "outputs": [
    {
     "data": {
      "text/html": [
       "<div>\n",
       "<style scoped>\n",
       "    .dataframe tbody tr th:only-of-type {\n",
       "        vertical-align: middle;\n",
       "    }\n",
       "\n",
       "    .dataframe tbody tr th {\n",
       "        vertical-align: top;\n",
       "    }\n",
       "\n",
       "    .dataframe thead th {\n",
       "        text-align: right;\n",
       "    }\n",
       "</style>\n",
       "<table border=\"1\" class=\"dataframe\">\n",
       "  <thead>\n",
       "    <tr style=\"text-align: right;\">\n",
       "      <th></th>\n",
       "      <th>mean</th>\n",
       "      <th>std</th>\n",
       "      <th>min</th>\n",
       "      <th>max</th>\n",
       "    </tr>\n",
       "    <tr>\n",
       "      <th>Date</th>\n",
       "      <th></th>\n",
       "      <th></th>\n",
       "      <th></th>\n",
       "      <th></th>\n",
       "    </tr>\n",
       "  </thead>\n",
       "  <tbody>\n",
       "    <tr>\n",
       "      <th>1961-01-01</th>\n",
       "      <td>13.018182</td>\n",
       "      <td>2.808875</td>\n",
       "      <td>9.29</td>\n",
       "      <td>18.50</td>\n",
       "    </tr>\n",
       "    <tr>\n",
       "      <th>1961-01-02</th>\n",
       "      <td>11.336364</td>\n",
       "      <td>3.188994</td>\n",
       "      <td>6.50</td>\n",
       "      <td>17.54</td>\n",
       "    </tr>\n",
       "    <tr>\n",
       "      <th>1961-01-03</th>\n",
       "      <td>11.641818</td>\n",
       "      <td>3.681912</td>\n",
       "      <td>6.17</td>\n",
       "      <td>18.50</td>\n",
       "    </tr>\n",
       "    <tr>\n",
       "      <th>1961-01-04</th>\n",
       "      <td>6.619167</td>\n",
       "      <td>3.198126</td>\n",
       "      <td>1.79</td>\n",
       "      <td>11.75</td>\n",
       "    </tr>\n",
       "    <tr>\n",
       "      <th>1961-01-05</th>\n",
       "      <td>10.630000</td>\n",
       "      <td>2.445356</td>\n",
       "      <td>6.17</td>\n",
       "      <td>13.33</td>\n",
       "    </tr>\n",
       "  </tbody>\n",
       "</table>\n",
       "</div>"
      ],
      "text/plain": [
       "                 mean       std   min    max\n",
       "Date                                        \n",
       "1961-01-01  13.018182  2.808875  9.29  18.50\n",
       "1961-01-02  11.336364  3.188994  6.50  17.54\n",
       "1961-01-03  11.641818  3.681912  6.17  18.50\n",
       "1961-01-04   6.619167  3.198126  1.79  11.75\n",
       "1961-01-05  10.630000  2.445356  6.17  13.33"
      ]
     },
     "execution_count": 805,
     "metadata": {},
     "output_type": "execute_result"
    }
   ],
   "source": [
    "day_stats=a.describe().T.drop(columns= ['count', '25%', '50%', '75%'])\n",
    "day_stats.head()"
   ]
  },
  {
   "cell_type": "markdown",
   "metadata": {},
   "source": [
    "### 64. Find the average windspeed in January for each location.  \n",
    "#### Treat January 1961 and January 1962 both as January."
   ]
  },
  {
   "cell_type": "code",
   "execution_count": 806,
   "metadata": {},
   "outputs": [
    {
     "data": {
      "text/html": [
       "<div>\n",
       "<style scoped>\n",
       "    .dataframe tbody tr th:only-of-type {\n",
       "        vertical-align: middle;\n",
       "    }\n",
       "\n",
       "    .dataframe tbody tr th {\n",
       "        vertical-align: top;\n",
       "    }\n",
       "\n",
       "    .dataframe thead th {\n",
       "        text-align: right;\n",
       "    }\n",
       "</style>\n",
       "<table border=\"1\" class=\"dataframe\">\n",
       "  <thead>\n",
       "    <tr style=\"text-align: right;\">\n",
       "      <th>Mo</th>\n",
       "      <th>1</th>\n",
       "    </tr>\n",
       "  </thead>\n",
       "  <tbody>\n",
       "    <tr>\n",
       "      <th>BEL</th>\n",
       "      <td>14.550520</td>\n",
       "    </tr>\n",
       "    <tr>\n",
       "      <th>BIR</th>\n",
       "      <td>8.054839</td>\n",
       "    </tr>\n",
       "    <tr>\n",
       "      <th>CLA</th>\n",
       "      <td>9.512047</td>\n",
       "    </tr>\n",
       "    <tr>\n",
       "      <th>CLO</th>\n",
       "      <td>10.053566</td>\n",
       "    </tr>\n",
       "    <tr>\n",
       "      <th>DUB</th>\n",
       "      <td>11.819355</td>\n",
       "    </tr>\n",
       "    <tr>\n",
       "      <th>KIL</th>\n",
       "      <td>7.199498</td>\n",
       "    </tr>\n",
       "    <tr>\n",
       "      <th>MAL</th>\n",
       "      <td>18.028763</td>\n",
       "    </tr>\n",
       "    <tr>\n",
       "      <th>MUL</th>\n",
       "      <td>9.543208</td>\n",
       "    </tr>\n",
       "    <tr>\n",
       "      <th>ROS</th>\n",
       "      <td>13.299624</td>\n",
       "    </tr>\n",
       "    <tr>\n",
       "      <th>RPT</th>\n",
       "      <td>14.847325</td>\n",
       "    </tr>\n",
       "    <tr>\n",
       "      <th>SHA</th>\n",
       "      <td>11.667734</td>\n",
       "    </tr>\n",
       "    <tr>\n",
       "      <th>VAL</th>\n",
       "      <td>12.914560</td>\n",
       "    </tr>\n",
       "  </tbody>\n",
       "</table>\n",
       "</div>"
      ],
      "text/plain": [
       "Mo           1\n",
       "BEL  14.550520\n",
       "BIR   8.054839\n",
       "CLA   9.512047\n",
       "CLO  10.053566\n",
       "DUB  11.819355\n",
       "KIL   7.199498\n",
       "MAL  18.028763\n",
       "MUL   9.543208\n",
       "ROS  13.299624\n",
       "RPT  14.847325\n",
       "SHA  11.667734\n",
       "VAL  12.914560"
      ]
     },
     "execution_count": 806,
     "metadata": {},
     "output_type": "execute_result"
    }
   ],
   "source": [
    "data.loc[data.Mo == '1',:].pivot_table(values= ['RPT', 'VAL', 'ROS', 'KIL', 'SHA', 'BIR', 'DUB',\n",
    "       'CLA', 'MUL', 'CLO', 'BEL', 'MAL'], columns='Mo' , aggfunc= 'mean')"
   ]
  },
  {
   "cell_type": "markdown",
   "metadata": {},
   "source": [
    "### 65. Calculate the mean windspeed for each month in the dataset.  \n",
    "#### Treat January 1961 and January 1962 as *different* months.\n",
    "#### (hint: first find a  way to create an identifier unique for each month.)"
   ]
  },
  {
   "cell_type": "code",
   "execution_count": 807,
   "metadata": {},
   "outputs": [
    {
     "data": {
      "text/html": [
       "<div>\n",
       "<style scoped>\n",
       "    .dataframe tbody tr th:only-of-type {\n",
       "        vertical-align: middle;\n",
       "    }\n",
       "\n",
       "    .dataframe tbody tr th {\n",
       "        vertical-align: top;\n",
       "    }\n",
       "\n",
       "    .dataframe thead th {\n",
       "        text-align: right;\n",
       "    }\n",
       "</style>\n",
       "<table border=\"1\" class=\"dataframe\">\n",
       "  <thead>\n",
       "    <tr style=\"text-align: right;\">\n",
       "      <th></th>\n",
       "      <th></th>\n",
       "      <th>BEL</th>\n",
       "      <th>BIR</th>\n",
       "      <th>CLA</th>\n",
       "      <th>CLO</th>\n",
       "      <th>DUB</th>\n",
       "      <th>KIL</th>\n",
       "      <th>MAL</th>\n",
       "      <th>MUL</th>\n",
       "      <th>ROS</th>\n",
       "      <th>RPT</th>\n",
       "      <th>SHA</th>\n",
       "      <th>VAL</th>\n",
       "    </tr>\n",
       "    <tr>\n",
       "      <th>Yr</th>\n",
       "      <th>Mo</th>\n",
       "      <th></th>\n",
       "      <th></th>\n",
       "      <th></th>\n",
       "      <th></th>\n",
       "      <th></th>\n",
       "      <th></th>\n",
       "      <th></th>\n",
       "      <th></th>\n",
       "      <th></th>\n",
       "      <th></th>\n",
       "      <th></th>\n",
       "      <th></th>\n",
       "    </tr>\n",
       "  </thead>\n",
       "  <tbody>\n",
       "    <tr>\n",
       "      <th rowspan=\"5\" valign=\"top\">1961</th>\n",
       "      <th>1</th>\n",
       "      <td>13.880968</td>\n",
       "      <td>8.588065</td>\n",
       "      <td>9.245333</td>\n",
       "      <td>10.107419</td>\n",
       "      <td>11.184839</td>\n",
       "      <td>7.736774</td>\n",
       "      <td>14.703226</td>\n",
       "      <td>9.085806</td>\n",
       "      <td>13.431613</td>\n",
       "      <td>14.841333</td>\n",
       "      <td>11.072759</td>\n",
       "      <td>11.988333</td>\n",
       "    </tr>\n",
       "    <tr>\n",
       "      <th>10</th>\n",
       "      <td>14.229355</td>\n",
       "      <td>8.333871</td>\n",
       "      <td>9.271935</td>\n",
       "      <td>11.455806</td>\n",
       "      <td>11.194194</td>\n",
       "      <td>8.154839</td>\n",
       "      <td>16.793226</td>\n",
       "      <td>8.942667</td>\n",
       "      <td>12.236452</td>\n",
       "      <td>14.289667</td>\n",
       "      <td>11.865484</td>\n",
       "      <td>10.915806</td>\n",
       "    </tr>\n",
       "    <tr>\n",
       "      <th>11</th>\n",
       "      <td>10.776667</td>\n",
       "      <td>6.250667</td>\n",
       "      <td>6.313667</td>\n",
       "      <td>8.383667</td>\n",
       "      <td>10.869655</td>\n",
       "      <td>6.045667</td>\n",
       "      <td>12.146000</td>\n",
       "      <td>6.575000</td>\n",
       "      <td>11.850333</td>\n",
       "      <td>10.896333</td>\n",
       "      <td>9.123667</td>\n",
       "      <td>8.592667</td>\n",
       "    </tr>\n",
       "    <tr>\n",
       "      <th>12</th>\n",
       "      <td>12.239355</td>\n",
       "      <td>8.302258</td>\n",
       "      <td>8.163226</td>\n",
       "      <td>9.246774</td>\n",
       "      <td>11.753548</td>\n",
       "      <td>7.073871</td>\n",
       "      <td>13.098710</td>\n",
       "      <td>7.965806</td>\n",
       "      <td>13.980323</td>\n",
       "      <td>14.973548</td>\n",
       "      <td>11.323548</td>\n",
       "      <td>11.903871</td>\n",
       "    </tr>\n",
       "    <tr>\n",
       "      <th>2</th>\n",
       "      <td>18.583214</td>\n",
       "      <td>10.937500</td>\n",
       "      <td>11.846071</td>\n",
       "      <td>12.714286</td>\n",
       "      <td>11.890714</td>\n",
       "      <td>9.230741</td>\n",
       "      <td>15.411786</td>\n",
       "      <td>11.821429</td>\n",
       "      <td>14.441481</td>\n",
       "      <td>16.269286</td>\n",
       "      <td>13.852143</td>\n",
       "      <td>14.975357</td>\n",
       "    </tr>\n",
       "    <tr>\n",
       "      <th>...</th>\n",
       "      <th>...</th>\n",
       "      <td>...</td>\n",
       "      <td>...</td>\n",
       "      <td>...</td>\n",
       "      <td>...</td>\n",
       "      <td>...</td>\n",
       "      <td>...</td>\n",
       "      <td>...</td>\n",
       "      <td>...</td>\n",
       "      <td>...</td>\n",
       "      <td>...</td>\n",
       "      <td>...</td>\n",
       "      <td>...</td>\n",
       "    </tr>\n",
       "    <tr>\n",
       "      <th rowspan=\"5\" valign=\"top\">1978</th>\n",
       "      <th>5</th>\n",
       "      <td>9.263548</td>\n",
       "      <td>4.449677</td>\n",
       "      <td>6.130645</td>\n",
       "      <td>5.926452</td>\n",
       "      <td>5.420968</td>\n",
       "      <td>3.740645</td>\n",
       "      <td>10.756452</td>\n",
       "      <td>5.742581</td>\n",
       "      <td>6.901613</td>\n",
       "      <td>8.270645</td>\n",
       "      <td>6.973871</td>\n",
       "      <td>7.226774</td>\n",
       "    </tr>\n",
       "    <tr>\n",
       "      <th>6</th>\n",
       "      <td>11.501000</td>\n",
       "      <td>7.490333</td>\n",
       "      <td>7.802000</td>\n",
       "      <td>7.550000</td>\n",
       "      <td>7.928000</td>\n",
       "      <td>6.053000</td>\n",
       "      <td>15.078667</td>\n",
       "      <td>8.220333</td>\n",
       "      <td>10.253333</td>\n",
       "      <td>11.386667</td>\n",
       "      <td>10.395333</td>\n",
       "      <td>9.474333</td>\n",
       "    </tr>\n",
       "    <tr>\n",
       "      <th>7</th>\n",
       "      <td>12.648710</td>\n",
       "      <td>7.820645</td>\n",
       "      <td>8.459355</td>\n",
       "      <td>7.732903</td>\n",
       "      <td>7.831935</td>\n",
       "      <td>6.483871</td>\n",
       "      <td>14.077419</td>\n",
       "      <td>8.523871</td>\n",
       "      <td>9.910323</td>\n",
       "      <td>12.820000</td>\n",
       "      <td>10.055161</td>\n",
       "      <td>9.750968</td>\n",
       "    </tr>\n",
       "    <tr>\n",
       "      <th>8</th>\n",
       "      <td>10.466774</td>\n",
       "      <td>5.935161</td>\n",
       "      <td>5.417742</td>\n",
       "      <td>5.536774</td>\n",
       "      <td>5.650323</td>\n",
       "      <td>4.502903</td>\n",
       "      <td>12.054194</td>\n",
       "      <td>7.241290</td>\n",
       "      <td>9.032258</td>\n",
       "      <td>9.645161</td>\n",
       "      <td>7.368065</td>\n",
       "      <td>8.259355</td>\n",
       "    </tr>\n",
       "    <tr>\n",
       "      <th>9</th>\n",
       "      <td>15.680333</td>\n",
       "      <td>9.278333</td>\n",
       "      <td>9.583000</td>\n",
       "      <td>8.939000</td>\n",
       "      <td>10.790333</td>\n",
       "      <td>5.725000</td>\n",
       "      <td>19.391333</td>\n",
       "      <td>10.069333</td>\n",
       "      <td>10.635000</td>\n",
       "      <td>10.913667</td>\n",
       "      <td>10.372000</td>\n",
       "      <td>10.895000</td>\n",
       "    </tr>\n",
       "  </tbody>\n",
       "</table>\n",
       "<p>216 rows × 12 columns</p>\n",
       "</div>"
      ],
      "text/plain": [
       "               BEL        BIR        CLA        CLO        DUB       KIL  \\\n",
       "Yr   Mo                                                                    \n",
       "1961 1   13.880968   8.588065   9.245333  10.107419  11.184839  7.736774   \n",
       "     10  14.229355   8.333871   9.271935  11.455806  11.194194  8.154839   \n",
       "     11  10.776667   6.250667   6.313667   8.383667  10.869655  6.045667   \n",
       "     12  12.239355   8.302258   8.163226   9.246774  11.753548  7.073871   \n",
       "     2   18.583214  10.937500  11.846071  12.714286  11.890714  9.230741   \n",
       "...            ...        ...        ...        ...        ...       ...   \n",
       "1978 5    9.263548   4.449677   6.130645   5.926452   5.420968  3.740645   \n",
       "     6   11.501000   7.490333   7.802000   7.550000   7.928000  6.053000   \n",
       "     7   12.648710   7.820645   8.459355   7.732903   7.831935  6.483871   \n",
       "     8   10.466774   5.935161   5.417742   5.536774   5.650323  4.502903   \n",
       "     9   15.680333   9.278333   9.583000   8.939000  10.790333  5.725000   \n",
       "\n",
       "               MAL        MUL        ROS        RPT        SHA        VAL  \n",
       "Yr   Mo                                                                    \n",
       "1961 1   14.703226   9.085806  13.431613  14.841333  11.072759  11.988333  \n",
       "     10  16.793226   8.942667  12.236452  14.289667  11.865484  10.915806  \n",
       "     11  12.146000   6.575000  11.850333  10.896333   9.123667   8.592667  \n",
       "     12  13.098710   7.965806  13.980323  14.973548  11.323548  11.903871  \n",
       "     2   15.411786  11.821429  14.441481  16.269286  13.852143  14.975357  \n",
       "...            ...        ...        ...        ...        ...        ...  \n",
       "1978 5   10.756452   5.742581   6.901613   8.270645   6.973871   7.226774  \n",
       "     6   15.078667   8.220333  10.253333  11.386667  10.395333   9.474333  \n",
       "     7   14.077419   8.523871   9.910323  12.820000  10.055161   9.750968  \n",
       "     8   12.054194   7.241290   9.032258   9.645161   7.368065   8.259355  \n",
       "     9   19.391333  10.069333  10.635000  10.913667  10.372000  10.895000  \n",
       "\n",
       "[216 rows x 12 columns]"
      ]
     },
     "execution_count": 807,
     "metadata": {},
     "output_type": "execute_result"
    }
   ],
   "source": [
    "data.pivot_table(values= ['RPT', 'VAL', 'ROS', 'KIL', 'SHA', 'BIR', 'DUB',\n",
    "       'CLA', 'MUL', 'CLO', 'BEL', 'MAL'], index= ['Yr', 'Mo'], aggfunc= 'mean' )"
   ]
  },
  {
   "cell_type": "markdown",
   "metadata": {},
   "source": [
    "### 66. Calculate the min, max and mean windspeeds and standard deviations of the windspeeds across all locations for each week (assume that the first week starts on January 2 1961) for the first 52 weeks."
   ]
  },
  {
   "cell_type": "code",
   "execution_count": 808,
   "metadata": {},
   "outputs": [],
   "source": [
    "data.loc[:, 'Date1']= pd.to_datetime(data.Yr + ' - '+ data.Mo + ' - ' + data.Dy)"
   ]
  },
  {
   "cell_type": "code",
   "execution_count": 809,
   "metadata": {},
   "outputs": [],
   "source": [
    "# Creating a new column 'Week'.\n",
    "data['Week']= data['Date1'].dt.isocalendar().week"
   ]
  },
  {
   "cell_type": "code",
   "execution_count": 810,
   "metadata": {},
   "outputs": [
    {
     "data": {
      "text/html": [
       "<div>\n",
       "<style scoped>\n",
       "    .dataframe tbody tr th:only-of-type {\n",
       "        vertical-align: middle;\n",
       "    }\n",
       "\n",
       "    .dataframe tbody tr th {\n",
       "        vertical-align: top;\n",
       "    }\n",
       "\n",
       "    .dataframe thead th {\n",
       "        text-align: right;\n",
       "    }\n",
       "</style>\n",
       "<table border=\"1\" class=\"dataframe\">\n",
       "  <thead>\n",
       "    <tr style=\"text-align: right;\">\n",
       "      <th></th>\n",
       "      <th>Yr</th>\n",
       "      <th>Mo</th>\n",
       "      <th>Dy</th>\n",
       "      <th>RPT</th>\n",
       "      <th>VAL</th>\n",
       "      <th>ROS</th>\n",
       "      <th>KIL</th>\n",
       "      <th>SHA</th>\n",
       "      <th>BIR</th>\n",
       "      <th>DUB</th>\n",
       "      <th>CLA</th>\n",
       "      <th>MUL</th>\n",
       "      <th>CLO</th>\n",
       "      <th>BEL</th>\n",
       "      <th>MAL</th>\n",
       "      <th>Date1</th>\n",
       "      <th>Week</th>\n",
       "    </tr>\n",
       "    <tr>\n",
       "      <th>Date</th>\n",
       "      <th></th>\n",
       "      <th></th>\n",
       "      <th></th>\n",
       "      <th></th>\n",
       "      <th></th>\n",
       "      <th></th>\n",
       "      <th></th>\n",
       "      <th></th>\n",
       "      <th></th>\n",
       "      <th></th>\n",
       "      <th></th>\n",
       "      <th></th>\n",
       "      <th></th>\n",
       "      <th></th>\n",
       "      <th></th>\n",
       "      <th></th>\n",
       "      <th></th>\n",
       "    </tr>\n",
       "  </thead>\n",
       "  <tbody>\n",
       "    <tr>\n",
       "      <th>1961-01-01</th>\n",
       "      <td>1961</td>\n",
       "      <td>1</td>\n",
       "      <td>1</td>\n",
       "      <td>15.04</td>\n",
       "      <td>14.96</td>\n",
       "      <td>13.17</td>\n",
       "      <td>9.29</td>\n",
       "      <td>NaN</td>\n",
       "      <td>9.87</td>\n",
       "      <td>13.67</td>\n",
       "      <td>10.25</td>\n",
       "      <td>10.83</td>\n",
       "      <td>12.58</td>\n",
       "      <td>18.50</td>\n",
       "      <td>15.04</td>\n",
       "      <td>1961-01-01</td>\n",
       "      <td>52</td>\n",
       "    </tr>\n",
       "    <tr>\n",
       "      <th>1961-01-02</th>\n",
       "      <td>1961</td>\n",
       "      <td>1</td>\n",
       "      <td>2</td>\n",
       "      <td>14.71</td>\n",
       "      <td>NaN</td>\n",
       "      <td>10.83</td>\n",
       "      <td>6.50</td>\n",
       "      <td>12.62</td>\n",
       "      <td>7.67</td>\n",
       "      <td>11.50</td>\n",
       "      <td>10.04</td>\n",
       "      <td>9.79</td>\n",
       "      <td>9.67</td>\n",
       "      <td>17.54</td>\n",
       "      <td>13.83</td>\n",
       "      <td>1961-01-02</td>\n",
       "      <td>1</td>\n",
       "    </tr>\n",
       "  </tbody>\n",
       "</table>\n",
       "</div>"
      ],
      "text/plain": [
       "              Yr Mo Dy    RPT    VAL    ROS   KIL    SHA   BIR    DUB    CLA  \\\n",
       "Date                                                                           \n",
       "1961-01-01  1961  1  1  15.04  14.96  13.17  9.29    NaN  9.87  13.67  10.25   \n",
       "1961-01-02  1961  1  2  14.71    NaN  10.83  6.50  12.62  7.67  11.50  10.04   \n",
       "\n",
       "              MUL    CLO    BEL    MAL      Date1  Week  \n",
       "Date                                                     \n",
       "1961-01-01  10.83  12.58  18.50  15.04 1961-01-01    52  \n",
       "1961-01-02   9.79   9.67  17.54  13.83 1961-01-02     1  "
      ]
     },
     "execution_count": 810,
     "metadata": {},
     "output_type": "execute_result"
    }
   ],
   "source": [
    "# Viewing the data.\n",
    "data.head(2)"
   ]
  },
  {
   "cell_type": "code",
   "execution_count": 811,
   "metadata": {},
   "outputs": [
    {
     "data": {
      "text/html": [
       "<div>\n",
       "<style scoped>\n",
       "    .dataframe tbody tr th:only-of-type {\n",
       "        vertical-align: middle;\n",
       "    }\n",
       "\n",
       "    .dataframe tbody tr th {\n",
       "        vertical-align: top;\n",
       "    }\n",
       "\n",
       "    .dataframe thead tr th {\n",
       "        text-align: left;\n",
       "    }\n",
       "\n",
       "    .dataframe thead tr:last-of-type th {\n",
       "        text-align: right;\n",
       "    }\n",
       "</style>\n",
       "<table border=\"1\" class=\"dataframe\">\n",
       "  <thead>\n",
       "    <tr>\n",
       "      <th></th>\n",
       "      <th colspan=\"10\" halign=\"left\">min</th>\n",
       "      <th>...</th>\n",
       "      <th colspan=\"10\" halign=\"left\">std</th>\n",
       "    </tr>\n",
       "    <tr>\n",
       "      <th></th>\n",
       "      <th>BEL</th>\n",
       "      <th>BIR</th>\n",
       "      <th>CLA</th>\n",
       "      <th>CLO</th>\n",
       "      <th>DUB</th>\n",
       "      <th>KIL</th>\n",
       "      <th>MAL</th>\n",
       "      <th>MUL</th>\n",
       "      <th>ROS</th>\n",
       "      <th>RPT</th>\n",
       "      <th>...</th>\n",
       "      <th>CLA</th>\n",
       "      <th>CLO</th>\n",
       "      <th>DUB</th>\n",
       "      <th>KIL</th>\n",
       "      <th>MAL</th>\n",
       "      <th>MUL</th>\n",
       "      <th>ROS</th>\n",
       "      <th>RPT</th>\n",
       "      <th>SHA</th>\n",
       "      <th>VAL</th>\n",
       "    </tr>\n",
       "    <tr>\n",
       "      <th>Week</th>\n",
       "      <th></th>\n",
       "      <th></th>\n",
       "      <th></th>\n",
       "      <th></th>\n",
       "      <th></th>\n",
       "      <th></th>\n",
       "      <th></th>\n",
       "      <th></th>\n",
       "      <th></th>\n",
       "      <th></th>\n",
       "      <th></th>\n",
       "      <th></th>\n",
       "      <th></th>\n",
       "      <th></th>\n",
       "      <th></th>\n",
       "      <th></th>\n",
       "      <th></th>\n",
       "      <th></th>\n",
       "      <th></th>\n",
       "      <th></th>\n",
       "      <th></th>\n",
       "    </tr>\n",
       "  </thead>\n",
       "  <tbody>\n",
       "    <tr>\n",
       "      <th>1</th>\n",
       "      <td>0.58</td>\n",
       "      <td>0.13</td>\n",
       "      <td>0.00</td>\n",
       "      <td>0.58</td>\n",
       "      <td>2.62</td>\n",
       "      <td>0.37</td>\n",
       "      <td>4.17</td>\n",
       "      <td>0.54</td>\n",
       "      <td>3.79</td>\n",
       "      <td>2.62</td>\n",
       "      <td>...</td>\n",
       "      <td>5.572594</td>\n",
       "      <td>5.290276</td>\n",
       "      <td>5.062046</td>\n",
       "      <td>4.687681</td>\n",
       "      <td>7.047385</td>\n",
       "      <td>4.641781</td>\n",
       "      <td>5.589253</td>\n",
       "      <td>6.341312</td>\n",
       "      <td>5.285201</td>\n",
       "      <td>5.976741</td>\n",
       "    </tr>\n",
       "    <tr>\n",
       "      <th>2</th>\n",
       "      <td>1.71</td>\n",
       "      <td>0.71</td>\n",
       "      <td>0.37</td>\n",
       "      <td>0.33</td>\n",
       "      <td>1.58</td>\n",
       "      <td>0.17</td>\n",
       "      <td>3.63</td>\n",
       "      <td>0.50</td>\n",
       "      <td>3.54</td>\n",
       "      <td>2.00</td>\n",
       "      <td>...</td>\n",
       "      <td>5.319094</td>\n",
       "      <td>5.275913</td>\n",
       "      <td>6.041102</td>\n",
       "      <td>4.490551</td>\n",
       "      <td>7.145932</td>\n",
       "      <td>5.024454</td>\n",
       "      <td>5.668410</td>\n",
       "      <td>6.493246</td>\n",
       "      <td>6.238574</td>\n",
       "      <td>6.445335</td>\n",
       "    </tr>\n",
       "    <tr>\n",
       "      <th>3</th>\n",
       "      <td>1.87</td>\n",
       "      <td>0.04</td>\n",
       "      <td>0.46</td>\n",
       "      <td>0.04</td>\n",
       "      <td>0.46</td>\n",
       "      <td>0.08</td>\n",
       "      <td>4.63</td>\n",
       "      <td>0.46</td>\n",
       "      <td>3.00</td>\n",
       "      <td>1.63</td>\n",
       "      <td>...</td>\n",
       "      <td>4.359348</td>\n",
       "      <td>4.775379</td>\n",
       "      <td>5.268464</td>\n",
       "      <td>4.154033</td>\n",
       "      <td>6.624527</td>\n",
       "      <td>4.490933</td>\n",
       "      <td>5.650908</td>\n",
       "      <td>6.323325</td>\n",
       "      <td>4.839467</td>\n",
       "      <td>5.487427</td>\n",
       "    </tr>\n",
       "    <tr>\n",
       "      <th>4</th>\n",
       "      <td>0.13</td>\n",
       "      <td>0.17</td>\n",
       "      <td>0.42</td>\n",
       "      <td>0.46</td>\n",
       "      <td>0.54</td>\n",
       "      <td>0.50</td>\n",
       "      <td>3.25</td>\n",
       "      <td>0.46</td>\n",
       "      <td>2.75</td>\n",
       "      <td>0.67</td>\n",
       "      <td>...</td>\n",
       "      <td>5.428608</td>\n",
       "      <td>5.188772</td>\n",
       "      <td>5.218766</td>\n",
       "      <td>4.388357</td>\n",
       "      <td>7.634472</td>\n",
       "      <td>4.976123</td>\n",
       "      <td>5.442970</td>\n",
       "      <td>6.558873</td>\n",
       "      <td>5.630552</td>\n",
       "      <td>6.062601</td>\n",
       "    </tr>\n",
       "    <tr>\n",
       "      <th>5</th>\n",
       "      <td>1.96</td>\n",
       "      <td>0.00</td>\n",
       "      <td>0.21</td>\n",
       "      <td>0.50</td>\n",
       "      <td>1.33</td>\n",
       "      <td>0.37</td>\n",
       "      <td>4.83</td>\n",
       "      <td>0.29</td>\n",
       "      <td>3.21</td>\n",
       "      <td>2.71</td>\n",
       "      <td>...</td>\n",
       "      <td>5.033435</td>\n",
       "      <td>4.991521</td>\n",
       "      <td>5.161353</td>\n",
       "      <td>3.854631</td>\n",
       "      <td>6.620860</td>\n",
       "      <td>4.512875</td>\n",
       "      <td>5.330043</td>\n",
       "      <td>5.712026</td>\n",
       "      <td>5.038396</td>\n",
       "      <td>5.947208</td>\n",
       "    </tr>\n",
       "    <tr>\n",
       "      <th>6</th>\n",
       "      <td>2.04</td>\n",
       "      <td>0.13</td>\n",
       "      <td>0.46</td>\n",
       "      <td>0.67</td>\n",
       "      <td>1.75</td>\n",
       "      <td>0.33</td>\n",
       "      <td>5.29</td>\n",
       "      <td>0.50</td>\n",
       "      <td>3.67</td>\n",
       "      <td>2.79</td>\n",
       "      <td>...</td>\n",
       "      <td>4.565358</td>\n",
       "      <td>4.624377</td>\n",
       "      <td>4.961367</td>\n",
       "      <td>3.764455</td>\n",
       "      <td>6.092634</td>\n",
       "      <td>4.627897</td>\n",
       "      <td>4.923072</td>\n",
       "      <td>5.620867</td>\n",
       "      <td>4.991844</td>\n",
       "      <td>5.845671</td>\n",
       "    </tr>\n",
       "    <tr>\n",
       "      <th>7</th>\n",
       "      <td>2.67</td>\n",
       "      <td>0.00</td>\n",
       "      <td>0.17</td>\n",
       "      <td>0.83</td>\n",
       "      <td>2.79</td>\n",
       "      <td>0.42</td>\n",
       "      <td>5.09</td>\n",
       "      <td>0.83</td>\n",
       "      <td>3.50</td>\n",
       "      <td>2.92</td>\n",
       "      <td>...</td>\n",
       "      <td>5.385052</td>\n",
       "      <td>5.241451</td>\n",
       "      <td>5.471027</td>\n",
       "      <td>4.145513</td>\n",
       "      <td>6.819665</td>\n",
       "      <td>4.769665</td>\n",
       "      <td>5.015288</td>\n",
       "      <td>5.916627</td>\n",
       "      <td>5.734126</td>\n",
       "      <td>5.974678</td>\n",
       "    </tr>\n",
       "    <tr>\n",
       "      <th>8</th>\n",
       "      <td>2.17</td>\n",
       "      <td>0.04</td>\n",
       "      <td>0.25</td>\n",
       "      <td>0.75</td>\n",
       "      <td>1.46</td>\n",
       "      <td>0.67</td>\n",
       "      <td>3.04</td>\n",
       "      <td>0.96</td>\n",
       "      <td>2.37</td>\n",
       "      <td>1.54</td>\n",
       "      <td>...</td>\n",
       "      <td>4.955935</td>\n",
       "      <td>5.096524</td>\n",
       "      <td>5.629268</td>\n",
       "      <td>4.135992</td>\n",
       "      <td>7.251216</td>\n",
       "      <td>4.655384</td>\n",
       "      <td>6.000005</td>\n",
       "      <td>5.923096</td>\n",
       "      <td>5.317412</td>\n",
       "      <td>5.428889</td>\n",
       "    </tr>\n",
       "    <tr>\n",
       "      <th>9</th>\n",
       "      <td>2.13</td>\n",
       "      <td>0.21</td>\n",
       "      <td>0.96</td>\n",
       "      <td>1.75</td>\n",
       "      <td>1.08</td>\n",
       "      <td>0.58</td>\n",
       "      <td>3.17</td>\n",
       "      <td>1.17</td>\n",
       "      <td>2.50</td>\n",
       "      <td>0.67</td>\n",
       "      <td>...</td>\n",
       "      <td>4.695696</td>\n",
       "      <td>4.548139</td>\n",
       "      <td>5.030806</td>\n",
       "      <td>3.611449</td>\n",
       "      <td>6.191920</td>\n",
       "      <td>3.891743</td>\n",
       "      <td>4.734627</td>\n",
       "      <td>5.240324</td>\n",
       "      <td>5.018766</td>\n",
       "      <td>5.206450</td>\n",
       "    </tr>\n",
       "    <tr>\n",
       "      <th>10</th>\n",
       "      <td>2.21</td>\n",
       "      <td>0.00</td>\n",
       "      <td>1.08</td>\n",
       "      <td>0.25</td>\n",
       "      <td>1.08</td>\n",
       "      <td>0.50</td>\n",
       "      <td>2.46</td>\n",
       "      <td>0.54</td>\n",
       "      <td>3.42</td>\n",
       "      <td>2.29</td>\n",
       "      <td>...</td>\n",
       "      <td>4.706714</td>\n",
       "      <td>4.978696</td>\n",
       "      <td>5.472030</td>\n",
       "      <td>4.296609</td>\n",
       "      <td>6.572057</td>\n",
       "      <td>4.459569</td>\n",
       "      <td>6.115155</td>\n",
       "      <td>6.165086</td>\n",
       "      <td>5.309196</td>\n",
       "      <td>5.842768</td>\n",
       "    </tr>\n",
       "    <tr>\n",
       "      <th>11</th>\n",
       "      <td>2.25</td>\n",
       "      <td>0.33</td>\n",
       "      <td>0.67</td>\n",
       "      <td>0.71</td>\n",
       "      <td>2.29</td>\n",
       "      <td>0.87</td>\n",
       "      <td>4.54</td>\n",
       "      <td>1.71</td>\n",
       "      <td>2.92</td>\n",
       "      <td>1.46</td>\n",
       "      <td>...</td>\n",
       "      <td>5.352835</td>\n",
       "      <td>5.112287</td>\n",
       "      <td>5.385487</td>\n",
       "      <td>4.146945</td>\n",
       "      <td>7.428510</td>\n",
       "      <td>4.738673</td>\n",
       "      <td>5.654429</td>\n",
       "      <td>6.412912</td>\n",
       "      <td>5.410475</td>\n",
       "      <td>5.553335</td>\n",
       "    </tr>\n",
       "    <tr>\n",
       "      <th>12</th>\n",
       "      <td>2.96</td>\n",
       "      <td>0.13</td>\n",
       "      <td>1.83</td>\n",
       "      <td>0.37</td>\n",
       "      <td>3.50</td>\n",
       "      <td>0.67</td>\n",
       "      <td>3.21</td>\n",
       "      <td>1.25</td>\n",
       "      <td>3.17</td>\n",
       "      <td>2.92</td>\n",
       "      <td>...</td>\n",
       "      <td>4.613769</td>\n",
       "      <td>4.517893</td>\n",
       "      <td>5.248829</td>\n",
       "      <td>3.881174</td>\n",
       "      <td>6.902719</td>\n",
       "      <td>4.547905</td>\n",
       "      <td>5.322566</td>\n",
       "      <td>5.509073</td>\n",
       "      <td>5.160086</td>\n",
       "      <td>5.109913</td>\n",
       "    </tr>\n",
       "    <tr>\n",
       "      <th>13</th>\n",
       "      <td>2.50</td>\n",
       "      <td>0.25</td>\n",
       "      <td>0.96</td>\n",
       "      <td>1.67</td>\n",
       "      <td>2.04</td>\n",
       "      <td>1.08</td>\n",
       "      <td>2.04</td>\n",
       "      <td>1.17</td>\n",
       "      <td>2.71</td>\n",
       "      <td>2.79</td>\n",
       "      <td>...</td>\n",
       "      <td>4.487024</td>\n",
       "      <td>4.379889</td>\n",
       "      <td>4.933781</td>\n",
       "      <td>3.235555</td>\n",
       "      <td>6.644671</td>\n",
       "      <td>4.486575</td>\n",
       "      <td>4.806939</td>\n",
       "      <td>5.278774</td>\n",
       "      <td>4.994303</td>\n",
       "      <td>5.126852</td>\n",
       "    </tr>\n",
       "    <tr>\n",
       "      <th>14</th>\n",
       "      <td>2.88</td>\n",
       "      <td>0.29</td>\n",
       "      <td>1.25</td>\n",
       "      <td>1.50</td>\n",
       "      <td>1.42</td>\n",
       "      <td>1.63</td>\n",
       "      <td>3.71</td>\n",
       "      <td>1.17</td>\n",
       "      <td>3.04</td>\n",
       "      <td>3.88</td>\n",
       "      <td>...</td>\n",
       "      <td>4.188499</td>\n",
       "      <td>4.384778</td>\n",
       "      <td>5.179663</td>\n",
       "      <td>3.503805</td>\n",
       "      <td>6.979889</td>\n",
       "      <td>4.177817</td>\n",
       "      <td>5.490509</td>\n",
       "      <td>5.698092</td>\n",
       "      <td>5.039414</td>\n",
       "      <td>5.048327</td>\n",
       "    </tr>\n",
       "    <tr>\n",
       "      <th>15</th>\n",
       "      <td>4.46</td>\n",
       "      <td>0.79</td>\n",
       "      <td>1.25</td>\n",
       "      <td>1.38</td>\n",
       "      <td>2.13</td>\n",
       "      <td>1.25</td>\n",
       "      <td>4.33</td>\n",
       "      <td>1.46</td>\n",
       "      <td>1.75</td>\n",
       "      <td>4.42</td>\n",
       "      <td>...</td>\n",
       "      <td>4.593282</td>\n",
       "      <td>4.272218</td>\n",
       "      <td>5.047086</td>\n",
       "      <td>3.513320</td>\n",
       "      <td>6.795427</td>\n",
       "      <td>4.202997</td>\n",
       "      <td>4.781080</td>\n",
       "      <td>5.335705</td>\n",
       "      <td>4.884393</td>\n",
       "      <td>4.679762</td>\n",
       "    </tr>\n",
       "    <tr>\n",
       "      <th>16</th>\n",
       "      <td>3.21</td>\n",
       "      <td>0.21</td>\n",
       "      <td>1.46</td>\n",
       "      <td>1.38</td>\n",
       "      <td>1.33</td>\n",
       "      <td>0.63</td>\n",
       "      <td>4.17</td>\n",
       "      <td>1.38</td>\n",
       "      <td>3.33</td>\n",
       "      <td>3.67</td>\n",
       "      <td>...</td>\n",
       "      <td>4.139256</td>\n",
       "      <td>4.220644</td>\n",
       "      <td>4.574593</td>\n",
       "      <td>3.561543</td>\n",
       "      <td>5.328738</td>\n",
       "      <td>3.766336</td>\n",
       "      <td>5.032650</td>\n",
       "      <td>5.248461</td>\n",
       "      <td>4.661589</td>\n",
       "      <td>5.032893</td>\n",
       "    </tr>\n",
       "    <tr>\n",
       "      <th>17</th>\n",
       "      <td>3.75</td>\n",
       "      <td>0.17</td>\n",
       "      <td>1.38</td>\n",
       "      <td>0.50</td>\n",
       "      <td>1.21</td>\n",
       "      <td>0.83</td>\n",
       "      <td>2.21</td>\n",
       "      <td>1.54</td>\n",
       "      <td>2.54</td>\n",
       "      <td>3.46</td>\n",
       "      <td>...</td>\n",
       "      <td>3.896546</td>\n",
       "      <td>4.217093</td>\n",
       "      <td>4.574245</td>\n",
       "      <td>3.254163</td>\n",
       "      <td>6.018248</td>\n",
       "      <td>3.729198</td>\n",
       "      <td>4.794157</td>\n",
       "      <td>5.378706</td>\n",
       "      <td>4.672307</td>\n",
       "      <td>4.758561</td>\n",
       "    </tr>\n",
       "    <tr>\n",
       "      <th>18</th>\n",
       "      <td>3.29</td>\n",
       "      <td>0.29</td>\n",
       "      <td>0.54</td>\n",
       "      <td>1.29</td>\n",
       "      <td>0.92</td>\n",
       "      <td>0.46</td>\n",
       "      <td>2.58</td>\n",
       "      <td>0.67</td>\n",
       "      <td>3.58</td>\n",
       "      <td>1.63</td>\n",
       "      <td>...</td>\n",
       "      <td>4.174833</td>\n",
       "      <td>4.082519</td>\n",
       "      <td>4.145967</td>\n",
       "      <td>3.045277</td>\n",
       "      <td>6.216011</td>\n",
       "      <td>3.830264</td>\n",
       "      <td>4.085285</td>\n",
       "      <td>4.367054</td>\n",
       "      <td>4.466483</td>\n",
       "      <td>4.274369</td>\n",
       "    </tr>\n",
       "    <tr>\n",
       "      <th>19</th>\n",
       "      <td>4.71</td>\n",
       "      <td>0.13</td>\n",
       "      <td>1.38</td>\n",
       "      <td>1.83</td>\n",
       "      <td>1.63</td>\n",
       "      <td>1.04</td>\n",
       "      <td>3.33</td>\n",
       "      <td>1.13</td>\n",
       "      <td>2.29</td>\n",
       "      <td>3.54</td>\n",
       "      <td>...</td>\n",
       "      <td>4.271872</td>\n",
       "      <td>4.348034</td>\n",
       "      <td>4.430291</td>\n",
       "      <td>3.432018</td>\n",
       "      <td>5.699596</td>\n",
       "      <td>3.782671</td>\n",
       "      <td>5.305562</td>\n",
       "      <td>5.517038</td>\n",
       "      <td>4.751922</td>\n",
       "      <td>4.345500</td>\n",
       "    </tr>\n",
       "    <tr>\n",
       "      <th>20</th>\n",
       "      <td>4.12</td>\n",
       "      <td>0.54</td>\n",
       "      <td>1.67</td>\n",
       "      <td>1.42</td>\n",
       "      <td>1.21</td>\n",
       "      <td>0.92</td>\n",
       "      <td>3.58</td>\n",
       "      <td>1.38</td>\n",
       "      <td>3.46</td>\n",
       "      <td>2.42</td>\n",
       "      <td>...</td>\n",
       "      <td>4.131662</td>\n",
       "      <td>4.520118</td>\n",
       "      <td>4.893045</td>\n",
       "      <td>3.371625</td>\n",
       "      <td>5.865042</td>\n",
       "      <td>4.167407</td>\n",
       "      <td>4.502200</td>\n",
       "      <td>5.404169</td>\n",
       "      <td>4.920203</td>\n",
       "      <td>4.876184</td>\n",
       "    </tr>\n",
       "    <tr>\n",
       "      <th>21</th>\n",
       "      <td>3.21</td>\n",
       "      <td>0.04</td>\n",
       "      <td>1.29</td>\n",
       "      <td>0.96</td>\n",
       "      <td>0.83</td>\n",
       "      <td>1.08</td>\n",
       "      <td>4.04</td>\n",
       "      <td>1.00</td>\n",
       "      <td>3.04</td>\n",
       "      <td>2.62</td>\n",
       "      <td>...</td>\n",
       "      <td>3.836572</td>\n",
       "      <td>3.691034</td>\n",
       "      <td>4.233411</td>\n",
       "      <td>3.055061</td>\n",
       "      <td>5.258812</td>\n",
       "      <td>3.767712</td>\n",
       "      <td>4.943086</td>\n",
       "      <td>5.200316</td>\n",
       "      <td>4.919717</td>\n",
       "      <td>4.471767</td>\n",
       "    </tr>\n",
       "    <tr>\n",
       "      <th>22</th>\n",
       "      <td>2.67</td>\n",
       "      <td>0.83</td>\n",
       "      <td>1.42</td>\n",
       "      <td>0.92</td>\n",
       "      <td>0.83</td>\n",
       "      <td>1.38</td>\n",
       "      <td>1.75</td>\n",
       "      <td>0.96</td>\n",
       "      <td>3.50</td>\n",
       "      <td>2.04</td>\n",
       "      <td>...</td>\n",
       "      <td>3.363868</td>\n",
       "      <td>3.354776</td>\n",
       "      <td>3.496048</td>\n",
       "      <td>2.279229</td>\n",
       "      <td>5.001233</td>\n",
       "      <td>3.387331</td>\n",
       "      <td>5.022040</td>\n",
       "      <td>4.053188</td>\n",
       "      <td>3.758069</td>\n",
       "      <td>3.521804</td>\n",
       "    </tr>\n",
       "    <tr>\n",
       "      <th>23</th>\n",
       "      <td>4.04</td>\n",
       "      <td>0.00</td>\n",
       "      <td>1.33</td>\n",
       "      <td>0.87</td>\n",
       "      <td>0.21</td>\n",
       "      <td>0.71</td>\n",
       "      <td>2.21</td>\n",
       "      <td>0.50</td>\n",
       "      <td>2.75</td>\n",
       "      <td>2.17</td>\n",
       "      <td>...</td>\n",
       "      <td>3.478149</td>\n",
       "      <td>3.366850</td>\n",
       "      <td>3.686859</td>\n",
       "      <td>2.533931</td>\n",
       "      <td>5.383357</td>\n",
       "      <td>3.108832</td>\n",
       "      <td>5.046720</td>\n",
       "      <td>4.516349</td>\n",
       "      <td>4.021395</td>\n",
       "      <td>3.909693</td>\n",
       "    </tr>\n",
       "    <tr>\n",
       "      <th>24</th>\n",
       "      <td>3.08</td>\n",
       "      <td>0.71</td>\n",
       "      <td>0.75</td>\n",
       "      <td>0.54</td>\n",
       "      <td>1.46</td>\n",
       "      <td>1.21</td>\n",
       "      <td>2.79</td>\n",
       "      <td>1.50</td>\n",
       "      <td>1.87</td>\n",
       "      <td>1.00</td>\n",
       "      <td>...</td>\n",
       "      <td>3.664466</td>\n",
       "      <td>3.994689</td>\n",
       "      <td>4.065439</td>\n",
       "      <td>2.725403</td>\n",
       "      <td>5.419266</td>\n",
       "      <td>3.368293</td>\n",
       "      <td>4.881431</td>\n",
       "      <td>4.410570</td>\n",
       "      <td>3.915909</td>\n",
       "      <td>4.503438</td>\n",
       "    </tr>\n",
       "    <tr>\n",
       "      <th>25</th>\n",
       "      <td>2.96</td>\n",
       "      <td>1.25</td>\n",
       "      <td>1.00</td>\n",
       "      <td>0.79</td>\n",
       "      <td>1.75</td>\n",
       "      <td>1.25</td>\n",
       "      <td>3.08</td>\n",
       "      <td>1.67</td>\n",
       "      <td>4.21</td>\n",
       "      <td>2.92</td>\n",
       "      <td>...</td>\n",
       "      <td>4.100241</td>\n",
       "      <td>4.260790</td>\n",
       "      <td>4.634523</td>\n",
       "      <td>3.145359</td>\n",
       "      <td>5.873487</td>\n",
       "      <td>3.910905</td>\n",
       "      <td>3.544629</td>\n",
       "      <td>4.415008</td>\n",
       "      <td>4.522242</td>\n",
       "      <td>4.116320</td>\n",
       "    </tr>\n",
       "    <tr>\n",
       "      <th>26</th>\n",
       "      <td>4.21</td>\n",
       "      <td>0.25</td>\n",
       "      <td>1.00</td>\n",
       "      <td>1.17</td>\n",
       "      <td>1.79</td>\n",
       "      <td>1.92</td>\n",
       "      <td>4.54</td>\n",
       "      <td>1.71</td>\n",
       "      <td>1.83</td>\n",
       "      <td>3.46</td>\n",
       "      <td>...</td>\n",
       "      <td>3.029853</td>\n",
       "      <td>3.233524</td>\n",
       "      <td>3.547179</td>\n",
       "      <td>2.348039</td>\n",
       "      <td>4.516285</td>\n",
       "      <td>2.893628</td>\n",
       "      <td>3.620651</td>\n",
       "      <td>3.868826</td>\n",
       "      <td>3.565433</td>\n",
       "      <td>3.476639</td>\n",
       "    </tr>\n",
       "    <tr>\n",
       "      <th>27</th>\n",
       "      <td>4.04</td>\n",
       "      <td>0.50</td>\n",
       "      <td>0.21</td>\n",
       "      <td>0.96</td>\n",
       "      <td>1.46</td>\n",
       "      <td>1.29</td>\n",
       "      <td>4.50</td>\n",
       "      <td>1.29</td>\n",
       "      <td>2.83</td>\n",
       "      <td>2.00</td>\n",
       "      <td>...</td>\n",
       "      <td>3.423317</td>\n",
       "      <td>3.720332</td>\n",
       "      <td>3.758722</td>\n",
       "      <td>2.686712</td>\n",
       "      <td>5.292558</td>\n",
       "      <td>3.192081</td>\n",
       "      <td>3.314345</td>\n",
       "      <td>4.742847</td>\n",
       "      <td>4.019936</td>\n",
       "      <td>3.715586</td>\n",
       "    </tr>\n",
       "    <tr>\n",
       "      <th>28</th>\n",
       "      <td>3.25</td>\n",
       "      <td>0.29</td>\n",
       "      <td>0.37</td>\n",
       "      <td>0.67</td>\n",
       "      <td>0.83</td>\n",
       "      <td>0.75</td>\n",
       "      <td>2.13</td>\n",
       "      <td>0.54</td>\n",
       "      <td>3.42</td>\n",
       "      <td>2.75</td>\n",
       "      <td>...</td>\n",
       "      <td>3.709763</td>\n",
       "      <td>3.662487</td>\n",
       "      <td>3.779491</td>\n",
       "      <td>2.669568</td>\n",
       "      <td>5.565273</td>\n",
       "      <td>3.458463</td>\n",
       "      <td>3.661512</td>\n",
       "      <td>4.661313</td>\n",
       "      <td>4.295285</td>\n",
       "      <td>3.932700</td>\n",
       "    </tr>\n",
       "    <tr>\n",
       "      <th>29</th>\n",
       "      <td>3.33</td>\n",
       "      <td>0.25</td>\n",
       "      <td>0.67</td>\n",
       "      <td>0.37</td>\n",
       "      <td>1.38</td>\n",
       "      <td>1.17</td>\n",
       "      <td>2.29</td>\n",
       "      <td>0.37</td>\n",
       "      <td>2.92</td>\n",
       "      <td>1.71</td>\n",
       "      <td>...</td>\n",
       "      <td>3.603905</td>\n",
       "      <td>3.733708</td>\n",
       "      <td>3.943016</td>\n",
       "      <td>2.539948</td>\n",
       "      <td>5.472898</td>\n",
       "      <td>3.259089</td>\n",
       "      <td>3.820782</td>\n",
       "      <td>4.578130</td>\n",
       "      <td>3.713357</td>\n",
       "      <td>3.921746</td>\n",
       "    </tr>\n",
       "    <tr>\n",
       "      <th>30</th>\n",
       "      <td>3.58</td>\n",
       "      <td>0.13</td>\n",
       "      <td>1.13</td>\n",
       "      <td>0.92</td>\n",
       "      <td>1.42</td>\n",
       "      <td>0.96</td>\n",
       "      <td>2.88</td>\n",
       "      <td>0.46</td>\n",
       "      <td>2.50</td>\n",
       "      <td>1.25</td>\n",
       "      <td>...</td>\n",
       "      <td>3.611669</td>\n",
       "      <td>3.470866</td>\n",
       "      <td>3.734464</td>\n",
       "      <td>2.358152</td>\n",
       "      <td>5.055287</td>\n",
       "      <td>3.199508</td>\n",
       "      <td>3.767112</td>\n",
       "      <td>4.056483</td>\n",
       "      <td>3.932700</td>\n",
       "      <td>3.535041</td>\n",
       "    </tr>\n",
       "    <tr>\n",
       "      <th>31</th>\n",
       "      <td>3.46</td>\n",
       "      <td>0.46</td>\n",
       "      <td>0.46</td>\n",
       "      <td>0.67</td>\n",
       "      <td>1.38</td>\n",
       "      <td>1.63</td>\n",
       "      <td>2.25</td>\n",
       "      <td>1.54</td>\n",
       "      <td>3.08</td>\n",
       "      <td>2.79</td>\n",
       "      <td>...</td>\n",
       "      <td>3.602100</td>\n",
       "      <td>3.502351</td>\n",
       "      <td>3.631415</td>\n",
       "      <td>2.204732</td>\n",
       "      <td>5.053851</td>\n",
       "      <td>2.995495</td>\n",
       "      <td>3.403761</td>\n",
       "      <td>4.143365</td>\n",
       "      <td>3.830133</td>\n",
       "      <td>3.691241</td>\n",
       "    </tr>\n",
       "    <tr>\n",
       "      <th>32</th>\n",
       "      <td>3.29</td>\n",
       "      <td>0.71</td>\n",
       "      <td>0.71</td>\n",
       "      <td>0.46</td>\n",
       "      <td>0.92</td>\n",
       "      <td>1.42</td>\n",
       "      <td>3.04</td>\n",
       "      <td>0.58</td>\n",
       "      <td>4.21</td>\n",
       "      <td>2.67</td>\n",
       "      <td>...</td>\n",
       "      <td>3.609097</td>\n",
       "      <td>3.676547</td>\n",
       "      <td>3.488207</td>\n",
       "      <td>2.491611</td>\n",
       "      <td>5.353812</td>\n",
       "      <td>3.291622</td>\n",
       "      <td>3.639591</td>\n",
       "      <td>3.982815</td>\n",
       "      <td>3.953439</td>\n",
       "      <td>4.076909</td>\n",
       "    </tr>\n",
       "    <tr>\n",
       "      <th>33</th>\n",
       "      <td>1.58</td>\n",
       "      <td>0.37</td>\n",
       "      <td>0.63</td>\n",
       "      <td>0.79</td>\n",
       "      <td>0.71</td>\n",
       "      <td>0.83</td>\n",
       "      <td>2.17</td>\n",
       "      <td>0.87</td>\n",
       "      <td>2.92</td>\n",
       "      <td>3.17</td>\n",
       "      <td>...</td>\n",
       "      <td>4.070338</td>\n",
       "      <td>4.084187</td>\n",
       "      <td>4.241708</td>\n",
       "      <td>3.110557</td>\n",
       "      <td>5.587084</td>\n",
       "      <td>3.640329</td>\n",
       "      <td>4.186147</td>\n",
       "      <td>4.914926</td>\n",
       "      <td>4.559596</td>\n",
       "      <td>4.180112</td>\n",
       "    </tr>\n",
       "    <tr>\n",
       "      <th>34</th>\n",
       "      <td>1.63</td>\n",
       "      <td>0.21</td>\n",
       "      <td>0.08</td>\n",
       "      <td>0.13</td>\n",
       "      <td>0.71</td>\n",
       "      <td>1.21</td>\n",
       "      <td>3.37</td>\n",
       "      <td>1.50</td>\n",
       "      <td>3.54</td>\n",
       "      <td>2.42</td>\n",
       "      <td>...</td>\n",
       "      <td>4.362172</td>\n",
       "      <td>4.206738</td>\n",
       "      <td>4.494953</td>\n",
       "      <td>2.974151</td>\n",
       "      <td>5.642352</td>\n",
       "      <td>3.564286</td>\n",
       "      <td>3.808310</td>\n",
       "      <td>4.874965</td>\n",
       "      <td>4.628354</td>\n",
       "      <td>4.372665</td>\n",
       "    </tr>\n",
       "    <tr>\n",
       "      <th>35</th>\n",
       "      <td>2.67</td>\n",
       "      <td>0.08</td>\n",
       "      <td>0.71</td>\n",
       "      <td>0.04</td>\n",
       "      <td>0.37</td>\n",
       "      <td>0.83</td>\n",
       "      <td>3.83</td>\n",
       "      <td>0.54</td>\n",
       "      <td>2.42</td>\n",
       "      <td>0.96</td>\n",
       "      <td>...</td>\n",
       "      <td>4.198024</td>\n",
       "      <td>4.115397</td>\n",
       "      <td>4.142594</td>\n",
       "      <td>2.961108</td>\n",
       "      <td>5.962103</td>\n",
       "      <td>3.655814</td>\n",
       "      <td>4.254049</td>\n",
       "      <td>4.976603</td>\n",
       "      <td>5.169258</td>\n",
       "      <td>4.816354</td>\n",
       "    </tr>\n",
       "    <tr>\n",
       "      <th>36</th>\n",
       "      <td>1.63</td>\n",
       "      <td>0.54</td>\n",
       "      <td>0.54</td>\n",
       "      <td>0.13</td>\n",
       "      <td>1.25</td>\n",
       "      <td>0.87</td>\n",
       "      <td>3.37</td>\n",
       "      <td>0.33</td>\n",
       "      <td>2.29</td>\n",
       "      <td>1.50</td>\n",
       "      <td>...</td>\n",
       "      <td>3.677473</td>\n",
       "      <td>3.713513</td>\n",
       "      <td>4.211560</td>\n",
       "      <td>2.903820</td>\n",
       "      <td>5.692819</td>\n",
       "      <td>3.773584</td>\n",
       "      <td>4.378142</td>\n",
       "      <td>5.086312</td>\n",
       "      <td>4.347830</td>\n",
       "      <td>4.585837</td>\n",
       "    </tr>\n",
       "    <tr>\n",
       "      <th>37</th>\n",
       "      <td>2.54</td>\n",
       "      <td>0.21</td>\n",
       "      <td>0.42</td>\n",
       "      <td>0.29</td>\n",
       "      <td>1.42</td>\n",
       "      <td>0.58</td>\n",
       "      <td>2.83</td>\n",
       "      <td>0.46</td>\n",
       "      <td>2.96</td>\n",
       "      <td>1.79</td>\n",
       "      <td>...</td>\n",
       "      <td>4.310187</td>\n",
       "      <td>4.671456</td>\n",
       "      <td>4.573940</td>\n",
       "      <td>3.653077</td>\n",
       "      <td>6.350553</td>\n",
       "      <td>4.186744</td>\n",
       "      <td>5.133529</td>\n",
       "      <td>5.662910</td>\n",
       "      <td>5.095621</td>\n",
       "      <td>4.902647</td>\n",
       "    </tr>\n",
       "    <tr>\n",
       "      <th>38</th>\n",
       "      <td>2.79</td>\n",
       "      <td>0.58</td>\n",
       "      <td>0.29</td>\n",
       "      <td>0.29</td>\n",
       "      <td>0.54</td>\n",
       "      <td>0.46</td>\n",
       "      <td>0.67</td>\n",
       "      <td>0.67</td>\n",
       "      <td>2.37</td>\n",
       "      <td>0.79</td>\n",
       "      <td>...</td>\n",
       "      <td>3.683295</td>\n",
       "      <td>3.609957</td>\n",
       "      <td>3.782360</td>\n",
       "      <td>2.685250</td>\n",
       "      <td>5.420672</td>\n",
       "      <td>3.180781</td>\n",
       "      <td>4.050428</td>\n",
       "      <td>4.585719</td>\n",
       "      <td>3.992737</td>\n",
       "      <td>4.646788</td>\n",
       "    </tr>\n",
       "    <tr>\n",
       "      <th>39</th>\n",
       "      <td>2.21</td>\n",
       "      <td>1.17</td>\n",
       "      <td>0.42</td>\n",
       "      <td>0.46</td>\n",
       "      <td>0.42</td>\n",
       "      <td>0.87</td>\n",
       "      <td>4.04</td>\n",
       "      <td>1.13</td>\n",
       "      <td>2.25</td>\n",
       "      <td>3.37</td>\n",
       "      <td>...</td>\n",
       "      <td>4.693838</td>\n",
       "      <td>4.402953</td>\n",
       "      <td>5.026211</td>\n",
       "      <td>3.406643</td>\n",
       "      <td>6.943457</td>\n",
       "      <td>4.000775</td>\n",
       "      <td>4.386918</td>\n",
       "      <td>5.313510</td>\n",
       "      <td>4.714666</td>\n",
       "      <td>4.898134</td>\n",
       "    </tr>\n",
       "    <tr>\n",
       "      <th>40</th>\n",
       "      <td>2.42</td>\n",
       "      <td>0.33</td>\n",
       "      <td>0.13</td>\n",
       "      <td>1.08</td>\n",
       "      <td>0.42</td>\n",
       "      <td>0.92</td>\n",
       "      <td>2.04</td>\n",
       "      <td>0.92</td>\n",
       "      <td>2.54</td>\n",
       "      <td>2.37</td>\n",
       "      <td>...</td>\n",
       "      <td>3.782258</td>\n",
       "      <td>3.747967</td>\n",
       "      <td>4.399508</td>\n",
       "      <td>2.998221</td>\n",
       "      <td>6.364950</td>\n",
       "      <td>3.864336</td>\n",
       "      <td>4.093114</td>\n",
       "      <td>4.458238</td>\n",
       "      <td>4.585729</td>\n",
       "      <td>4.799801</td>\n",
       "    </tr>\n",
       "    <tr>\n",
       "      <th>41</th>\n",
       "      <td>2.54</td>\n",
       "      <td>0.04</td>\n",
       "      <td>0.25</td>\n",
       "      <td>0.21</td>\n",
       "      <td>1.08</td>\n",
       "      <td>0.33</td>\n",
       "      <td>3.33</td>\n",
       "      <td>0.29</td>\n",
       "      <td>2.37</td>\n",
       "      <td>3.04</td>\n",
       "      <td>...</td>\n",
       "      <td>4.543378</td>\n",
       "      <td>4.367278</td>\n",
       "      <td>4.616750</td>\n",
       "      <td>3.289071</td>\n",
       "      <td>6.537501</td>\n",
       "      <td>3.921517</td>\n",
       "      <td>4.695276</td>\n",
       "      <td>5.400736</td>\n",
       "      <td>5.113362</td>\n",
       "      <td>5.352465</td>\n",
       "    </tr>\n",
       "    <tr>\n",
       "      <th>42</th>\n",
       "      <td>3.37</td>\n",
       "      <td>0.29</td>\n",
       "      <td>0.42</td>\n",
       "      <td>1.04</td>\n",
       "      <td>1.04</td>\n",
       "      <td>0.25</td>\n",
       "      <td>5.04</td>\n",
       "      <td>0.50</td>\n",
       "      <td>1.96</td>\n",
       "      <td>2.04</td>\n",
       "      <td>...</td>\n",
       "      <td>4.178309</td>\n",
       "      <td>4.454747</td>\n",
       "      <td>4.267462</td>\n",
       "      <td>3.807005</td>\n",
       "      <td>6.401907</td>\n",
       "      <td>3.829479</td>\n",
       "      <td>4.990025</td>\n",
       "      <td>5.718162</td>\n",
       "      <td>4.536547</td>\n",
       "      <td>5.149048</td>\n",
       "    </tr>\n",
       "    <tr>\n",
       "      <th>43</th>\n",
       "      <td>2.96</td>\n",
       "      <td>0.37</td>\n",
       "      <td>0.63</td>\n",
       "      <td>1.58</td>\n",
       "      <td>1.13</td>\n",
       "      <td>0.29</td>\n",
       "      <td>6.17</td>\n",
       "      <td>1.58</td>\n",
       "      <td>2.17</td>\n",
       "      <td>1.50</td>\n",
       "      <td>...</td>\n",
       "      <td>4.747229</td>\n",
       "      <td>4.621225</td>\n",
       "      <td>5.234638</td>\n",
       "      <td>3.917110</td>\n",
       "      <td>6.799425</td>\n",
       "      <td>4.266622</td>\n",
       "      <td>5.189746</td>\n",
       "      <td>6.116732</td>\n",
       "      <td>5.035145</td>\n",
       "      <td>5.455591</td>\n",
       "    </tr>\n",
       "    <tr>\n",
       "      <th>44</th>\n",
       "      <td>3.50</td>\n",
       "      <td>0.46</td>\n",
       "      <td>0.17</td>\n",
       "      <td>1.71</td>\n",
       "      <td>0.92</td>\n",
       "      <td>0.50</td>\n",
       "      <td>6.17</td>\n",
       "      <td>0.42</td>\n",
       "      <td>2.37</td>\n",
       "      <td>3.67</td>\n",
       "      <td>...</td>\n",
       "      <td>4.183517</td>\n",
       "      <td>4.226817</td>\n",
       "      <td>4.888785</td>\n",
       "      <td>3.456535</td>\n",
       "      <td>6.808701</td>\n",
       "      <td>3.912196</td>\n",
       "      <td>4.715719</td>\n",
       "      <td>4.922444</td>\n",
       "      <td>4.330394</td>\n",
       "      <td>4.971470</td>\n",
       "    </tr>\n",
       "    <tr>\n",
       "      <th>45</th>\n",
       "      <td>1.50</td>\n",
       "      <td>0.08</td>\n",
       "      <td>0.63</td>\n",
       "      <td>0.75</td>\n",
       "      <td>2.88</td>\n",
       "      <td>0.37</td>\n",
       "      <td>2.96</td>\n",
       "      <td>0.37</td>\n",
       "      <td>3.83</td>\n",
       "      <td>2.96</td>\n",
       "      <td>...</td>\n",
       "      <td>4.652566</td>\n",
       "      <td>4.307786</td>\n",
       "      <td>4.648135</td>\n",
       "      <td>3.646710</td>\n",
       "      <td>7.460630</td>\n",
       "      <td>4.242706</td>\n",
       "      <td>4.970354</td>\n",
       "      <td>5.696753</td>\n",
       "      <td>4.646222</td>\n",
       "      <td>5.684442</td>\n",
       "    </tr>\n",
       "    <tr>\n",
       "      <th>46</th>\n",
       "      <td>0.71</td>\n",
       "      <td>0.17</td>\n",
       "      <td>0.00</td>\n",
       "      <td>0.33</td>\n",
       "      <td>2.17</td>\n",
       "      <td>0.13</td>\n",
       "      <td>2.00</td>\n",
       "      <td>0.58</td>\n",
       "      <td>1.83</td>\n",
       "      <td>3.50</td>\n",
       "      <td>...</td>\n",
       "      <td>5.196062</td>\n",
       "      <td>5.307624</td>\n",
       "      <td>5.864346</td>\n",
       "      <td>4.715778</td>\n",
       "      <td>8.594056</td>\n",
       "      <td>5.022350</td>\n",
       "      <td>6.142685</td>\n",
       "      <td>6.390996</td>\n",
       "      <td>5.896200</td>\n",
       "      <td>6.101791</td>\n",
       "    </tr>\n",
       "    <tr>\n",
       "      <th>47</th>\n",
       "      <td>1.25</td>\n",
       "      <td>0.00</td>\n",
       "      <td>0.08</td>\n",
       "      <td>1.04</td>\n",
       "      <td>0.00</td>\n",
       "      <td>0.25</td>\n",
       "      <td>4.25</td>\n",
       "      <td>0.17</td>\n",
       "      <td>1.50</td>\n",
       "      <td>2.67</td>\n",
       "      <td>...</td>\n",
       "      <td>4.276420</td>\n",
       "      <td>4.176509</td>\n",
       "      <td>4.906768</td>\n",
       "      <td>3.525402</td>\n",
       "      <td>6.677397</td>\n",
       "      <td>4.118525</td>\n",
       "      <td>4.526871</td>\n",
       "      <td>5.234852</td>\n",
       "      <td>4.436854</td>\n",
       "      <td>5.278304</td>\n",
       "    </tr>\n",
       "    <tr>\n",
       "      <th>48</th>\n",
       "      <td>2.46</td>\n",
       "      <td>0.21</td>\n",
       "      <td>0.00</td>\n",
       "      <td>0.04</td>\n",
       "      <td>1.87</td>\n",
       "      <td>0.17</td>\n",
       "      <td>5.88</td>\n",
       "      <td>0.00</td>\n",
       "      <td>3.21</td>\n",
       "      <td>3.08</td>\n",
       "      <td>...</td>\n",
       "      <td>5.202315</td>\n",
       "      <td>4.994491</td>\n",
       "      <td>5.716042</td>\n",
       "      <td>4.609426</td>\n",
       "      <td>6.763319</td>\n",
       "      <td>4.747201</td>\n",
       "      <td>5.052987</td>\n",
       "      <td>6.318558</td>\n",
       "      <td>5.832851</td>\n",
       "      <td>6.361247</td>\n",
       "    </tr>\n",
       "    <tr>\n",
       "      <th>49</th>\n",
       "      <td>4.04</td>\n",
       "      <td>0.46</td>\n",
       "      <td>0.04</td>\n",
       "      <td>1.29</td>\n",
       "      <td>1.63</td>\n",
       "      <td>0.33</td>\n",
       "      <td>5.09</td>\n",
       "      <td>1.13</td>\n",
       "      <td>4.46</td>\n",
       "      <td>1.21</td>\n",
       "      <td>...</td>\n",
       "      <td>4.607095</td>\n",
       "      <td>4.072104</td>\n",
       "      <td>4.688001</td>\n",
       "      <td>4.114166</td>\n",
       "      <td>6.191738</td>\n",
       "      <td>4.281911</td>\n",
       "      <td>4.630270</td>\n",
       "      <td>5.664730</td>\n",
       "      <td>4.986893</td>\n",
       "      <td>5.343695</td>\n",
       "    </tr>\n",
       "    <tr>\n",
       "      <th>50</th>\n",
       "      <td>2.29</td>\n",
       "      <td>0.00</td>\n",
       "      <td>0.04</td>\n",
       "      <td>0.13</td>\n",
       "      <td>1.21</td>\n",
       "      <td>0.00</td>\n",
       "      <td>6.50</td>\n",
       "      <td>0.37</td>\n",
       "      <td>2.83</td>\n",
       "      <td>1.96</td>\n",
       "      <td>...</td>\n",
       "      <td>5.503973</td>\n",
       "      <td>5.535018</td>\n",
       "      <td>5.430421</td>\n",
       "      <td>4.695591</td>\n",
       "      <td>6.607478</td>\n",
       "      <td>4.812631</td>\n",
       "      <td>5.154710</td>\n",
       "      <td>6.921477</td>\n",
       "      <td>5.799339</td>\n",
       "      <td>6.260802</td>\n",
       "    </tr>\n",
       "    <tr>\n",
       "      <th>51</th>\n",
       "      <td>2.88</td>\n",
       "      <td>0.04</td>\n",
       "      <td>0.54</td>\n",
       "      <td>0.92</td>\n",
       "      <td>1.21</td>\n",
       "      <td>0.33</td>\n",
       "      <td>2.62</td>\n",
       "      <td>0.71</td>\n",
       "      <td>3.92</td>\n",
       "      <td>1.79</td>\n",
       "      <td>...</td>\n",
       "      <td>4.768590</td>\n",
       "      <td>4.269109</td>\n",
       "      <td>5.399759</td>\n",
       "      <td>3.784468</td>\n",
       "      <td>6.303056</td>\n",
       "      <td>4.409732</td>\n",
       "      <td>4.901944</td>\n",
       "      <td>5.313674</td>\n",
       "      <td>5.095079</td>\n",
       "      <td>5.537990</td>\n",
       "    </tr>\n",
       "    <tr>\n",
       "      <th>52</th>\n",
       "      <td>0.67</td>\n",
       "      <td>0.46</td>\n",
       "      <td>0.33</td>\n",
       "      <td>0.79</td>\n",
       "      <td>1.96</td>\n",
       "      <td>0.42</td>\n",
       "      <td>4.58</td>\n",
       "      <td>1.83</td>\n",
       "      <td>2.13</td>\n",
       "      <td>3.00</td>\n",
       "      <td>...</td>\n",
       "      <td>4.872562</td>\n",
       "      <td>4.510556</td>\n",
       "      <td>4.674302</td>\n",
       "      <td>3.956735</td>\n",
       "      <td>6.834899</td>\n",
       "      <td>4.398782</td>\n",
       "      <td>5.976053</td>\n",
       "      <td>5.701056</td>\n",
       "      <td>5.017232</td>\n",
       "      <td>5.488104</td>\n",
       "    </tr>\n",
       "    <tr>\n",
       "      <th>53</th>\n",
       "      <td>3.00</td>\n",
       "      <td>0.08</td>\n",
       "      <td>0.00</td>\n",
       "      <td>0.13</td>\n",
       "      <td>2.50</td>\n",
       "      <td>0.17</td>\n",
       "      <td>7.12</td>\n",
       "      <td>0.71</td>\n",
       "      <td>4.71</td>\n",
       "      <td>3.71</td>\n",
       "      <td>...</td>\n",
       "      <td>4.332868</td>\n",
       "      <td>4.992835</td>\n",
       "      <td>5.054074</td>\n",
       "      <td>3.534174</td>\n",
       "      <td>5.909188</td>\n",
       "      <td>4.227295</td>\n",
       "      <td>6.323626</td>\n",
       "      <td>5.804934</td>\n",
       "      <td>5.805996</td>\n",
       "      <td>6.491561</td>\n",
       "    </tr>\n",
       "  </tbody>\n",
       "</table>\n",
       "<p>53 rows × 48 columns</p>\n",
       "</div>"
      ],
      "text/plain": [
       "       min                                                        ...  \\\n",
       "       BEL   BIR   CLA   CLO   DUB   KIL   MAL   MUL   ROS   RPT  ...   \n",
       "Week                                                              ...   \n",
       "1     0.58  0.13  0.00  0.58  2.62  0.37  4.17  0.54  3.79  2.62  ...   \n",
       "2     1.71  0.71  0.37  0.33  1.58  0.17  3.63  0.50  3.54  2.00  ...   \n",
       "3     1.87  0.04  0.46  0.04  0.46  0.08  4.63  0.46  3.00  1.63  ...   \n",
       "4     0.13  0.17  0.42  0.46  0.54  0.50  3.25  0.46  2.75  0.67  ...   \n",
       "5     1.96  0.00  0.21  0.50  1.33  0.37  4.83  0.29  3.21  2.71  ...   \n",
       "6     2.04  0.13  0.46  0.67  1.75  0.33  5.29  0.50  3.67  2.79  ...   \n",
       "7     2.67  0.00  0.17  0.83  2.79  0.42  5.09  0.83  3.50  2.92  ...   \n",
       "8     2.17  0.04  0.25  0.75  1.46  0.67  3.04  0.96  2.37  1.54  ...   \n",
       "9     2.13  0.21  0.96  1.75  1.08  0.58  3.17  1.17  2.50  0.67  ...   \n",
       "10    2.21  0.00  1.08  0.25  1.08  0.50  2.46  0.54  3.42  2.29  ...   \n",
       "11    2.25  0.33  0.67  0.71  2.29  0.87  4.54  1.71  2.92  1.46  ...   \n",
       "12    2.96  0.13  1.83  0.37  3.50  0.67  3.21  1.25  3.17  2.92  ...   \n",
       "13    2.50  0.25  0.96  1.67  2.04  1.08  2.04  1.17  2.71  2.79  ...   \n",
       "14    2.88  0.29  1.25  1.50  1.42  1.63  3.71  1.17  3.04  3.88  ...   \n",
       "15    4.46  0.79  1.25  1.38  2.13  1.25  4.33  1.46  1.75  4.42  ...   \n",
       "16    3.21  0.21  1.46  1.38  1.33  0.63  4.17  1.38  3.33  3.67  ...   \n",
       "17    3.75  0.17  1.38  0.50  1.21  0.83  2.21  1.54  2.54  3.46  ...   \n",
       "18    3.29  0.29  0.54  1.29  0.92  0.46  2.58  0.67  3.58  1.63  ...   \n",
       "19    4.71  0.13  1.38  1.83  1.63  1.04  3.33  1.13  2.29  3.54  ...   \n",
       "20    4.12  0.54  1.67  1.42  1.21  0.92  3.58  1.38  3.46  2.42  ...   \n",
       "21    3.21  0.04  1.29  0.96  0.83  1.08  4.04  1.00  3.04  2.62  ...   \n",
       "22    2.67  0.83  1.42  0.92  0.83  1.38  1.75  0.96  3.50  2.04  ...   \n",
       "23    4.04  0.00  1.33  0.87  0.21  0.71  2.21  0.50  2.75  2.17  ...   \n",
       "24    3.08  0.71  0.75  0.54  1.46  1.21  2.79  1.50  1.87  1.00  ...   \n",
       "25    2.96  1.25  1.00  0.79  1.75  1.25  3.08  1.67  4.21  2.92  ...   \n",
       "26    4.21  0.25  1.00  1.17  1.79  1.92  4.54  1.71  1.83  3.46  ...   \n",
       "27    4.04  0.50  0.21  0.96  1.46  1.29  4.50  1.29  2.83  2.00  ...   \n",
       "28    3.25  0.29  0.37  0.67  0.83  0.75  2.13  0.54  3.42  2.75  ...   \n",
       "29    3.33  0.25  0.67  0.37  1.38  1.17  2.29  0.37  2.92  1.71  ...   \n",
       "30    3.58  0.13  1.13  0.92  1.42  0.96  2.88  0.46  2.50  1.25  ...   \n",
       "31    3.46  0.46  0.46  0.67  1.38  1.63  2.25  1.54  3.08  2.79  ...   \n",
       "32    3.29  0.71  0.71  0.46  0.92  1.42  3.04  0.58  4.21  2.67  ...   \n",
       "33    1.58  0.37  0.63  0.79  0.71  0.83  2.17  0.87  2.92  3.17  ...   \n",
       "34    1.63  0.21  0.08  0.13  0.71  1.21  3.37  1.50  3.54  2.42  ...   \n",
       "35    2.67  0.08  0.71  0.04  0.37  0.83  3.83  0.54  2.42  0.96  ...   \n",
       "36    1.63  0.54  0.54  0.13  1.25  0.87  3.37  0.33  2.29  1.50  ...   \n",
       "37    2.54  0.21  0.42  0.29  1.42  0.58  2.83  0.46  2.96  1.79  ...   \n",
       "38    2.79  0.58  0.29  0.29  0.54  0.46  0.67  0.67  2.37  0.79  ...   \n",
       "39    2.21  1.17  0.42  0.46  0.42  0.87  4.04  1.13  2.25  3.37  ...   \n",
       "40    2.42  0.33  0.13  1.08  0.42  0.92  2.04  0.92  2.54  2.37  ...   \n",
       "41    2.54  0.04  0.25  0.21  1.08  0.33  3.33  0.29  2.37  3.04  ...   \n",
       "42    3.37  0.29  0.42  1.04  1.04  0.25  5.04  0.50  1.96  2.04  ...   \n",
       "43    2.96  0.37  0.63  1.58  1.13  0.29  6.17  1.58  2.17  1.50  ...   \n",
       "44    3.50  0.46  0.17  1.71  0.92  0.50  6.17  0.42  2.37  3.67  ...   \n",
       "45    1.50  0.08  0.63  0.75  2.88  0.37  2.96  0.37  3.83  2.96  ...   \n",
       "46    0.71  0.17  0.00  0.33  2.17  0.13  2.00  0.58  1.83  3.50  ...   \n",
       "47    1.25  0.00  0.08  1.04  0.00  0.25  4.25  0.17  1.50  2.67  ...   \n",
       "48    2.46  0.21  0.00  0.04  1.87  0.17  5.88  0.00  3.21  3.08  ...   \n",
       "49    4.04  0.46  0.04  1.29  1.63  0.33  5.09  1.13  4.46  1.21  ...   \n",
       "50    2.29  0.00  0.04  0.13  1.21  0.00  6.50  0.37  2.83  1.96  ...   \n",
       "51    2.88  0.04  0.54  0.92  1.21  0.33  2.62  0.71  3.92  1.79  ...   \n",
       "52    0.67  0.46  0.33  0.79  1.96  0.42  4.58  1.83  2.13  3.00  ...   \n",
       "53    3.00  0.08  0.00  0.13  2.50  0.17  7.12  0.71  4.71  3.71  ...   \n",
       "\n",
       "           std                                                              \\\n",
       "           CLA       CLO       DUB       KIL       MAL       MUL       ROS   \n",
       "Week                                                                         \n",
       "1     5.572594  5.290276  5.062046  4.687681  7.047385  4.641781  5.589253   \n",
       "2     5.319094  5.275913  6.041102  4.490551  7.145932  5.024454  5.668410   \n",
       "3     4.359348  4.775379  5.268464  4.154033  6.624527  4.490933  5.650908   \n",
       "4     5.428608  5.188772  5.218766  4.388357  7.634472  4.976123  5.442970   \n",
       "5     5.033435  4.991521  5.161353  3.854631  6.620860  4.512875  5.330043   \n",
       "6     4.565358  4.624377  4.961367  3.764455  6.092634  4.627897  4.923072   \n",
       "7     5.385052  5.241451  5.471027  4.145513  6.819665  4.769665  5.015288   \n",
       "8     4.955935  5.096524  5.629268  4.135992  7.251216  4.655384  6.000005   \n",
       "9     4.695696  4.548139  5.030806  3.611449  6.191920  3.891743  4.734627   \n",
       "10    4.706714  4.978696  5.472030  4.296609  6.572057  4.459569  6.115155   \n",
       "11    5.352835  5.112287  5.385487  4.146945  7.428510  4.738673  5.654429   \n",
       "12    4.613769  4.517893  5.248829  3.881174  6.902719  4.547905  5.322566   \n",
       "13    4.487024  4.379889  4.933781  3.235555  6.644671  4.486575  4.806939   \n",
       "14    4.188499  4.384778  5.179663  3.503805  6.979889  4.177817  5.490509   \n",
       "15    4.593282  4.272218  5.047086  3.513320  6.795427  4.202997  4.781080   \n",
       "16    4.139256  4.220644  4.574593  3.561543  5.328738  3.766336  5.032650   \n",
       "17    3.896546  4.217093  4.574245  3.254163  6.018248  3.729198  4.794157   \n",
       "18    4.174833  4.082519  4.145967  3.045277  6.216011  3.830264  4.085285   \n",
       "19    4.271872  4.348034  4.430291  3.432018  5.699596  3.782671  5.305562   \n",
       "20    4.131662  4.520118  4.893045  3.371625  5.865042  4.167407  4.502200   \n",
       "21    3.836572  3.691034  4.233411  3.055061  5.258812  3.767712  4.943086   \n",
       "22    3.363868  3.354776  3.496048  2.279229  5.001233  3.387331  5.022040   \n",
       "23    3.478149  3.366850  3.686859  2.533931  5.383357  3.108832  5.046720   \n",
       "24    3.664466  3.994689  4.065439  2.725403  5.419266  3.368293  4.881431   \n",
       "25    4.100241  4.260790  4.634523  3.145359  5.873487  3.910905  3.544629   \n",
       "26    3.029853  3.233524  3.547179  2.348039  4.516285  2.893628  3.620651   \n",
       "27    3.423317  3.720332  3.758722  2.686712  5.292558  3.192081  3.314345   \n",
       "28    3.709763  3.662487  3.779491  2.669568  5.565273  3.458463  3.661512   \n",
       "29    3.603905  3.733708  3.943016  2.539948  5.472898  3.259089  3.820782   \n",
       "30    3.611669  3.470866  3.734464  2.358152  5.055287  3.199508  3.767112   \n",
       "31    3.602100  3.502351  3.631415  2.204732  5.053851  2.995495  3.403761   \n",
       "32    3.609097  3.676547  3.488207  2.491611  5.353812  3.291622  3.639591   \n",
       "33    4.070338  4.084187  4.241708  3.110557  5.587084  3.640329  4.186147   \n",
       "34    4.362172  4.206738  4.494953  2.974151  5.642352  3.564286  3.808310   \n",
       "35    4.198024  4.115397  4.142594  2.961108  5.962103  3.655814  4.254049   \n",
       "36    3.677473  3.713513  4.211560  2.903820  5.692819  3.773584  4.378142   \n",
       "37    4.310187  4.671456  4.573940  3.653077  6.350553  4.186744  5.133529   \n",
       "38    3.683295  3.609957  3.782360  2.685250  5.420672  3.180781  4.050428   \n",
       "39    4.693838  4.402953  5.026211  3.406643  6.943457  4.000775  4.386918   \n",
       "40    3.782258  3.747967  4.399508  2.998221  6.364950  3.864336  4.093114   \n",
       "41    4.543378  4.367278  4.616750  3.289071  6.537501  3.921517  4.695276   \n",
       "42    4.178309  4.454747  4.267462  3.807005  6.401907  3.829479  4.990025   \n",
       "43    4.747229  4.621225  5.234638  3.917110  6.799425  4.266622  5.189746   \n",
       "44    4.183517  4.226817  4.888785  3.456535  6.808701  3.912196  4.715719   \n",
       "45    4.652566  4.307786  4.648135  3.646710  7.460630  4.242706  4.970354   \n",
       "46    5.196062  5.307624  5.864346  4.715778  8.594056  5.022350  6.142685   \n",
       "47    4.276420  4.176509  4.906768  3.525402  6.677397  4.118525  4.526871   \n",
       "48    5.202315  4.994491  5.716042  4.609426  6.763319  4.747201  5.052987   \n",
       "49    4.607095  4.072104  4.688001  4.114166  6.191738  4.281911  4.630270   \n",
       "50    5.503973  5.535018  5.430421  4.695591  6.607478  4.812631  5.154710   \n",
       "51    4.768590  4.269109  5.399759  3.784468  6.303056  4.409732  4.901944   \n",
       "52    4.872562  4.510556  4.674302  3.956735  6.834899  4.398782  5.976053   \n",
       "53    4.332868  4.992835  5.054074  3.534174  5.909188  4.227295  6.323626   \n",
       "\n",
       "                                    \n",
       "           RPT       SHA       VAL  \n",
       "Week                                \n",
       "1     6.341312  5.285201  5.976741  \n",
       "2     6.493246  6.238574  6.445335  \n",
       "3     6.323325  4.839467  5.487427  \n",
       "4     6.558873  5.630552  6.062601  \n",
       "5     5.712026  5.038396  5.947208  \n",
       "6     5.620867  4.991844  5.845671  \n",
       "7     5.916627  5.734126  5.974678  \n",
       "8     5.923096  5.317412  5.428889  \n",
       "9     5.240324  5.018766  5.206450  \n",
       "10    6.165086  5.309196  5.842768  \n",
       "11    6.412912  5.410475  5.553335  \n",
       "12    5.509073  5.160086  5.109913  \n",
       "13    5.278774  4.994303  5.126852  \n",
       "14    5.698092  5.039414  5.048327  \n",
       "15    5.335705  4.884393  4.679762  \n",
       "16    5.248461  4.661589  5.032893  \n",
       "17    5.378706  4.672307  4.758561  \n",
       "18    4.367054  4.466483  4.274369  \n",
       "19    5.517038  4.751922  4.345500  \n",
       "20    5.404169  4.920203  4.876184  \n",
       "21    5.200316  4.919717  4.471767  \n",
       "22    4.053188  3.758069  3.521804  \n",
       "23    4.516349  4.021395  3.909693  \n",
       "24    4.410570  3.915909  4.503438  \n",
       "25    4.415008  4.522242  4.116320  \n",
       "26    3.868826  3.565433  3.476639  \n",
       "27    4.742847  4.019936  3.715586  \n",
       "28    4.661313  4.295285  3.932700  \n",
       "29    4.578130  3.713357  3.921746  \n",
       "30    4.056483  3.932700  3.535041  \n",
       "31    4.143365  3.830133  3.691241  \n",
       "32    3.982815  3.953439  4.076909  \n",
       "33    4.914926  4.559596  4.180112  \n",
       "34    4.874965  4.628354  4.372665  \n",
       "35    4.976603  5.169258  4.816354  \n",
       "36    5.086312  4.347830  4.585837  \n",
       "37    5.662910  5.095621  4.902647  \n",
       "38    4.585719  3.992737  4.646788  \n",
       "39    5.313510  4.714666  4.898134  \n",
       "40    4.458238  4.585729  4.799801  \n",
       "41    5.400736  5.113362  5.352465  \n",
       "42    5.718162  4.536547  5.149048  \n",
       "43    6.116732  5.035145  5.455591  \n",
       "44    4.922444  4.330394  4.971470  \n",
       "45    5.696753  4.646222  5.684442  \n",
       "46    6.390996  5.896200  6.101791  \n",
       "47    5.234852  4.436854  5.278304  \n",
       "48    6.318558  5.832851  6.361247  \n",
       "49    5.664730  4.986893  5.343695  \n",
       "50    6.921477  5.799339  6.260802  \n",
       "51    5.313674  5.095079  5.537990  \n",
       "52    5.701056  5.017232  5.488104  \n",
       "53    5.804934  5.805996  6.491561  \n",
       "\n",
       "[53 rows x 48 columns]"
      ]
     },
     "execution_count": 811,
     "metadata": {},
     "output_type": "execute_result"
    }
   ],
   "source": [
    "data.pivot_table(values= ['RPT', 'VAL', 'ROS', 'KIL', 'SHA', 'BIR', 'DUB',\n",
    "       'CLA', 'MUL', 'CLO', 'BEL', 'MAL'], index='Week', aggfunc=['min', 'max', 'mean', 'std'])"
   ]
  },
  {
   "cell_type": "markdown",
   "metadata": {},
   "source": [
    "## The below exercises (67-70) required to use appl_1980_2014.csv  file"
   ]
  },
  {
   "cell_type": "markdown",
   "metadata": {},
   "source": [
    "### 67. Import the file appl_1980_2014.csv and assign it to a variable called 'apple'"
   ]
  },
  {
   "cell_type": "code",
   "execution_count": 812,
   "metadata": {},
   "outputs": [],
   "source": [
    "# Reading the dataset.\n",
    "apple= pd.read_csv(\"F:\\\\AnalyticslabFIles\\\\assignments\\\\python\\\\appl_1980_2014.csv\")"
   ]
  },
  {
   "cell_type": "markdown",
   "metadata": {},
   "source": [
    "### 68.  Check out the type of the columns"
   ]
  },
  {
   "cell_type": "code",
   "execution_count": 813,
   "metadata": {},
   "outputs": [
    {
     "data": {
      "text/plain": [
       "Date          object\n",
       "Open         float64\n",
       "High         float64\n",
       "Low          float64\n",
       "Close        float64\n",
       "Volume         int64\n",
       "Adj Close    float64\n",
       "dtype: object"
      ]
     },
     "execution_count": 813,
     "metadata": {},
     "output_type": "execute_result"
    }
   ],
   "source": [
    "apple.dtypes"
   ]
  },
  {
   "cell_type": "markdown",
   "metadata": {},
   "source": [
    "### 69. Transform the Date column as a datetime type"
   ]
  },
  {
   "cell_type": "code",
   "execution_count": 814,
   "metadata": {},
   "outputs": [],
   "source": [
    "apple.Date= pd.to_datetime(apple.Date)"
   ]
  },
  {
   "cell_type": "markdown",
   "metadata": {},
   "source": [
    "### 70.  Set the date as the index"
   ]
  },
  {
   "cell_type": "code",
   "execution_count": 815,
   "metadata": {},
   "outputs": [],
   "source": [
    "# Creating a new column 'Date1'.\n",
    "apple['Date1']= apple['Date'] "
   ]
  },
  {
   "cell_type": "code",
   "execution_count": 816,
   "metadata": {},
   "outputs": [],
   "source": [
    "apple.set_index(keys= ['Date'], inplace= True)"
   ]
  },
  {
   "cell_type": "markdown",
   "metadata": {},
   "source": [
    "### 71.  Is there any duplicate dates?"
   ]
  },
  {
   "cell_type": "code",
   "execution_count": 817,
   "metadata": {},
   "outputs": [
    {
     "data": {
      "text/plain": [
       "0"
      ]
     },
     "execution_count": 817,
     "metadata": {},
     "output_type": "execute_result"
    }
   ],
   "source": [
    "apple.duplicated().sum()"
   ]
  },
  {
   "cell_type": "markdown",
   "metadata": {},
   "source": [
    "### 72.  The index is from the most recent date. Sort the data so that the first entry is the oldest date."
   ]
  },
  {
   "cell_type": "code",
   "execution_count": 818,
   "metadata": {},
   "outputs": [],
   "source": [
    "apple.sort_index(ascending= True, inplace= True)"
   ]
  },
  {
   "cell_type": "code",
   "execution_count": 819,
   "metadata": {},
   "outputs": [
    {
     "data": {
      "text/html": [
       "<div>\n",
       "<style scoped>\n",
       "    .dataframe tbody tr th:only-of-type {\n",
       "        vertical-align: middle;\n",
       "    }\n",
       "\n",
       "    .dataframe tbody tr th {\n",
       "        vertical-align: top;\n",
       "    }\n",
       "\n",
       "    .dataframe thead th {\n",
       "        text-align: right;\n",
       "    }\n",
       "</style>\n",
       "<table border=\"1\" class=\"dataframe\">\n",
       "  <thead>\n",
       "    <tr style=\"text-align: right;\">\n",
       "      <th></th>\n",
       "      <th>Open</th>\n",
       "      <th>High</th>\n",
       "      <th>Low</th>\n",
       "      <th>Close</th>\n",
       "      <th>Volume</th>\n",
       "      <th>Adj Close</th>\n",
       "      <th>Date1</th>\n",
       "    </tr>\n",
       "    <tr>\n",
       "      <th>Date</th>\n",
       "      <th></th>\n",
       "      <th></th>\n",
       "      <th></th>\n",
       "      <th></th>\n",
       "      <th></th>\n",
       "      <th></th>\n",
       "      <th></th>\n",
       "    </tr>\n",
       "  </thead>\n",
       "  <tbody>\n",
       "    <tr>\n",
       "      <th>1980-12-12</th>\n",
       "      <td>28.75</td>\n",
       "      <td>28.87</td>\n",
       "      <td>28.75</td>\n",
       "      <td>28.75</td>\n",
       "      <td>117258400</td>\n",
       "      <td>0.45</td>\n",
       "      <td>1980-12-12</td>\n",
       "    </tr>\n",
       "    <tr>\n",
       "      <th>1980-12-15</th>\n",
       "      <td>27.38</td>\n",
       "      <td>27.38</td>\n",
       "      <td>27.25</td>\n",
       "      <td>27.25</td>\n",
       "      <td>43971200</td>\n",
       "      <td>0.42</td>\n",
       "      <td>1980-12-15</td>\n",
       "    </tr>\n",
       "  </tbody>\n",
       "</table>\n",
       "</div>"
      ],
      "text/plain": [
       "             Open   High    Low  Close     Volume  Adj Close      Date1\n",
       "Date                                                                   \n",
       "1980-12-12  28.75  28.87  28.75  28.75  117258400       0.45 1980-12-12\n",
       "1980-12-15  27.38  27.38  27.25  27.25   43971200       0.42 1980-12-15"
      ]
     },
     "execution_count": 819,
     "metadata": {},
     "output_type": "execute_result"
    }
   ],
   "source": [
    "apple.head(2)"
   ]
  },
  {
   "cell_type": "markdown",
   "metadata": {},
   "source": [
    "### 73. Get the last business day of each month"
   ]
  },
  {
   "cell_type": "code",
   "execution_count": 820,
   "metadata": {},
   "outputs": [
    {
     "name": "stderr",
     "output_type": "stream",
     "text": [
      "C:\\Users\\HARSH\\anaconda3\\lib\\site-packages\\pandas\\core\\arrays\\datetimes.py:691: PerformanceWarning: Non-vectorized DateOffset being applied to Series or DatetimeIndex\n",
      "  warnings.warn(\n"
     ]
    }
   ],
   "source": [
    "apple['last_business_day']= (apple['Date1'] + pd.DateOffset(day= 31)).dt.day"
   ]
  },
  {
   "cell_type": "markdown",
   "metadata": {},
   "source": [
    "### 74.  What is the difference in days between the first day and the oldest"
   ]
  },
  {
   "cell_type": "code",
   "execution_count": 821,
   "metadata": {},
   "outputs": [
    {
     "data": {
      "text/plain": [
       "Timedelta('12261 days 00:00:00')"
      ]
     },
     "execution_count": 821,
     "metadata": {},
     "output_type": "execute_result"
    }
   ],
   "source": [
    "apple['Date1'].max() - apple['Date1'].min()"
   ]
  },
  {
   "cell_type": "markdown",
   "metadata": {},
   "source": [
    "### 75.  How many months in the data we have?"
   ]
  },
  {
   "cell_type": "code",
   "execution_count": 822,
   "metadata": {},
   "outputs": [],
   "source": [
    "# Creating a new column 'Month_num'.\n",
    "apple['Month_num']= apple['Date1'].dt.month"
   ]
  },
  {
   "cell_type": "code",
   "execution_count": 823,
   "metadata": {},
   "outputs": [
    {
     "data": {
      "text/plain": [
       "12"
      ]
     },
     "execution_count": 823,
     "metadata": {},
     "output_type": "execute_result"
    }
   ],
   "source": [
    "apple.Month_num.nunique()"
   ]
  },
  {
   "cell_type": "markdown",
   "metadata": {},
   "source": [
    "## Section-8: The purpose of the below exercises is to understand how to create basic graphs"
   ]
  },
  {
   "cell_type": "markdown",
   "metadata": {},
   "source": [
    "### 76. Plot the 'Adj Close' value. Set the size of the figure to 13.5 x 9 inches"
   ]
  },
  {
   "cell_type": "code",
   "execution_count": 824,
   "metadata": {},
   "outputs": [
    {
     "data": {
      "image/png": "[encoded data removed]",
      "text/plain": [
       "<Figure size 972x648 with 1 Axes>"
      ]
     },
     "metadata": {},
     "output_type": "display_data"
    }
   ],
   "source": [
    "plt.figure(figsize= (13.5, 9))\n",
    "sns.histplot(apple.loc[:, ['Adj Close']], kde= False)\n",
    "plt.show()"
   ]
  },
  {
   "cell_type": "markdown",
   "metadata": {},
   "source": [
    "## The below exercises (77-80) required to use Online_Retail.csv file"
   ]
  },
  {
   "cell_type": "markdown",
   "metadata": {},
   "source": [
    "### 77. Import the dataset from this Online_Retail.csv and assign it to a variable called online_rt"
   ]
  },
  {
   "cell_type": "code",
   "execution_count": 825,
   "metadata": {},
   "outputs": [],
   "source": [
    "# Reading the dataset.\n",
    "online_rt= pd.read_csv(\"F:\\\\AnalyticslabFIles\\\\assignments\\\\python\\\\Online_Retail.csv\", encoding= 'unicode_escape')"
   ]
  },
  {
   "cell_type": "code",
   "execution_count": 826,
   "metadata": {},
   "outputs": [
    {
     "data": {
      "text/html": [
       "<div>\n",
       "<style scoped>\n",
       "    .dataframe tbody tr th:only-of-type {\n",
       "        vertical-align: middle;\n",
       "    }\n",
       "\n",
       "    .dataframe tbody tr th {\n",
       "        vertical-align: top;\n",
       "    }\n",
       "\n",
       "    .dataframe thead th {\n",
       "        text-align: right;\n",
       "    }\n",
       "</style>\n",
       "<table border=\"1\" class=\"dataframe\">\n",
       "  <thead>\n",
       "    <tr style=\"text-align: right;\">\n",
       "      <th></th>\n",
       "      <th>InvoiceNo</th>\n",
       "      <th>StockCode</th>\n",
       "      <th>Description</th>\n",
       "      <th>Quantity</th>\n",
       "      <th>InvoiceDate</th>\n",
       "      <th>UnitPrice</th>\n",
       "      <th>CustomerID</th>\n",
       "      <th>Country</th>\n",
       "    </tr>\n",
       "  </thead>\n",
       "  <tbody>\n",
       "    <tr>\n",
       "      <th>0</th>\n",
       "      <td>536365</td>\n",
       "      <td>85123A</td>\n",
       "      <td>WHITE HANGING HEART T-LIGHT HOLDER</td>\n",
       "      <td>6</td>\n",
       "      <td>12/1/10 8:26</td>\n",
       "      <td>2.55</td>\n",
       "      <td>17850.0</td>\n",
       "      <td>United Kingdom</td>\n",
       "    </tr>\n",
       "    <tr>\n",
       "      <th>1</th>\n",
       "      <td>536365</td>\n",
       "      <td>71053</td>\n",
       "      <td>WHITE METAL LANTERN</td>\n",
       "      <td>6</td>\n",
       "      <td>12/1/10 8:26</td>\n",
       "      <td>3.39</td>\n",
       "      <td>17850.0</td>\n",
       "      <td>United Kingdom</td>\n",
       "    </tr>\n",
       "  </tbody>\n",
       "</table>\n",
       "</div>"
      ],
      "text/plain": [
       "  InvoiceNo StockCode                         Description  Quantity  \\\n",
       "0    536365    85123A  WHITE HANGING HEART T-LIGHT HOLDER         6   \n",
       "1    536365     71053                 WHITE METAL LANTERN         6   \n",
       "\n",
       "    InvoiceDate  UnitPrice  CustomerID         Country  \n",
       "0  12/1/10 8:26       2.55     17850.0  United Kingdom  \n",
       "1  12/1/10 8:26       3.39     17850.0  United Kingdom  "
      ]
     },
     "execution_count": 826,
     "metadata": {},
     "output_type": "execute_result"
    }
   ],
   "source": [
    "# Viewing the dataset.\n",
    "online_rt.head(2)"
   ]
  },
  {
   "cell_type": "markdown",
   "metadata": {},
   "source": [
    "### 78. Create a barchart with the 10 countries that have the most 'Quantity' ordered except UK"
   ]
  },
  {
   "cell_type": "code",
   "execution_count": 827,
   "metadata": {},
   "outputs": [
    {
     "data": {
      "image/png": "[encoded data removed]",
      "text/plain": [
       "<Figure size 432x288 with 1 Axes>"
      ]
     },
     "metadata": {},
     "output_type": "display_data"
    }
   ],
   "source": [
    "online_rt.loc[online_rt.Country != 'United Kingdom', 'Country'].value_counts().head(10).plot(kind= 'bar')\n",
    "plt.show()"
   ]
  },
  {
   "cell_type": "markdown",
   "metadata": {},
   "source": [
    "### 79.  Exclude negative Quatity entries"
   ]
  },
  {
   "cell_type": "code",
   "execution_count": 828,
   "metadata": {},
   "outputs": [
    {
     "data": {
      "text/html": [
       "<div>\n",
       "<style scoped>\n",
       "    .dataframe tbody tr th:only-of-type {\n",
       "        vertical-align: middle;\n",
       "    }\n",
       "\n",
       "    .dataframe tbody tr th {\n",
       "        vertical-align: top;\n",
       "    }\n",
       "\n",
       "    .dataframe thead th {\n",
       "        text-align: right;\n",
       "    }\n",
       "</style>\n",
       "<table border=\"1\" class=\"dataframe\">\n",
       "  <thead>\n",
       "    <tr style=\"text-align: right;\">\n",
       "      <th></th>\n",
       "      <th>InvoiceNo</th>\n",
       "      <th>StockCode</th>\n",
       "      <th>Description</th>\n",
       "      <th>Quantity</th>\n",
       "      <th>InvoiceDate</th>\n",
       "      <th>UnitPrice</th>\n",
       "      <th>CustomerID</th>\n",
       "      <th>Country</th>\n",
       "    </tr>\n",
       "  </thead>\n",
       "  <tbody>\n",
       "    <tr>\n",
       "      <th>0</th>\n",
       "      <td>536365</td>\n",
       "      <td>85123A</td>\n",
       "      <td>WHITE HANGING HEART T-LIGHT HOLDER</td>\n",
       "      <td>6</td>\n",
       "      <td>12/1/10 8:26</td>\n",
       "      <td>2.55</td>\n",
       "      <td>17850.0</td>\n",
       "      <td>United Kingdom</td>\n",
       "    </tr>\n",
       "    <tr>\n",
       "      <th>1</th>\n",
       "      <td>536365</td>\n",
       "      <td>71053</td>\n",
       "      <td>WHITE METAL LANTERN</td>\n",
       "      <td>6</td>\n",
       "      <td>12/1/10 8:26</td>\n",
       "      <td>3.39</td>\n",
       "      <td>17850.0</td>\n",
       "      <td>United Kingdom</td>\n",
       "    </tr>\n",
       "  </tbody>\n",
       "</table>\n",
       "</div>"
      ],
      "text/plain": [
       "  InvoiceNo StockCode                         Description  Quantity  \\\n",
       "0    536365    85123A  WHITE HANGING HEART T-LIGHT HOLDER         6   \n",
       "1    536365     71053                 WHITE METAL LANTERN         6   \n",
       "\n",
       "    InvoiceDate  UnitPrice  CustomerID         Country  \n",
       "0  12/1/10 8:26       2.55     17850.0  United Kingdom  \n",
       "1  12/1/10 8:26       3.39     17850.0  United Kingdom  "
      ]
     },
     "execution_count": 828,
     "metadata": {},
     "output_type": "execute_result"
    }
   ],
   "source": [
    "online_rt.loc[online_rt.Quantity > 0, :].head(2)"
   ]
  },
  {
   "cell_type": "markdown",
   "metadata": {},
   "source": [
    "### 80. Create a scatterplot with the Quantity per UnitPrice by CustomerID for the top 3 Countries\n",
    "Hint: First we need to find top-3 countries based on revenue, then create scater plot between Quantity and Unitprice for each country separately\n"
   ]
  },
  {
   "cell_type": "code",
   "execution_count": 829,
   "metadata": {},
   "outputs": [],
   "source": [
    "# Creating a new column 'rev'.\n",
    "online_rt.loc[:, 'rev'] = online_rt.Quantity * online_rt.UnitPrice"
   ]
  },
  {
   "cell_type": "code",
   "execution_count": 830,
   "metadata": {},
   "outputs": [
    {
     "data": {
      "text/plain": [
       "0    United Kingdom\n",
       "1       Netherlands\n",
       "2              EIRE\n",
       "Name: Country, dtype: object"
      ]
     },
     "execution_count": 830,
     "metadata": {},
     "output_type": "execute_result"
    }
   ],
   "source": [
    "# Finding top-3 countries based on revenue.\n",
    "online_rt.pivot_table(values= 'rev', index= 'Country', aggfunc= 'sum').sort_values(by='rev', ascending= False).reset_index()['Country'].head(3)"
   ]
  },
  {
   "cell_type": "code",
   "execution_count": 831,
   "metadata": {},
   "outputs": [
    {
     "name": "stderr",
     "output_type": "stream",
     "text": [
      "*c* argument looks like a single numeric RGB or RGBA sequence, which should be avoided as value-mapping will have precedence in case its length matches with *x* & *y*.  Please use the *color* keyword-argument or provide a 2-D array with a single row if you intend to specify the same RGB or RGBA value for all points.\n"
     ]
    },
    {
     "data": {
      "image/png": "[encoded data removed]",
      "text/plain": [
       "<Figure size 720x360 with 1 Axes>"
      ]
     },
     "metadata": {},
     "output_type": "display_data"
    }
   ],
   "source": [
    "# Plotting scatter plot for each of the top 3 countries\n",
    "\n",
    "# For United Kingdom.\n",
    "online_rt.loc[online_rt.Country == 'United Kingdom', :].plot(x= 'Quantity', y='UnitPrice', kind= 'scatter', figsize= (10,5))\n",
    "plt.show()"
   ]
  },
  {
   "cell_type": "code",
   "execution_count": 832,
   "metadata": {},
   "outputs": [
    {
     "name": "stderr",
     "output_type": "stream",
     "text": [
      "*c* argument looks like a single numeric RGB or RGBA sequence, which should be avoided as value-mapping will have precedence in case its length matches with *x* & *y*.  Please use the *color* keyword-argument or provide a 2-D array with a single row if you intend to specify the same RGB or RGBA value for all points.\n"
     ]
    },
    {
     "data": {
      "image/png": "[encoded data removed]",
      "text/plain": [
       "<Figure size 720x360 with 1 Axes>"
      ]
     },
     "metadata": {},
     "output_type": "display_data"
    }
   ],
   "source": [
    "# For Netherlands.\n",
    "online_rt.loc[online_rt.Country == 'Netherlands', :].plot(x= 'Quantity', y='UnitPrice', kind= 'scatter', figsize= (10,5))\n",
    "plt.show()"
   ]
  },
  {
   "cell_type": "code",
   "execution_count": 833,
   "metadata": {},
   "outputs": [
    {
     "name": "stderr",
     "output_type": "stream",
     "text": [
      "*c* argument looks like a single numeric RGB or RGBA sequence, which should be avoided as value-mapping will have precedence in case its length matches with *x* & *y*.  Please use the *color* keyword-argument or provide a 2-D array with a single row if you intend to specify the same RGB or RGBA value for all points.\n"
     ]
    },
    {
     "data": {
      "image/png": "[encoded data removed]",
      "text/plain": [
       "<Figure size 720x360 with 1 Axes>"
      ]
     },
     "metadata": {},
     "output_type": "display_data"
    }
   ],
   "source": [
    "# For EIRE.\n",
    "online_rt.loc[online_rt.Country == 'EIRE', :].plot(x= 'Quantity', y='UnitPrice', kind= 'scatter', figsize= (10,5))\n",
    "plt.show()"
   ]
  },
  {
   "cell_type": "markdown",
   "metadata": {},
   "source": [
    "## The below exercises (81-90) required to use FMCG_Company_Data_2019.csv file"
   ]
  },
  {
   "cell_type": "markdown",
   "metadata": {},
   "source": [
    "### 81. Import the dataset FMCG_Company_Data_2019.csv and assign it to a variable called company_data"
   ]
  },
  {
   "cell_type": "code",
   "execution_count": 834,
   "metadata": {},
   "outputs": [],
   "source": [
    "# Reading the dataset.\n",
    "company_data= pd.read_csv(r\"F:\\AnalyticslabFIles\\assignments\\python\\FMCG_Company_Data_2019.csv\")"
   ]
  },
  {
   "cell_type": "code",
   "execution_count": 835,
   "metadata": {},
   "outputs": [
    {
     "data": {
      "text/html": [
       "<div>\n",
       "<style scoped>\n",
       "    .dataframe tbody tr th:only-of-type {\n",
       "        vertical-align: middle;\n",
       "    }\n",
       "\n",
       "    .dataframe tbody tr th {\n",
       "        vertical-align: top;\n",
       "    }\n",
       "\n",
       "    .dataframe thead th {\n",
       "        text-align: right;\n",
       "    }\n",
       "</style>\n",
       "<table border=\"1\" class=\"dataframe\">\n",
       "  <thead>\n",
       "    <tr style=\"text-align: right;\">\n",
       "      <th></th>\n",
       "      <th>Month</th>\n",
       "      <th>FaceCream</th>\n",
       "      <th>FaceWash</th>\n",
       "      <th>ToothPaste</th>\n",
       "      <th>Soap</th>\n",
       "      <th>Shampo</th>\n",
       "      <th>Moisturizer</th>\n",
       "      <th>Total_Units</th>\n",
       "      <th>Total_Revenue</th>\n",
       "      <th>Total_Profit</th>\n",
       "    </tr>\n",
       "  </thead>\n",
       "  <tbody>\n",
       "    <tr>\n",
       "      <th>0</th>\n",
       "      <td>Jan-19</td>\n",
       "      <td>2500</td>\n",
       "      <td>1500</td>\n",
       "      <td>5200</td>\n",
       "      <td>9200</td>\n",
       "      <td>1200</td>\n",
       "      <td>1500</td>\n",
       "      <td>21100</td>\n",
       "      <td>3584890</td>\n",
       "      <td>211000</td>\n",
       "    </tr>\n",
       "    <tr>\n",
       "      <th>1</th>\n",
       "      <td>Feb-19</td>\n",
       "      <td>2630</td>\n",
       "      <td>1200</td>\n",
       "      <td>5100</td>\n",
       "      <td>6100</td>\n",
       "      <td>2100</td>\n",
       "      <td>1200</td>\n",
       "      <td>18330</td>\n",
       "      <td>2864979</td>\n",
       "      <td>183300</td>\n",
       "    </tr>\n",
       "  </tbody>\n",
       "</table>\n",
       "</div>"
      ],
      "text/plain": [
       "    Month  FaceCream  FaceWash  ToothPaste  Soap  Shampo  Moisturizer  \\\n",
       "0  Jan-19       2500      1500        5200  9200    1200         1500   \n",
       "1  Feb-19       2630      1200        5100  6100    2100         1200   \n",
       "\n",
       "   Total_Units  Total_Revenue  Total_Profit  \n",
       "0        21100        3584890        211000  \n",
       "1        18330        2864979        183300  "
      ]
     },
     "execution_count": 835,
     "metadata": {},
     "output_type": "execute_result"
    }
   ],
   "source": [
    "# Viewing the dataset.\n",
    "company_data.head(2)"
   ]
  },
  {
   "cell_type": "markdown",
   "metadata": {},
   "source": [
    "### 82. Create line chart for Total Revenue of all months with following properties\n",
    "- X label name = Month\n",
    "- Y label name = Total Revenue"
   ]
  },
  {
   "cell_type": "code",
   "execution_count": 836,
   "metadata": {},
   "outputs": [
    {
     "data": {
      "image/png": "[encoded data removed]",
      "text/plain": [
       "<Figure size 720x360 with 1 Axes>"
      ]
     },
     "metadata": {},
     "output_type": "display_data"
    }
   ],
   "source": [
    "company_data.plot(x= 'Month', y='Total_Revenue', kind= 'line', figsize= (10,5))\n",
    "plt.legend(loc= 'lower right')\n",
    "plt.show()"
   ]
  },
  {
   "cell_type": "markdown",
   "metadata": {},
   "source": [
    "### 83. Create line chart for Total Units of all months with following properties\n",
    "- X label name = Month\n",
    "- Y label name = Total Units\n",
    "- Line Style dotted and Line-color should be red\n",
    "- Show legend at the lower right location."
   ]
  },
  {
   "cell_type": "code",
   "execution_count": 837,
   "metadata": {},
   "outputs": [
    {
     "data": {
      "image/png": "[encoded data removed]",
      "text/plain": [
       "<Figure size 720x360 with 1 Axes>"
      ]
     },
     "metadata": {},
     "output_type": "display_data"
    }
   ],
   "source": [
    "company_data.plot(x= 'Month', y='Total_Revenue', kind= 'line', figsize= (10,5),  color='red', linestyle=\"dotted\")\n",
    "plt.legend(loc= 'lower right')\n",
    "plt.show()"
   ]
  },
  {
   "cell_type": "markdown",
   "metadata": {},
   "source": [
    "### 84. Read all product sales data (Facecream, FaceWash, Toothpaste, Soap, Shampo, Moisturizer) and show it  using a multiline plot\n",
    "- Display the number of units sold per month for each product using multiline plots. (i.e., Separate Plotline for each product )."
   ]
  },
  {
   "cell_type": "code",
   "execution_count": 838,
   "metadata": {},
   "outputs": [
    {
     "data": {
      "image/png": "[encoded data removed]",
      "text/plain": [
       "<Figure size 720x360 with 1 Axes>"
      ]
     },
     "metadata": {},
     "output_type": "display_data"
    }
   ],
   "source": [
    "company_data.plot(y= ['FaceCream', 'FaceWash', 'ToothPaste', 'Soap', 'Shampo', 'Moisturizer'], x= 'Month', kind= 'line', figsize= (10, 5))\n",
    "plt.show()"
   ]
  },
  {
   "cell_type": "markdown",
   "metadata": {},
   "source": [
    "### 85. Create Bar Chart for soap of all months and Save the chart in folder"
   ]
  },
  {
   "cell_type": "code",
   "execution_count": 839,
   "metadata": {},
   "outputs": [
    {
     "data": {
      "image/png": "[encoded data removed]",
      "text/plain": [
       "<Figure size 720x360 with 1 Axes>"
      ]
     },
     "metadata": {},
     "output_type": "display_data"
    }
   ],
   "source": [
    "company_data.plot(x='Month', y='Soap', kind= 'bar', figsize= (10,5))\n",
    "plt.show()"
   ]
  },
  {
   "cell_type": "markdown",
   "metadata": {},
   "source": [
    "### 86. Create Stacked Bar Chart for Soap, Shampo, ToothPaste for each month\n",
    "The bar chart should display the number of units sold per month for each product. Add a separate bar for each product in the same chart."
   ]
  },
  {
   "cell_type": "code",
   "execution_count": 840,
   "metadata": {},
   "outputs": [
    {
     "data": {
      "text/plain": [
       "<AxesSubplot:>"
      ]
     },
     "execution_count": 840,
     "metadata": {},
     "output_type": "execute_result"
    },
    {
     "data": {
      "image/png": "[encoded data removed]",
      "text/plain": [
       "<Figure size 720x360 with 1 Axes>"
      ]
     },
     "metadata": {},
     "output_type": "display_data"
    }
   ],
   "source": [
    "company_data.pivot_table(values= ['Soap', 'Shampo', 'ToothPaste'], columns= 'Month', aggfunc= 'sum').plot(kind='bar', stacked= True, figsize= (10,5))"
   ]
  },
  {
   "cell_type": "markdown",
   "metadata": {},
   "source": [
    "### 87. Create Histogram for Total Revenue"
   ]
  },
  {
   "cell_type": "code",
   "execution_count": 841,
   "metadata": {},
   "outputs": [
    {
     "data": {
      "image/png": "[encoded data removed]",
      "text/plain": [
       "<Figure size 648x360 with 1 Axes>"
      ]
     },
     "metadata": {},
     "output_type": "display_data"
    }
   ],
   "source": [
    "sns.displot(data= company_data.Total_Revenue, kde= False, height= 5, aspect= 1.8)\n",
    "plt.show()"
   ]
  },
  {
   "cell_type": "markdown",
   "metadata": {},
   "source": [
    "### 88. Calculate total sales data (quantity) for 2019 for each product and show it using a Pie chart. Understand percentage contribution from each product"
   ]
  },
  {
   "cell_type": "code",
   "execution_count": 842,
   "metadata": {},
   "outputs": [],
   "source": [
    "# Creating a new column 'Year'.\n",
    "company_data.loc[:, 'Year'] = (pd.to_datetime(company_data.Month, format= '%b-%y')).dt.year"
   ]
  },
  {
   "cell_type": "code",
   "execution_count": 843,
   "metadata": {},
   "outputs": [
    {
     "data": {
      "image/png": "[encoded data removed]",
      "text/plain": [
       "<Figure size 720x720 with 1 Axes>"
      ]
     },
     "metadata": {},
     "output_type": "display_data"
    }
   ],
   "source": [
    "per_data= (company_data.pivot_table(values= ['FaceCream', 'FaceWash', 'ToothPaste', 'Soap', 'Shampo', 'Moisturizer'], columns= 'Year', aggfunc= 'sum')*100/company_data.Total_Units.sum())\n",
    "per_data.plot.pie(y=2019, figsize= (10, 10))\n",
    "plt.legend(loc='lower left')\n",
    "plt.show()"
   ]
  },
  {
   "cell_type": "markdown",
   "metadata": {},
   "source": [
    "### 89. Create line plots for Soap & Facewash of all months in a single plot using Subplot"
   ]
  },
  {
   "cell_type": "code",
   "execution_count": 844,
   "metadata": {},
   "outputs": [
    {
     "data": {
      "image/png": "[encoded data removed]",
      "text/plain": [
       "<Figure size 720x360 with 1 Axes>"
      ]
     },
     "metadata": {},
     "output_type": "display_data"
    }
   ],
   "source": [
    "company_data.pivot_table(values= ['Soap', 'FaceWash'], index= 'Month', aggfunc= 'sum').plot(kind= 'line', figsize= (10,5))\n",
    "plt.show()"
   ]
  },
  {
   "cell_type": "markdown",
   "metadata": {},
   "source": [
    "### 90. Create Box Plot for Total Profit variable"
   ]
  },
  {
   "cell_type": "code",
   "execution_count": 845,
   "metadata": {},
   "outputs": [
    {
     "data": {
      "image/png": "[encoded data removed]",
      "text/plain": [
       "<Figure size 432x288 with 1 Axes>"
      ]
     },
     "metadata": {},
     "output_type": "display_data"
    }
   ],
   "source": [
    "company_data.Total_Profit.plot(kind= 'box')\n",
    "plt.show()"
   ]
  },
  {
   "cell_type": "code",
   "execution_count": null,
   "metadata": {},
   "outputs": [],
   "source": []
  }
 ],
 "metadata": {
  "kernelspec": {
   "display_name": "Python 3",
   "language": "python",
   "name": "python3"
  },
  "language_info": {
   "codemirror_mode": {
    "name": "ipython",
    "version": 3
   },
   "file_extension": ".py",
   "mimetype": "text/x-python",
   "name": "python",
   "nbconvert_exporter": "python",
   "pygments_lexer": "ipython3",
   "version": "3.8.5"
  },
  "varInspector": {
   "cols": {
    "lenName": 16,
    "lenType": 16,
    "lenVar": 40
   },
   "kernels_config": {
    "python": {
     "delete_cmd_postfix": "",
     "delete_cmd_prefix": "del ",
     "library": "var_list.py",
     "varRefreshCmd": "print(var_dic_list())"
    },
    "r": {
     "delete_cmd_postfix": ") ",
     "delete_cmd_prefix": "rm(",
     "library": "var_list.r",
     "varRefreshCmd": "cat(var_dic_list()) "
    }
   },
   "types_to_exclude": [
    "module",
    "function",
    "builtin_function_or_method",
    "instance",
    "_Feature"
   ],
   "window_display": false
  }
 },
 "nbformat": 4,
 "nbformat_minor": 2
}
